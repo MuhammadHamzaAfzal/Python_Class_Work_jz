{
  "nbformat": 4,
  "nbformat_minor": 0,
  "metadata": {
    "colab": {
      "name": "Pandas.ipynb",
      "provenance": [],
      "collapsed_sections": [],
      "include_colab_link": true
    },
    "kernelspec": {
      "name": "python3",
      "display_name": "Python 3"
    }
  },
  "cells": [
    {
      "cell_type": "markdown",
      "metadata": {
        "id": "view-in-github",
        "colab_type": "text"
      },
      "source": [
        "<a href=\"https://colab.research.google.com/github/MuhammadHamzaAfzal/Python_Class_Work_jz/blob/master/Pandas.ipynb\" target=\"_parent\"><img src=\"https://colab.research.google.com/assets/colab-badge.svg\" alt=\"Open In Colab\"/></a>"
      ]
    },
    {
      "cell_type": "code",
      "metadata": {
        "id": "3GmqlGktqVRd",
        "colab_type": "code",
        "colab": {}
      },
      "source": [
        "import pandas as pd\n",
        "import numpy as np\n",
        "from numpy import nan\n"
      ],
      "execution_count": 0,
      "outputs": []
    },
    {
      "cell_type": "code",
      "metadata": {
        "id": "W2K46XkcqbYg",
        "colab_type": "code",
        "colab": {}
      },
      "source": [
        "a = [\"ahsan\",\"ali\",23,True,\"umer\",False]"
      ],
      "execution_count": 0,
      "outputs": []
    },
    {
      "cell_type": "code",
      "metadata": {
        "id": "gVs47tORrizV",
        "colab_type": "code",
        "outputId": "e2462b3c-c824-490d-f458-81c4df525724",
        "colab": {
          "base_uri": "https://localhost:8080/",
          "height": 126
        }
      },
      "source": [
        "obj1=pd.Series([23,32,46,52,66])\n",
        "obj1"
      ],
      "execution_count": 0,
      "outputs": [
        {
          "output_type": "execute_result",
          "data": {
            "text/plain": [
              "0    23\n",
              "1    32\n",
              "2    46\n",
              "3    52\n",
              "4    66\n",
              "dtype: int64"
            ]
          },
          "metadata": {
            "tags": []
          },
          "execution_count": 6
        }
      ]
    },
    {
      "cell_type": "code",
      "metadata": {
        "id": "uc8Ev78-rxMl",
        "colab_type": "code",
        "outputId": "71619176-66e6-44bb-c350-8b0f412b9c7a",
        "colab": {
          "base_uri": "https://localhost:8080/",
          "height": 35
        }
      },
      "source": [
        "obj1[2]"
      ],
      "execution_count": 0,
      "outputs": [
        {
          "output_type": "execute_result",
          "data": {
            "text/plain": [
              "46"
            ]
          },
          "metadata": {
            "tags": []
          },
          "execution_count": 7
        }
      ]
    },
    {
      "cell_type": "code",
      "metadata": {
        "id": "Gkv_HITEr9JG",
        "colab_type": "code",
        "outputId": "0ecbd41e-2f7e-49b5-8d44-a6ec2f489d72",
        "colab": {
          "base_uri": "https://localhost:8080/",
          "height": 126
        }
      },
      "source": [
        "obj1[4]=5000\n",
        "obj1"
      ],
      "execution_count": 0,
      "outputs": [
        {
          "output_type": "execute_result",
          "data": {
            "text/plain": [
              "0      23\n",
              "1      32\n",
              "2      46\n",
              "3      52\n",
              "4    5000\n",
              "dtype: int64"
            ]
          },
          "metadata": {
            "tags": []
          },
          "execution_count": 8
        }
      ]
    },
    {
      "cell_type": "code",
      "metadata": {
        "id": "ezLtcVvAsC51",
        "colab_type": "code",
        "colab": {}
      },
      "source": [
        "obj1[5]= 90\n"
      ],
      "execution_count": 0,
      "outputs": []
    },
    {
      "cell_type": "code",
      "metadata": {
        "id": "VOscRP15sbv2",
        "colab_type": "code",
        "outputId": "951de8b3-bdcc-491d-f400-3f991efaef57",
        "colab": {
          "base_uri": "https://localhost:8080/",
          "height": 145
        }
      },
      "source": [
        "obj1"
      ],
      "execution_count": 0,
      "outputs": [
        {
          "output_type": "execute_result",
          "data": {
            "text/plain": [
              "0      23\n",
              "1      32\n",
              "2      46\n",
              "3      52\n",
              "4    5000\n",
              "5      90\n",
              "dtype: int64"
            ]
          },
          "metadata": {
            "tags": []
          },
          "execution_count": 10
        }
      ]
    },
    {
      "cell_type": "code",
      "metadata": {
        "id": "FEj30pjfsdSd",
        "colab_type": "code",
        "outputId": "7e332866-7b71-4716-f337-34c72791a073",
        "colab": {
          "base_uri": "https://localhost:8080/",
          "height": 35
        }
      },
      "source": [
        "obj1.mean()"
      ],
      "execution_count": 0,
      "outputs": [
        {
          "output_type": "execute_result",
          "data": {
            "text/plain": [
              "873.8333333333334"
            ]
          },
          "metadata": {
            "tags": []
          },
          "execution_count": 11
        }
      ]
    },
    {
      "cell_type": "code",
      "metadata": {
        "id": "wJHya8Tasgk2",
        "colab_type": "code",
        "outputId": "d7c31dca-ba47-4a76-eedc-2caac65de5dd",
        "colab": {
          "base_uri": "https://localhost:8080/",
          "height": 108
        }
      },
      "source": [
        "obj2 = pd.Series([\"ahsan\",\"ali\",'umer','taha'],index = ['a','al','u','t'])\n",
        "obj2"
      ],
      "execution_count": 0,
      "outputs": [
        {
          "output_type": "execute_result",
          "data": {
            "text/plain": [
              "a     ahsan\n",
              "al      ali\n",
              "u      umer\n",
              "t      taha\n",
              "dtype: object"
            ]
          },
          "metadata": {
            "tags": []
          },
          "execution_count": 12
        }
      ]
    },
    {
      "cell_type": "code",
      "metadata": {
        "id": "lIakgiPfs-Nt",
        "colab_type": "code",
        "outputId": "fa847f51-ab95-43bf-a526-0fc9f144f91b",
        "colab": {
          "base_uri": "https://localhost:8080/",
          "height": 35
        }
      },
      "source": [
        "obj2[2]\n"
      ],
      "execution_count": 0,
      "outputs": [
        {
          "output_type": "execute_result",
          "data": {
            "text/plain": [
              "'umer'"
            ]
          },
          "metadata": {
            "tags": []
          },
          "execution_count": 13
        }
      ]
    },
    {
      "cell_type": "code",
      "metadata": {
        "id": "boL3rWbJtkou",
        "colab_type": "code",
        "outputId": "30221161-3239-4058-bee0-ea44f034091a",
        "colab": {
          "base_uri": "https://localhost:8080/",
          "height": 126
        }
      },
      "source": [
        "fruits = pd.Series(['banana','orange',nan,'mango',nan])\n",
        "fruits"
      ],
      "execution_count": 0,
      "outputs": [
        {
          "output_type": "execute_result",
          "data": {
            "text/plain": [
              "0    banana\n",
              "1    orange\n",
              "2       NaN\n",
              "3     mango\n",
              "4       NaN\n",
              "dtype: object"
            ]
          },
          "metadata": {
            "tags": []
          },
          "execution_count": 16
        }
      ]
    },
    {
      "cell_type": "code",
      "metadata": {
        "id": "jVqLqFdvvJoI",
        "colab_type": "code",
        "outputId": "84ecfc96-5ce7-42c7-b75c-bbe20ac9bc17",
        "colab": {
          "base_uri": "https://localhost:8080/",
          "height": 90
        }
      },
      "source": [
        "fruits.dropna()"
      ],
      "execution_count": 0,
      "outputs": [
        {
          "output_type": "execute_result",
          "data": {
            "text/plain": [
              "0    banana\n",
              "1    orange\n",
              "3     mango\n",
              "dtype: object"
            ]
          },
          "metadata": {
            "tags": []
          },
          "execution_count": 17
        }
      ]
    },
    {
      "cell_type": "code",
      "metadata": {
        "id": "e02XsemYvfOO",
        "colab_type": "code",
        "outputId": "1e4ed011-2a69-4268-a8ca-796c9710d6fd",
        "colab": {
          "base_uri": "https://localhost:8080/",
          "height": 126
        }
      },
      "source": [
        "fruits.isnull()"
      ],
      "execution_count": 0,
      "outputs": [
        {
          "output_type": "execute_result",
          "data": {
            "text/plain": [
              "0    False\n",
              "1    False\n",
              "2     True\n",
              "3    False\n",
              "4     True\n",
              "dtype: bool"
            ]
          },
          "metadata": {
            "tags": []
          },
          "execution_count": 18
        }
      ]
    },
    {
      "cell_type": "code",
      "metadata": {
        "id": "ch9KkUGPwZtW",
        "colab_type": "code",
        "outputId": "e8e98318-64dd-4cc2-9810-560af3e250e3",
        "colab": {
          "base_uri": "https://localhost:8080/",
          "height": 126
        }
      },
      "source": [
        "fruits.notnull()"
      ],
      "execution_count": 0,
      "outputs": [
        {
          "output_type": "execute_result",
          "data": {
            "text/plain": [
              "0     True\n",
              "1     True\n",
              "2    False\n",
              "3     True\n",
              "4    False\n",
              "dtype: bool"
            ]
          },
          "metadata": {
            "tags": []
          },
          "execution_count": 19
        }
      ]
    },
    {
      "cell_type": "code",
      "metadata": {
        "id": "_31f-11uwduW",
        "colab_type": "code",
        "outputId": "af860c0f-ce9e-401f-bd81-96beb2eaad98",
        "colab": {
          "base_uri": "https://localhost:8080/",
          "height": 72
        }
      },
      "source": [
        "fruits[fruits.isnull()]"
      ],
      "execution_count": 0,
      "outputs": [
        {
          "output_type": "execute_result",
          "data": {
            "text/plain": [
              "2    NaN\n",
              "4    NaN\n",
              "dtype: object"
            ]
          },
          "metadata": {
            "tags": []
          },
          "execution_count": 20
        }
      ]
    },
    {
      "cell_type": "code",
      "metadata": {
        "id": "gqSPior-xNW_",
        "colab_type": "code",
        "outputId": "e00604c7-9fcc-480d-e3aa-4f3ad6857c10",
        "colab": {
          "base_uri": "https://localhost:8080/",
          "height": 90
        }
      },
      "source": [
        "fruits[fruits.notnull()]"
      ],
      "execution_count": 0,
      "outputs": [
        {
          "output_type": "execute_result",
          "data": {
            "text/plain": [
              "0    banana\n",
              "1    orange\n",
              "3     mango\n",
              "dtype: object"
            ]
          },
          "metadata": {
            "tags": []
          },
          "execution_count": 21
        }
      ]
    },
    {
      "cell_type": "code",
      "metadata": {
        "id": "jouKt_aCxWM_",
        "colab_type": "code",
        "colab": {}
      },
      "source": [
        "num=pd.Series([20,40,nan,50,60,70,nan,80,nan,90,100])"
      ],
      "execution_count": 0,
      "outputs": []
    },
    {
      "cell_type": "code",
      "metadata": {
        "id": "-60AxdSBy7gs",
        "colab_type": "code",
        "outputId": "3cf30a86-5ac8-484d-dd8b-4e7de49c2f9d",
        "colab": {
          "base_uri": "https://localhost:8080/",
          "height": 35
        }
      },
      "source": [
        "b = num.mean()\n",
        "b"
      ],
      "execution_count": 0,
      "outputs": [
        {
          "output_type": "execute_result",
          "data": {
            "text/plain": [
              "63.75"
            ]
          },
          "metadata": {
            "tags": []
          },
          "execution_count": 26
        }
      ]
    },
    {
      "cell_type": "code",
      "metadata": {
        "id": "DZCl50__zlhZ",
        "colab_type": "code",
        "outputId": "c45de483-05fe-4582-eea9-cfaf756f269d",
        "colab": {
          "base_uri": "https://localhost:8080/",
          "height": 235
        }
      },
      "source": [
        "num.fillna(b)"
      ],
      "execution_count": 0,
      "outputs": [
        {
          "output_type": "execute_result",
          "data": {
            "text/plain": [
              "0      20.00\n",
              "1      40.00\n",
              "2      63.75\n",
              "3      50.00\n",
              "4      60.00\n",
              "5      70.00\n",
              "6      63.75\n",
              "7      80.00\n",
              "8      63.75\n",
              "9      90.00\n",
              "10    100.00\n",
              "dtype: float64"
            ]
          },
          "metadata": {
            "tags": []
          },
          "execution_count": 27
        }
      ]
    },
    {
      "cell_type": "code",
      "metadata": {
        "id": "R5sU978-zq1R",
        "colab_type": "code",
        "outputId": "f334107c-5467-459a-f8a8-232cb160c8fc",
        "colab": {
          "base_uri": "https://localhost:8080/",
          "height": 126
        }
      },
      "source": [
        "money = pd.Series([2340,7800,8900,7865,6543])\n",
        "money"
      ],
      "execution_count": 0,
      "outputs": [
        {
          "output_type": "execute_result",
          "data": {
            "text/plain": [
              "0    2340\n",
              "1    7800\n",
              "2    8900\n",
              "3    7865\n",
              "4    6543\n",
              "dtype: int64"
            ]
          },
          "metadata": {
            "tags": []
          },
          "execution_count": 28
        }
      ]
    },
    {
      "cell_type": "code",
      "metadata": {
        "id": "ciQOYvkb0eh8",
        "colab_type": "code",
        "outputId": "9b4c34f3-7b55-467a-c0b7-2e63b36d95d6",
        "colab": {
          "base_uri": "https://localhost:8080/",
          "height": 72
        }
      },
      "source": [
        "dates = pd.date_range(\"2019-07-11\",\"2019-07-15\")\n",
        "dates"
      ],
      "execution_count": 0,
      "outputs": [
        {
          "output_type": "execute_result",
          "data": {
            "text/plain": [
              "DatetimeIndex(['2019-07-11', '2019-07-12', '2019-07-13', '2019-07-14',\n",
              "               '2019-07-15'],\n",
              "              dtype='datetime64[ns]', freq='D')"
            ]
          },
          "metadata": {
            "tags": []
          },
          "execution_count": 30
        }
      ]
    },
    {
      "cell_type": "code",
      "metadata": {
        "id": "l_VrIjW01QOD",
        "colab_type": "code",
        "colab": {}
      },
      "source": [
        "obj3 = pd.Series(money.values , index = dates)"
      ],
      "execution_count": 0,
      "outputs": []
    },
    {
      "cell_type": "code",
      "metadata": {
        "id": "M6cIBU8G2mh9",
        "colab_type": "code",
        "outputId": "a5129c60-ebb7-4691-ead8-ba9f6b6eadf6",
        "colab": {
          "base_uri": "https://localhost:8080/",
          "height": 126
        }
      },
      "source": [
        "obj3"
      ],
      "execution_count": 0,
      "outputs": [
        {
          "output_type": "execute_result",
          "data": {
            "text/plain": [
              "2019-07-11    2340\n",
              "2019-07-12    7800\n",
              "2019-07-13    8900\n",
              "2019-07-14    7865\n",
              "2019-07-15    6543\n",
              "Freq: D, dtype: int64"
            ]
          },
          "metadata": {
            "tags": []
          },
          "execution_count": 32
        }
      ]
    },
    {
      "cell_type": "code",
      "metadata": {
        "id": "7XeZ8gFX2ohE",
        "colab_type": "code",
        "outputId": "349980ec-28a3-4be5-e4b0-ecac34456bac",
        "colab": {
          "base_uri": "https://localhost:8080/",
          "height": 90
        }
      },
      "source": [
        "obj3['2019-07-12' : '2019-07-14']"
      ],
      "execution_count": 0,
      "outputs": [
        {
          "output_type": "execute_result",
          "data": {
            "text/plain": [
              "2019-07-12    7800\n",
              "2019-07-13    8900\n",
              "2019-07-14    7865\n",
              "Freq: D, dtype: int64"
            ]
          },
          "metadata": {
            "tags": []
          },
          "execution_count": 34
        }
      ]
    },
    {
      "cell_type": "code",
      "metadata": {
        "id": "kF7FUSw-4Rul",
        "colab_type": "code",
        "outputId": "066345b7-83da-4a35-8b6a-25b667c4dbdb",
        "colab": {
          "base_uri": "https://localhost:8080/",
          "height": 108
        }
      },
      "source": [
        "obj = pd.Series([4, 7, -5, 3])\n",
        "obj"
      ],
      "execution_count": 0,
      "outputs": [
        {
          "output_type": "execute_result",
          "data": {
            "text/plain": [
              "0    4\n",
              "1    7\n",
              "2   -5\n",
              "3    3\n",
              "dtype: int64"
            ]
          },
          "metadata": {
            "tags": []
          },
          "execution_count": 40
        }
      ]
    },
    {
      "cell_type": "code",
      "metadata": {
        "id": "-29oTn1MGW-F",
        "colab_type": "code",
        "outputId": "25a3cef5-2968-4f27-b781-23f3bcdae534",
        "colab": {
          "base_uri": "https://localhost:8080/",
          "height": 35
        }
      },
      "source": [
        " obj.values\n"
      ],
      "execution_count": 0,
      "outputs": [
        {
          "output_type": "execute_result",
          "data": {
            "text/plain": [
              "array([ 4,  7, -5,  3])"
            ]
          },
          "metadata": {
            "tags": []
          },
          "execution_count": 43
        }
      ]
    },
    {
      "cell_type": "code",
      "metadata": {
        "id": "cqGS-RLHGzgA",
        "colab_type": "code",
        "outputId": "d0f325c0-606d-469a-d02a-c66b3a8486d1",
        "colab": {
          "base_uri": "https://localhost:8080/",
          "height": 35
        }
      },
      "source": [
        "obj.index # like range(4)"
      ],
      "execution_count": 0,
      "outputs": [
        {
          "output_type": "execute_result",
          "data": {
            "text/plain": [
              "RangeIndex(start=0, stop=4, step=1)"
            ]
          },
          "metadata": {
            "tags": []
          },
          "execution_count": 44
        }
      ]
    },
    {
      "cell_type": "code",
      "metadata": {
        "id": "QYDO-gIpG9x2",
        "colab_type": "code",
        "colab": {}
      },
      "source": [
        "obj2 = pd.Series([4, 7, -5, 3], index=['d', 'b', 'a', 'c'])"
      ],
      "execution_count": 0,
      "outputs": []
    },
    {
      "cell_type": "code",
      "metadata": {
        "id": "wvETKhJ-HA71",
        "colab_type": "code",
        "outputId": "23151663-fd7f-448f-d8a9-6cdfa73f568a",
        "colab": {
          "base_uri": "https://localhost:8080/",
          "height": 108
        }
      },
      "source": [
        "obj2"
      ],
      "execution_count": 0,
      "outputs": [
        {
          "output_type": "execute_result",
          "data": {
            "text/plain": [
              "d    4\n",
              "b    7\n",
              "a   -5\n",
              "c    3\n",
              "dtype: int64"
            ]
          },
          "metadata": {
            "tags": []
          },
          "execution_count": 46
        }
      ]
    },
    {
      "cell_type": "code",
      "metadata": {
        "id": "j9Y_Hk8THDa-",
        "colab_type": "code",
        "outputId": "6274c61c-34f7-42e7-ef8c-54a7af1fcb8b",
        "colab": {
          "base_uri": "https://localhost:8080/",
          "height": 35
        }
      },
      "source": [
        "obj2.index"
      ],
      "execution_count": 0,
      "outputs": [
        {
          "output_type": "execute_result",
          "data": {
            "text/plain": [
              "Index(['d', 'b', 'a', 'c'], dtype='object')"
            ]
          },
          "metadata": {
            "tags": []
          },
          "execution_count": 47
        }
      ]
    },
    {
      "cell_type": "code",
      "metadata": {
        "id": "-C5L76vKHGld",
        "colab_type": "code",
        "outputId": "7b3c4ab7-2fb6-491c-e319-8f53ab45bd15",
        "colab": {
          "base_uri": "https://localhost:8080/",
          "height": 35
        }
      },
      "source": [
        "obj2['a']"
      ],
      "execution_count": 0,
      "outputs": [
        {
          "output_type": "execute_result",
          "data": {
            "text/plain": [
              "-5"
            ]
          },
          "metadata": {
            "tags": []
          },
          "execution_count": 48
        }
      ]
    },
    {
      "cell_type": "code",
      "metadata": {
        "id": "rUaV7EVXHI11",
        "colab_type": "code",
        "colab": {}
      },
      "source": [
        "obj2['d'] = 6"
      ],
      "execution_count": 0,
      "outputs": []
    },
    {
      "cell_type": "code",
      "metadata": {
        "id": "LwT6_fgLHLUk",
        "colab_type": "code",
        "outputId": "21e5a1d2-0335-416f-8d4d-752884a26ba7",
        "colab": {
          "base_uri": "https://localhost:8080/",
          "height": 90
        }
      },
      "source": [
        "obj2[['c', 'a', 'd']]"
      ],
      "execution_count": 0,
      "outputs": [
        {
          "output_type": "execute_result",
          "data": {
            "text/plain": [
              "c    3\n",
              "a   -5\n",
              "d    6\n",
              "dtype: int64"
            ]
          },
          "metadata": {
            "tags": []
          },
          "execution_count": 50
        }
      ]
    },
    {
      "cell_type": "code",
      "metadata": {
        "id": "62i_ZCwDHORk",
        "colab_type": "code",
        "outputId": "dd40d56d-43e4-410d-d3ff-1373f8941692",
        "colab": {
          "base_uri": "https://localhost:8080/",
          "height": 90
        }
      },
      "source": [
        "obj2[obj2 > 0]"
      ],
      "execution_count": 0,
      "outputs": [
        {
          "output_type": "execute_result",
          "data": {
            "text/plain": [
              "d    6\n",
              "b    7\n",
              "c    3\n",
              "dtype: int64"
            ]
          },
          "metadata": {
            "tags": []
          },
          "execution_count": 51
        }
      ]
    },
    {
      "cell_type": "code",
      "metadata": {
        "id": "AsfgedE7HRNU",
        "colab_type": "code",
        "outputId": "ff809dea-9525-484f-8f3d-2e894b6bf9cf",
        "colab": {
          "base_uri": "https://localhost:8080/",
          "height": 108
        }
      },
      "source": [
        "obj2 * 2"
      ],
      "execution_count": 0,
      "outputs": [
        {
          "output_type": "execute_result",
          "data": {
            "text/plain": [
              "d    12\n",
              "b    14\n",
              "a   -10\n",
              "c     6\n",
              "dtype: int64"
            ]
          },
          "metadata": {
            "tags": []
          },
          "execution_count": 52
        }
      ]
    },
    {
      "cell_type": "code",
      "metadata": {
        "id": "z1Rdse64HTdt",
        "colab_type": "code",
        "outputId": "bd3b6a66-73a6-4084-db9e-2f61e91fff46",
        "colab": {
          "base_uri": "https://localhost:8080/",
          "height": 108
        }
      },
      "source": [
        "np.exp(obj2)"
      ],
      "execution_count": 0,
      "outputs": [
        {
          "output_type": "execute_result",
          "data": {
            "text/plain": [
              "d     403.428793\n",
              "b    1096.633158\n",
              "a       0.006738\n",
              "c      20.085537\n",
              "dtype: float64"
            ]
          },
          "metadata": {
            "tags": []
          },
          "execution_count": 53
        }
      ]
    },
    {
      "cell_type": "code",
      "metadata": {
        "id": "o0AGE5fzHWBt",
        "colab_type": "code",
        "outputId": "f685b31a-6900-4512-9f0d-38799af26c02",
        "colab": {
          "base_uri": "https://localhost:8080/",
          "height": 35
        }
      },
      "source": [
        "'b' in obj2"
      ],
      "execution_count": 0,
      "outputs": [
        {
          "output_type": "execute_result",
          "data": {
            "text/plain": [
              "True"
            ]
          },
          "metadata": {
            "tags": []
          },
          "execution_count": 54
        }
      ]
    },
    {
      "cell_type": "code",
      "metadata": {
        "id": "S_2bOn-HHYal",
        "colab_type": "code",
        "outputId": "a1308170-6522-45a9-ef91-686abc53bcdf",
        "colab": {
          "base_uri": "https://localhost:8080/",
          "height": 35
        }
      },
      "source": [
        "'e' in obj2"
      ],
      "execution_count": 0,
      "outputs": [
        {
          "output_type": "execute_result",
          "data": {
            "text/plain": [
              "False"
            ]
          },
          "metadata": {
            "tags": []
          },
          "execution_count": 55
        }
      ]
    },
    {
      "cell_type": "code",
      "metadata": {
        "id": "ft4F7KALHaut",
        "colab_type": "code",
        "colab": {}
      },
      "source": [
        "sdata = {'Ohio': 35000, 'Texas': 71000, 'Oregon': 16000, 'Utah': 5000}"
      ],
      "execution_count": 0,
      "outputs": []
    },
    {
      "cell_type": "code",
      "metadata": {
        "id": "oUIzWoHXHdbO",
        "colab_type": "code",
        "colab": {}
      },
      "source": [
        "obj3 = pd.Series(sdata)"
      ],
      "execution_count": 0,
      "outputs": []
    },
    {
      "cell_type": "code",
      "metadata": {
        "id": "RXW-mLdIHfWl",
        "colab_type": "code",
        "outputId": "fceafe32-79d3-4b46-c437-2eb00dbec33c",
        "colab": {
          "base_uri": "https://localhost:8080/",
          "height": 108
        }
      },
      "source": [
        "obj3"
      ],
      "execution_count": 0,
      "outputs": [
        {
          "output_type": "execute_result",
          "data": {
            "text/plain": [
              "Ohio      35000\n",
              "Texas     71000\n",
              "Oregon    16000\n",
              "Utah       5000\n",
              "dtype: int64"
            ]
          },
          "metadata": {
            "tags": []
          },
          "execution_count": 58
        }
      ]
    },
    {
      "cell_type": "code",
      "metadata": {
        "id": "xKaTeu6-Hg9V",
        "colab_type": "code",
        "colab": {}
      },
      "source": [
        "states = ['California', 'Ohio', 'Oregon', 'Texas']"
      ],
      "execution_count": 0,
      "outputs": []
    },
    {
      "cell_type": "code",
      "metadata": {
        "id": "Tb6T52u4Hp6m",
        "colab_type": "code",
        "colab": {}
      },
      "source": [
        " obj4 = pd.Series(sdata, index=states)\n"
      ],
      "execution_count": 0,
      "outputs": []
    },
    {
      "cell_type": "code",
      "metadata": {
        "id": "SM682Du_HsHd",
        "colab_type": "code",
        "outputId": "2d0b551d-6059-4622-a77f-5b751cac9af3",
        "colab": {
          "base_uri": "https://localhost:8080/",
          "height": 108
        }
      },
      "source": [
        "obj4"
      ],
      "execution_count": 0,
      "outputs": [
        {
          "output_type": "execute_result",
          "data": {
            "text/plain": [
              "California        NaN\n",
              "Ohio          35000.0\n",
              "Oregon        16000.0\n",
              "Texas         71000.0\n",
              "dtype: float64"
            ]
          },
          "metadata": {
            "tags": []
          },
          "execution_count": 61
        }
      ]
    },
    {
      "cell_type": "code",
      "metadata": {
        "id": "g6dULvHwHuS9",
        "colab_type": "code",
        "outputId": "9f81efdc-3e64-4551-ce93-6a7e0e735dd2",
        "colab": {
          "base_uri": "https://localhost:8080/",
          "height": 108
        }
      },
      "source": [
        "pd.isnull(obj4)"
      ],
      "execution_count": 0,
      "outputs": [
        {
          "output_type": "execute_result",
          "data": {
            "text/plain": [
              "California     True\n",
              "Ohio          False\n",
              "Oregon        False\n",
              "Texas         False\n",
              "dtype: bool"
            ]
          },
          "metadata": {
            "tags": []
          },
          "execution_count": 62
        }
      ]
    },
    {
      "cell_type": "code",
      "metadata": {
        "id": "2TzWvepRH0wl",
        "colab_type": "code",
        "outputId": "7cee06fa-3f45-4a55-83cc-3363a85760f4",
        "colab": {
          "base_uri": "https://localhost:8080/",
          "height": 108
        }
      },
      "source": [
        "pd.notnull(obj4)"
      ],
      "execution_count": 0,
      "outputs": [
        {
          "output_type": "execute_result",
          "data": {
            "text/plain": [
              "California    False\n",
              "Ohio           True\n",
              "Oregon         True\n",
              "Texas          True\n",
              "dtype: bool"
            ]
          },
          "metadata": {
            "tags": []
          },
          "execution_count": 63
        }
      ]
    },
    {
      "cell_type": "code",
      "metadata": {
        "id": "dCX1KXxwH4yF",
        "colab_type": "code",
        "outputId": "09379af2-02b0-4e43-92c8-542fcaf38017",
        "colab": {
          "base_uri": "https://localhost:8080/",
          "height": 108
        }
      },
      "source": [
        "obj4.isnull()\n"
      ],
      "execution_count": 0,
      "outputs": [
        {
          "output_type": "execute_result",
          "data": {
            "text/plain": [
              "California     True\n",
              "Ohio          False\n",
              "Oregon        False\n",
              "Texas         False\n",
              "dtype: bool"
            ]
          },
          "metadata": {
            "tags": []
          },
          "execution_count": 64
        }
      ]
    },
    {
      "cell_type": "code",
      "metadata": {
        "id": "t7kQI13SH-Ee",
        "colab_type": "code",
        "outputId": "560962d9-a861-4352-8251-4febb9f4b4a6",
        "colab": {
          "base_uri": "https://localhost:8080/",
          "height": 108
        }
      },
      "source": [
        "obj3"
      ],
      "execution_count": 0,
      "outputs": [
        {
          "output_type": "execute_result",
          "data": {
            "text/plain": [
              "Ohio      35000\n",
              "Texas     71000\n",
              "Oregon    16000\n",
              "Utah       5000\n",
              "dtype: int64"
            ]
          },
          "metadata": {
            "tags": []
          },
          "execution_count": 65
        }
      ]
    },
    {
      "cell_type": "code",
      "metadata": {
        "id": "fMPWPiFCIAiV",
        "colab_type": "code",
        "outputId": "5fea8e41-af9d-4cfe-86d2-54346e7f619b",
        "colab": {
          "base_uri": "https://localhost:8080/",
          "height": 108
        }
      },
      "source": [
        "obj4"
      ],
      "execution_count": 0,
      "outputs": [
        {
          "output_type": "execute_result",
          "data": {
            "text/plain": [
              "California        NaN\n",
              "Ohio          35000.0\n",
              "Oregon        16000.0\n",
              "Texas         71000.0\n",
              "dtype: float64"
            ]
          },
          "metadata": {
            "tags": []
          },
          "execution_count": 66
        }
      ]
    },
    {
      "cell_type": "code",
      "metadata": {
        "id": "A8XLpwc1ICrl",
        "colab_type": "code",
        "outputId": "2fac7924-c911-4214-c129-e2710801c541",
        "colab": {
          "base_uri": "https://localhost:8080/",
          "height": 126
        }
      },
      "source": [
        "obj3 + obj4"
      ],
      "execution_count": 0,
      "outputs": [
        {
          "output_type": "execute_result",
          "data": {
            "text/plain": [
              "California         NaN\n",
              "Ohio           70000.0\n",
              "Oregon         32000.0\n",
              "Texas         142000.0\n",
              "Utah               NaN\n",
              "dtype: float64"
            ]
          },
          "metadata": {
            "tags": []
          },
          "execution_count": 67
        }
      ]
    },
    {
      "cell_type": "code",
      "metadata": {
        "id": "k5-KyBxrIFEe",
        "colab_type": "code",
        "colab": {}
      },
      "source": [
        "obj4.name = 'population'"
      ],
      "execution_count": 0,
      "outputs": []
    },
    {
      "cell_type": "code",
      "metadata": {
        "id": "veidNbqjIIuQ",
        "colab_type": "code",
        "colab": {}
      },
      "source": [
        "obj4.index.name = 'state'\n"
      ],
      "execution_count": 0,
      "outputs": []
    },
    {
      "cell_type": "code",
      "metadata": {
        "id": "LwzFFdBEIKZF",
        "colab_type": "code",
        "outputId": "f4e4bb12-feec-4ae8-bb8c-9ed99ffe3b79",
        "colab": {
          "base_uri": "https://localhost:8080/",
          "height": 126
        }
      },
      "source": [
        "obj4"
      ],
      "execution_count": 0,
      "outputs": [
        {
          "output_type": "execute_result",
          "data": {
            "text/plain": [
              "state\n",
              "California        NaN\n",
              "Ohio          35000.0\n",
              "Oregon        16000.0\n",
              "Texas         71000.0\n",
              "Name: population, dtype: float64"
            ]
          },
          "metadata": {
            "tags": []
          },
          "execution_count": 70
        }
      ]
    },
    {
      "cell_type": "code",
      "metadata": {
        "id": "5uwsDHiSIMaO",
        "colab_type": "code",
        "outputId": "15f57caf-d322-418d-af21-da910630d324",
        "colab": {
          "base_uri": "https://localhost:8080/",
          "height": 108
        }
      },
      "source": [
        "obj"
      ],
      "execution_count": 0,
      "outputs": [
        {
          "output_type": "execute_result",
          "data": {
            "text/plain": [
              "0    4\n",
              "1    7\n",
              "2   -5\n",
              "3    3\n",
              "dtype: int64"
            ]
          },
          "metadata": {
            "tags": []
          },
          "execution_count": 71
        }
      ]
    },
    {
      "cell_type": "code",
      "metadata": {
        "id": "48fhGRFEIQNG",
        "colab_type": "code",
        "colab": {}
      },
      "source": [
        " obj.index = ['Bob', 'Steve', 'Jeff', 'Ryan']"
      ],
      "execution_count": 0,
      "outputs": []
    },
    {
      "cell_type": "code",
      "metadata": {
        "id": "pNNohe1ZITfG",
        "colab_type": "code",
        "outputId": "3a13efde-58aa-4828-9e80-27eb45da2bea",
        "colab": {
          "base_uri": "https://localhost:8080/",
          "height": 108
        }
      },
      "source": [
        "obj"
      ],
      "execution_count": 0,
      "outputs": [
        {
          "output_type": "execute_result",
          "data": {
            "text/plain": [
              "Bob      4\n",
              "Steve    7\n",
              "Jeff    -5\n",
              "Ryan     3\n",
              "dtype: int64"
            ]
          },
          "metadata": {
            "tags": []
          },
          "execution_count": 73
        }
      ]
    },
    {
      "cell_type": "code",
      "metadata": {
        "id": "uSk9_NzwIVm2",
        "colab_type": "code",
        "colab": {}
      },
      "source": [
        ""
      ],
      "execution_count": 0,
      "outputs": []
    },
    {
      "cell_type": "markdown",
      "metadata": {
        "id": "hGLYxnHtGG0x",
        "colab_type": "text"
      },
      "source": [
        "# Data Frame"
      ]
    },
    {
      "cell_type": "code",
      "metadata": {
        "id": "91NsB8iRGMsH",
        "colab_type": "code",
        "colab": {
          "base_uri": "https://localhost:8080/",
          "height": 72
        },
        "outputId": "fb8b8f2f-0ba4-45a6-828b-81e03ad45a4a"
      },
      "source": [
        "dates=pd.date_range(\"2019-07-1\",\"2019-07-8\")\n",
        "dates"
      ],
      "execution_count": 4,
      "outputs": [
        {
          "output_type": "execute_result",
          "data": {
            "text/plain": [
              "DatetimeIndex(['2019-07-01', '2019-07-02', '2019-07-03', '2019-07-04',\n",
              "               '2019-07-05', '2019-07-06', '2019-07-07', '2019-07-08'],\n",
              "              dtype='datetime64[ns]', freq='D')"
            ]
          },
          "metadata": {
            "tags": []
          },
          "execution_count": 4
        }
      ]
    },
    {
      "cell_type": "code",
      "metadata": {
        "id": "gPj_Gem2GelW",
        "colab_type": "code",
        "colab": {
          "base_uri": "https://localhost:8080/",
          "height": 326
        },
        "outputId": "d18489da-8e6d-4e42-8464-f54acd277760"
      },
      "source": [
        "obj=pd.Series([270,250,190,200,300,250,220,180],index=dates)\n",
        "obj2=pd.Series([710,205,109,820,430,825,922,185],index=dates)\n",
        "obj,obj2"
      ],
      "execution_count": 5,
      "outputs": [
        {
          "output_type": "execute_result",
          "data": {
            "text/plain": [
              "(2019-07-01    270\n",
              " 2019-07-02    250\n",
              " 2019-07-03    190\n",
              " 2019-07-04    200\n",
              " 2019-07-05    300\n",
              " 2019-07-06    250\n",
              " 2019-07-07    220\n",
              " 2019-07-08    180\n",
              " Freq: D, dtype: int64, 2019-07-01    710\n",
              " 2019-07-02    205\n",
              " 2019-07-03    109\n",
              " 2019-07-04    820\n",
              " 2019-07-05    430\n",
              " 2019-07-06    825\n",
              " 2019-07-07    922\n",
              " 2019-07-08    185\n",
              " Freq: D, dtype: int64)"
            ]
          },
          "metadata": {
            "tags": []
          },
          "execution_count": 5
        }
      ]
    },
    {
      "cell_type": "code",
      "metadata": {
        "id": "rtGbOyUrG-cO",
        "colab_type": "code",
        "colab": {
          "base_uri": "https://localhost:8080/",
          "height": 288
        },
        "outputId": "66f5a2cc-a7ae-4cc1-cb52-cd4f9f6d09fd"
      },
      "source": [
        "money=pd.DataFrame({'Monday':obj,'Tuesday':obj2})\n",
        "money"
      ],
      "execution_count": 6,
      "outputs": [
        {
          "output_type": "execute_result",
          "data": {
            "text/html": [
              "<div>\n",
              "<style scoped>\n",
              "    .dataframe tbody tr th:only-of-type {\n",
              "        vertical-align: middle;\n",
              "    }\n",
              "\n",
              "    .dataframe tbody tr th {\n",
              "        vertical-align: top;\n",
              "    }\n",
              "\n",
              "    .dataframe thead th {\n",
              "        text-align: right;\n",
              "    }\n",
              "</style>\n",
              "<table border=\"1\" class=\"dataframe\">\n",
              "  <thead>\n",
              "    <tr style=\"text-align: right;\">\n",
              "      <th></th>\n",
              "      <th>Monday</th>\n",
              "      <th>Tuesday</th>\n",
              "    </tr>\n",
              "  </thead>\n",
              "  <tbody>\n",
              "    <tr>\n",
              "      <th>2019-07-01</th>\n",
              "      <td>270</td>\n",
              "      <td>710</td>\n",
              "    </tr>\n",
              "    <tr>\n",
              "      <th>2019-07-02</th>\n",
              "      <td>250</td>\n",
              "      <td>205</td>\n",
              "    </tr>\n",
              "    <tr>\n",
              "      <th>2019-07-03</th>\n",
              "      <td>190</td>\n",
              "      <td>109</td>\n",
              "    </tr>\n",
              "    <tr>\n",
              "      <th>2019-07-04</th>\n",
              "      <td>200</td>\n",
              "      <td>820</td>\n",
              "    </tr>\n",
              "    <tr>\n",
              "      <th>2019-07-05</th>\n",
              "      <td>300</td>\n",
              "      <td>430</td>\n",
              "    </tr>\n",
              "    <tr>\n",
              "      <th>2019-07-06</th>\n",
              "      <td>250</td>\n",
              "      <td>825</td>\n",
              "    </tr>\n",
              "    <tr>\n",
              "      <th>2019-07-07</th>\n",
              "      <td>220</td>\n",
              "      <td>922</td>\n",
              "    </tr>\n",
              "    <tr>\n",
              "      <th>2019-07-08</th>\n",
              "      <td>180</td>\n",
              "      <td>185</td>\n",
              "    </tr>\n",
              "  </tbody>\n",
              "</table>\n",
              "</div>"
            ],
            "text/plain": [
              "            Monday  Tuesday\n",
              "2019-07-01     270      710\n",
              "2019-07-02     250      205\n",
              "2019-07-03     190      109\n",
              "2019-07-04     200      820\n",
              "2019-07-05     300      430\n",
              "2019-07-06     250      825\n",
              "2019-07-07     220      922\n",
              "2019-07-08     180      185"
            ]
          },
          "metadata": {
            "tags": []
          },
          "execution_count": 6
        }
      ]
    },
    {
      "cell_type": "code",
      "metadata": {
        "id": "Fel_UJ0gHBWd",
        "colab_type": "code",
        "colab": {}
      },
      "source": [
        "ab=money['Monday']"
      ],
      "execution_count": 0,
      "outputs": []
    },
    {
      "cell_type": "code",
      "metadata": {
        "id": "fG_KkKSYHEAt",
        "colab_type": "code",
        "colab": {
          "base_uri": "https://localhost:8080/",
          "height": 126
        },
        "outputId": "9ba630e4-e090-49f5-9238-5b891f6a1b00"
      },
      "source": [
        "ab['2019-07-03':'2019-07-07']"
      ],
      "execution_count": 8,
      "outputs": [
        {
          "output_type": "execute_result",
          "data": {
            "text/plain": [
              "2019-07-03    190\n",
              "2019-07-04    200\n",
              "2019-07-05    300\n",
              "2019-07-06    250\n",
              "2019-07-07    220\n",
              "Freq: D, Name: Monday, dtype: int64"
            ]
          },
          "metadata": {
            "tags": []
          },
          "execution_count": 8
        }
      ]
    },
    {
      "cell_type": "code",
      "metadata": {
        "id": "j614elX7HHZF",
        "colab_type": "code",
        "colab": {
          "base_uri": "https://localhost:8080/",
          "height": 181
        },
        "outputId": "53c7d3b0-7e7d-4138-cf7d-601c03dd99ba"
      },
      "source": [
        "diff=money.Monday-money.Tuesday\n",
        "diff"
      ],
      "execution_count": 9,
      "outputs": [
        {
          "output_type": "execute_result",
          "data": {
            "text/plain": [
              "2019-07-01   -440\n",
              "2019-07-02     45\n",
              "2019-07-03     81\n",
              "2019-07-04   -620\n",
              "2019-07-05   -130\n",
              "2019-07-06   -575\n",
              "2019-07-07   -702\n",
              "2019-07-08     -5\n",
              "Freq: D, dtype: int64"
            ]
          },
          "metadata": {
            "tags": []
          },
          "execution_count": 9
        }
      ]
    },
    {
      "cell_type": "code",
      "metadata": {
        "id": "abEEx3VcHKTe",
        "colab_type": "code",
        "colab": {
          "base_uri": "https://localhost:8080/",
          "height": 181
        },
        "outputId": "4b86436a-dc45-4bed-a090-cec275b08e6d"
      },
      "source": [
        "prod=money.Monday*money.Tuesday\n",
        "prod"
      ],
      "execution_count": 10,
      "outputs": [
        {
          "output_type": "execute_result",
          "data": {
            "text/plain": [
              "2019-07-01    191700\n",
              "2019-07-02     51250\n",
              "2019-07-03     20710\n",
              "2019-07-04    164000\n",
              "2019-07-05    129000\n",
              "2019-07-06    206250\n",
              "2019-07-07    202840\n",
              "2019-07-08     33300\n",
              "Freq: D, dtype: int64"
            ]
          },
          "metadata": {
            "tags": []
          },
          "execution_count": 10
        }
      ]
    },
    {
      "cell_type": "code",
      "metadata": {
        "id": "LowzuFyCHOg1",
        "colab_type": "code",
        "colab": {
          "base_uri": "https://localhost:8080/",
          "height": 288
        },
        "outputId": "78977934-a0ef-4f8c-9407-f17abce1262b"
      },
      "source": [
        "money['Wednesday']=diff\n",
        "money['Thursday']=prod\n",
        "money"
      ],
      "execution_count": 11,
      "outputs": [
        {
          "output_type": "execute_result",
          "data": {
            "text/html": [
              "<div>\n",
              "<style scoped>\n",
              "    .dataframe tbody tr th:only-of-type {\n",
              "        vertical-align: middle;\n",
              "    }\n",
              "\n",
              "    .dataframe tbody tr th {\n",
              "        vertical-align: top;\n",
              "    }\n",
              "\n",
              "    .dataframe thead th {\n",
              "        text-align: right;\n",
              "    }\n",
              "</style>\n",
              "<table border=\"1\" class=\"dataframe\">\n",
              "  <thead>\n",
              "    <tr style=\"text-align: right;\">\n",
              "      <th></th>\n",
              "      <th>Monday</th>\n",
              "      <th>Tuesday</th>\n",
              "      <th>Wednesday</th>\n",
              "      <th>Thursday</th>\n",
              "    </tr>\n",
              "  </thead>\n",
              "  <tbody>\n",
              "    <tr>\n",
              "      <th>2019-07-01</th>\n",
              "      <td>270</td>\n",
              "      <td>710</td>\n",
              "      <td>-440</td>\n",
              "      <td>191700</td>\n",
              "    </tr>\n",
              "    <tr>\n",
              "      <th>2019-07-02</th>\n",
              "      <td>250</td>\n",
              "      <td>205</td>\n",
              "      <td>45</td>\n",
              "      <td>51250</td>\n",
              "    </tr>\n",
              "    <tr>\n",
              "      <th>2019-07-03</th>\n",
              "      <td>190</td>\n",
              "      <td>109</td>\n",
              "      <td>81</td>\n",
              "      <td>20710</td>\n",
              "    </tr>\n",
              "    <tr>\n",
              "      <th>2019-07-04</th>\n",
              "      <td>200</td>\n",
              "      <td>820</td>\n",
              "      <td>-620</td>\n",
              "      <td>164000</td>\n",
              "    </tr>\n",
              "    <tr>\n",
              "      <th>2019-07-05</th>\n",
              "      <td>300</td>\n",
              "      <td>430</td>\n",
              "      <td>-130</td>\n",
              "      <td>129000</td>\n",
              "    </tr>\n",
              "    <tr>\n",
              "      <th>2019-07-06</th>\n",
              "      <td>250</td>\n",
              "      <td>825</td>\n",
              "      <td>-575</td>\n",
              "      <td>206250</td>\n",
              "    </tr>\n",
              "    <tr>\n",
              "      <th>2019-07-07</th>\n",
              "      <td>220</td>\n",
              "      <td>922</td>\n",
              "      <td>-702</td>\n",
              "      <td>202840</td>\n",
              "    </tr>\n",
              "    <tr>\n",
              "      <th>2019-07-08</th>\n",
              "      <td>180</td>\n",
              "      <td>185</td>\n",
              "      <td>-5</td>\n",
              "      <td>33300</td>\n",
              "    </tr>\n",
              "  </tbody>\n",
              "</table>\n",
              "</div>"
            ],
            "text/plain": [
              "            Monday  Tuesday  Wednesday  Thursday\n",
              "2019-07-01     270      710       -440    191700\n",
              "2019-07-02     250      205         45     51250\n",
              "2019-07-03     190      109         81     20710\n",
              "2019-07-04     200      820       -620    164000\n",
              "2019-07-05     300      430       -130    129000\n",
              "2019-07-06     250      825       -575    206250\n",
              "2019-07-07     220      922       -702    202840\n",
              "2019-07-08     180      185         -5     33300"
            ]
          },
          "metadata": {
            "tags": []
          },
          "execution_count": 11
        }
      ]
    },
    {
      "cell_type": "code",
      "metadata": {
        "id": "dVZAfthnHQ9-",
        "colab_type": "code",
        "colab": {
          "base_uri": "https://localhost:8080/",
          "height": 126
        },
        "outputId": "0a2cd7a2-89d7-4f3d-bbf9-29b22e4477f0"
      },
      "source": [
        "money.Wednesday[\"2019-07-03\" : \"2019-07-07\"]"
      ],
      "execution_count": 12,
      "outputs": [
        {
          "output_type": "execute_result",
          "data": {
            "text/plain": [
              "2019-07-03     81\n",
              "2019-07-04   -620\n",
              "2019-07-05   -130\n",
              "2019-07-06   -575\n",
              "2019-07-07   -702\n",
              "Freq: D, Name: Wednesday, dtype: int64"
            ]
          },
          "metadata": {
            "tags": []
          },
          "execution_count": 12
        }
      ]
    },
    {
      "cell_type": "code",
      "metadata": {
        "id": "5TZx0bdRH5HW",
        "colab_type": "code",
        "colab": {
          "base_uri": "https://localhost:8080/",
          "height": 108
        },
        "outputId": "333fd1e2-ec9e-44da-cc70-d485e9aad30a"
      },
      "source": [
        "money.iloc[-2]"
      ],
      "execution_count": 19,
      "outputs": [
        {
          "output_type": "execute_result",
          "data": {
            "text/plain": [
              "Monday          220\n",
              "Tuesday         922\n",
              "Wednesday      -702\n",
              "Thursday     202840\n",
              "Name: 2019-07-07 00:00:00, dtype: int64"
            ]
          },
          "metadata": {
            "tags": []
          },
          "execution_count": 19
        }
      ]
    },
    {
      "cell_type": "code",
      "metadata": {
        "id": "th4QmBSKI1-O",
        "colab_type": "code",
        "colab": {
          "base_uri": "https://localhost:8080/",
          "height": 108
        },
        "outputId": "9cdea37c-44f2-418b-e3fd-78f99ca991d0"
      },
      "source": [
        "money.loc[\"2019-07-04\"]"
      ],
      "execution_count": 18,
      "outputs": [
        {
          "output_type": "execute_result",
          "data": {
            "text/plain": [
              "Monday          200\n",
              "Tuesday         820\n",
              "Wednesday      -620\n",
              "Thursday     164000\n",
              "Name: 2019-07-04 00:00:00, dtype: int64"
            ]
          },
          "metadata": {
            "tags": []
          },
          "execution_count": 18
        }
      ]
    },
    {
      "cell_type": "code",
      "metadata": {
        "id": "7uGAC4aYJZze",
        "colab_type": "code",
        "colab": {
          "base_uri": "https://localhost:8080/",
          "height": 145
        },
        "outputId": "b4abf8c9-eaa8-4f62-9cb3-4eee43a84734"
      },
      "source": [
        "money.Wednesday[money.Wednesday<0]"
      ],
      "execution_count": 20,
      "outputs": [
        {
          "output_type": "execute_result",
          "data": {
            "text/plain": [
              "2019-07-01   -440\n",
              "2019-07-04   -620\n",
              "2019-07-05   -130\n",
              "2019-07-06   -575\n",
              "2019-07-07   -702\n",
              "2019-07-08     -5\n",
              "Name: Wednesday, dtype: int64"
            ]
          },
          "metadata": {
            "tags": []
          },
          "execution_count": 20
        }
      ]
    },
    {
      "cell_type": "code",
      "metadata": {
        "id": "rE9GAWV6J9yn",
        "colab_type": "code",
        "colab": {
          "base_uri": "https://localhost:8080/",
          "height": 228
        },
        "outputId": "2abe6145-bce4-4ad2-cad5-d09a6dd194d9"
      },
      "source": [
        "money[money.Wednesday<0]"
      ],
      "execution_count": 21,
      "outputs": [
        {
          "output_type": "execute_result",
          "data": {
            "text/html": [
              "<div>\n",
              "<style scoped>\n",
              "    .dataframe tbody tr th:only-of-type {\n",
              "        vertical-align: middle;\n",
              "    }\n",
              "\n",
              "    .dataframe tbody tr th {\n",
              "        vertical-align: top;\n",
              "    }\n",
              "\n",
              "    .dataframe thead th {\n",
              "        text-align: right;\n",
              "    }\n",
              "</style>\n",
              "<table border=\"1\" class=\"dataframe\">\n",
              "  <thead>\n",
              "    <tr style=\"text-align: right;\">\n",
              "      <th></th>\n",
              "      <th>Monday</th>\n",
              "      <th>Tuesday</th>\n",
              "      <th>Wednesday</th>\n",
              "      <th>Thursday</th>\n",
              "    </tr>\n",
              "  </thead>\n",
              "  <tbody>\n",
              "    <tr>\n",
              "      <th>2019-07-01</th>\n",
              "      <td>270</td>\n",
              "      <td>710</td>\n",
              "      <td>-440</td>\n",
              "      <td>191700</td>\n",
              "    </tr>\n",
              "    <tr>\n",
              "      <th>2019-07-04</th>\n",
              "      <td>200</td>\n",
              "      <td>820</td>\n",
              "      <td>-620</td>\n",
              "      <td>164000</td>\n",
              "    </tr>\n",
              "    <tr>\n",
              "      <th>2019-07-05</th>\n",
              "      <td>300</td>\n",
              "      <td>430</td>\n",
              "      <td>-130</td>\n",
              "      <td>129000</td>\n",
              "    </tr>\n",
              "    <tr>\n",
              "      <th>2019-07-06</th>\n",
              "      <td>250</td>\n",
              "      <td>825</td>\n",
              "      <td>-575</td>\n",
              "      <td>206250</td>\n",
              "    </tr>\n",
              "    <tr>\n",
              "      <th>2019-07-07</th>\n",
              "      <td>220</td>\n",
              "      <td>922</td>\n",
              "      <td>-702</td>\n",
              "      <td>202840</td>\n",
              "    </tr>\n",
              "    <tr>\n",
              "      <th>2019-07-08</th>\n",
              "      <td>180</td>\n",
              "      <td>185</td>\n",
              "      <td>-5</td>\n",
              "      <td>33300</td>\n",
              "    </tr>\n",
              "  </tbody>\n",
              "</table>\n",
              "</div>"
            ],
            "text/plain": [
              "            Monday  Tuesday  Wednesday  Thursday\n",
              "2019-07-01     270      710       -440    191700\n",
              "2019-07-04     200      820       -620    164000\n",
              "2019-07-05     300      430       -130    129000\n",
              "2019-07-06     250      825       -575    206250\n",
              "2019-07-07     220      922       -702    202840\n",
              "2019-07-08     180      185         -5     33300"
            ]
          },
          "metadata": {
            "tags": []
          },
          "execution_count": 21
        }
      ]
    },
    {
      "cell_type": "code",
      "metadata": {
        "id": "Mo_twmpVLvs_",
        "colab_type": "code",
        "colab": {
          "base_uri": "https://localhost:8080/",
          "height": 90
        },
        "outputId": "4616e718-d471-47af-d3cb-a73d96978162"
      },
      "source": [
        "money.iloc[[0,1,-1]].Wednesday"
      ],
      "execution_count": 23,
      "outputs": [
        {
          "output_type": "execute_result",
          "data": {
            "text/plain": [
              "2019-07-01   -440\n",
              "2019-07-02     45\n",
              "2019-07-08     -5\n",
              "Name: Wednesday, dtype: int64"
            ]
          },
          "metadata": {
            "tags": []
          },
          "execution_count": 23
        }
      ]
    },
    {
      "cell_type": "code",
      "metadata": {
        "id": "oFP94R2LMF3v",
        "colab_type": "code",
        "colab": {
          "base_uri": "https://localhost:8080/",
          "height": 90
        },
        "outputId": "cb9e7e17-1ed0-462b-dea5-a7e1c47cac58"
      },
      "source": [
        "money.Wednesday[[0,1,-1]]"
      ],
      "execution_count": 24,
      "outputs": [
        {
          "output_type": "execute_result",
          "data": {
            "text/plain": [
              "2019-07-01   -440\n",
              "2019-07-02     45\n",
              "2019-07-08     -5\n",
              "Name: Wednesday, dtype: int64"
            ]
          },
          "metadata": {
            "tags": []
          },
          "execution_count": 24
        }
      ]
    },
    {
      "cell_type": "code",
      "metadata": {
        "id": "ju9kIg6kMgtf",
        "colab_type": "code",
        "colab": {
          "base_uri": "https://localhost:8080/",
          "height": 198
        },
        "outputId": "c5e3900b-e0e2-4b52-ee53-8f2e58a62c9c"
      },
      "source": [
        "money.head()"
      ],
      "execution_count": 25,
      "outputs": [
        {
          "output_type": "execute_result",
          "data": {
            "text/html": [
              "<div>\n",
              "<style scoped>\n",
              "    .dataframe tbody tr th:only-of-type {\n",
              "        vertical-align: middle;\n",
              "    }\n",
              "\n",
              "    .dataframe tbody tr th {\n",
              "        vertical-align: top;\n",
              "    }\n",
              "\n",
              "    .dataframe thead th {\n",
              "        text-align: right;\n",
              "    }\n",
              "</style>\n",
              "<table border=\"1\" class=\"dataframe\">\n",
              "  <thead>\n",
              "    <tr style=\"text-align: right;\">\n",
              "      <th></th>\n",
              "      <th>Monday</th>\n",
              "      <th>Tuesday</th>\n",
              "      <th>Wednesday</th>\n",
              "      <th>Thursday</th>\n",
              "    </tr>\n",
              "  </thead>\n",
              "  <tbody>\n",
              "    <tr>\n",
              "      <th>2019-07-01</th>\n",
              "      <td>270</td>\n",
              "      <td>710</td>\n",
              "      <td>-440</td>\n",
              "      <td>191700</td>\n",
              "    </tr>\n",
              "    <tr>\n",
              "      <th>2019-07-02</th>\n",
              "      <td>250</td>\n",
              "      <td>205</td>\n",
              "      <td>45</td>\n",
              "      <td>51250</td>\n",
              "    </tr>\n",
              "    <tr>\n",
              "      <th>2019-07-03</th>\n",
              "      <td>190</td>\n",
              "      <td>109</td>\n",
              "      <td>81</td>\n",
              "      <td>20710</td>\n",
              "    </tr>\n",
              "    <tr>\n",
              "      <th>2019-07-04</th>\n",
              "      <td>200</td>\n",
              "      <td>820</td>\n",
              "      <td>-620</td>\n",
              "      <td>164000</td>\n",
              "    </tr>\n",
              "    <tr>\n",
              "      <th>2019-07-05</th>\n",
              "      <td>300</td>\n",
              "      <td>430</td>\n",
              "      <td>-130</td>\n",
              "      <td>129000</td>\n",
              "    </tr>\n",
              "  </tbody>\n",
              "</table>\n",
              "</div>"
            ],
            "text/plain": [
              "            Monday  Tuesday  Wednesday  Thursday\n",
              "2019-07-01     270      710       -440    191700\n",
              "2019-07-02     250      205         45     51250\n",
              "2019-07-03     190      109         81     20710\n",
              "2019-07-04     200      820       -620    164000\n",
              "2019-07-05     300      430       -130    129000"
            ]
          },
          "metadata": {
            "tags": []
          },
          "execution_count": 25
        }
      ]
    },
    {
      "cell_type": "code",
      "metadata": {
        "id": "wL2NamNQMo5_",
        "colab_type": "code",
        "colab": {
          "base_uri": "https://localhost:8080/",
          "height": 198
        },
        "outputId": "92062151-c01f-49b8-ae8a-54ebc6879d6a"
      },
      "source": [
        "money.tail()"
      ],
      "execution_count": 26,
      "outputs": [
        {
          "output_type": "execute_result",
          "data": {
            "text/html": [
              "<div>\n",
              "<style scoped>\n",
              "    .dataframe tbody tr th:only-of-type {\n",
              "        vertical-align: middle;\n",
              "    }\n",
              "\n",
              "    .dataframe tbody tr th {\n",
              "        vertical-align: top;\n",
              "    }\n",
              "\n",
              "    .dataframe thead th {\n",
              "        text-align: right;\n",
              "    }\n",
              "</style>\n",
              "<table border=\"1\" class=\"dataframe\">\n",
              "  <thead>\n",
              "    <tr style=\"text-align: right;\">\n",
              "      <th></th>\n",
              "      <th>Monday</th>\n",
              "      <th>Tuesday</th>\n",
              "      <th>Wednesday</th>\n",
              "      <th>Thursday</th>\n",
              "    </tr>\n",
              "  </thead>\n",
              "  <tbody>\n",
              "    <tr>\n",
              "      <th>2019-07-04</th>\n",
              "      <td>200</td>\n",
              "      <td>820</td>\n",
              "      <td>-620</td>\n",
              "      <td>164000</td>\n",
              "    </tr>\n",
              "    <tr>\n",
              "      <th>2019-07-05</th>\n",
              "      <td>300</td>\n",
              "      <td>430</td>\n",
              "      <td>-130</td>\n",
              "      <td>129000</td>\n",
              "    </tr>\n",
              "    <tr>\n",
              "      <th>2019-07-06</th>\n",
              "      <td>250</td>\n",
              "      <td>825</td>\n",
              "      <td>-575</td>\n",
              "      <td>206250</td>\n",
              "    </tr>\n",
              "    <tr>\n",
              "      <th>2019-07-07</th>\n",
              "      <td>220</td>\n",
              "      <td>922</td>\n",
              "      <td>-702</td>\n",
              "      <td>202840</td>\n",
              "    </tr>\n",
              "    <tr>\n",
              "      <th>2019-07-08</th>\n",
              "      <td>180</td>\n",
              "      <td>185</td>\n",
              "      <td>-5</td>\n",
              "      <td>33300</td>\n",
              "    </tr>\n",
              "  </tbody>\n",
              "</table>\n",
              "</div>"
            ],
            "text/plain": [
              "            Monday  Tuesday  Wednesday  Thursday\n",
              "2019-07-04     200      820       -620    164000\n",
              "2019-07-05     300      430       -130    129000\n",
              "2019-07-06     250      825       -575    206250\n",
              "2019-07-07     220      922       -702    202840\n",
              "2019-07-08     180      185         -5     33300"
            ]
          },
          "metadata": {
            "tags": []
          },
          "execution_count": 26
        }
      ]
    },
    {
      "cell_type": "code",
      "metadata": {
        "id": "jRAt_-rGMsEf",
        "colab_type": "code",
        "colab": {
          "base_uri": "https://localhost:8080/",
          "height": 72
        },
        "outputId": "2a7f4492-cfa9-47a1-8a24-3f5d87bbec11"
      },
      "source": [
        "money.head(2).Monday"
      ],
      "execution_count": 27,
      "outputs": [
        {
          "output_type": "execute_result",
          "data": {
            "text/plain": [
              "2019-07-01    270\n",
              "2019-07-02    250\n",
              "Freq: D, Name: Monday, dtype: int64"
            ]
          },
          "metadata": {
            "tags": []
          },
          "execution_count": 27
        }
      ]
    },
    {
      "cell_type": "code",
      "metadata": {
        "id": "Bql5TlWjM773",
        "colab_type": "code",
        "colab": {
          "base_uri": "https://localhost:8080/",
          "height": 126
        },
        "outputId": "b3d249e5-29ed-4862-bcc5-872c401139e1"
      },
      "source": [
        "q = pd.Series([2,4,6,65,32], pd.RangeIndex(start = 0 , stop = 10 ,step = 2))\n",
        "q"
      ],
      "execution_count": 29,
      "outputs": [
        {
          "output_type": "execute_result",
          "data": {
            "text/plain": [
              "0     2\n",
              "2     4\n",
              "4     6\n",
              "6    65\n",
              "8    32\n",
              "dtype: int64"
            ]
          },
          "metadata": {
            "tags": []
          },
          "execution_count": 29
        }
      ]
    },
    {
      "cell_type": "code",
      "metadata": {
        "id": "zNGKAtlJNmUn",
        "colab_type": "code",
        "colab": {}
      },
      "source": [
        ""
      ],
      "execution_count": 0,
      "outputs": []
    }
  ]
}