{
 "cells": [
  {
   "cell_type": "code",
   "execution_count": 9,
   "metadata": {},
   "outputs": [
    {
     "name": "stdout",
     "output_type": "stream",
     "text": [
      "His First Name Is Wajahat\n",
      "His Last Name Is Arain\n",
      "His Age Is 24\n",
      "He Lives In Mirpurkhas\n"
     ]
    }
   ],
   "source": [
    "bio_data={'first_name':'wajahat','last_name':'arain','age':24,'city':'mirpurkhas'}\n",
    "print('His first name is {}'.format(bio_data['first_name']).title())\n",
    "print('His last name is {}'.format(bio_data['last_name']).title())\n",
    "print('His age is {}'.format(bio_data['age']).title())\n",
    "print('He lives in {}'.format(bio_data['city']).title())"
   ]
  },
  {
   "cell_type": "code",
   "execution_count": null,
   "metadata": {},
   "outputs": [],
   "source": []
  }
 ],
 "metadata": {
  "kernelspec": {
   "display_name": "Python 3",
   "language": "python",
   "name": "python3"
  },
  "language_info": {
   "codemirror_mode": {
    "name": "ipython",
    "version": 3
   },
   "file_extension": ".py",
   "mimetype": "text/x-python",
   "name": "python",
   "nbconvert_exporter": "python",
   "pygments_lexer": "ipython3",
   "version": "3.7.1"
  }
 },
 "nbformat": 4,
 "nbformat_minor": 2
}
