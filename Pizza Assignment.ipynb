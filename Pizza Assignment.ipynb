{
 "cells": [
  {
   "cell_type": "code",
   "execution_count": 6,
   "metadata": {},
   "outputs": [
    {
     "name": "stdout",
     "output_type": "stream",
     "text": [
      "My Favourite Pizzas are=\n",
      "BBQ\n",
      "Tikka\n",
      "Fajita\n",
      "Cheese Lover\n",
      "Afghani\n",
      "My Friend Favourite Pizzas are=\n",
      "BBQ\n",
      "Tikka\n",
      "Fajita\n",
      "Cheese Lover\n",
      "Vegtable\n"
     ]
    }
   ],
   "source": [
    "my_pizzas=['BBQ','Tikka','Fajita','Cheese Lover']\n",
    "friend_pizzas=my_pizzas[:] #Passing by value\n",
    "my_pizzas.append('Afghani')\n",
    "friend_pizzas.append('Vegtable')\n",
    "print('My Favourite Pizzas are=')\n",
    "for mypizza in my_pizzas:\n",
    "    print(mypizza)\n",
    "print('My Friend Favourite Pizzas are=')\n",
    "for friend_pizza in friend_pizzas:\n",
    "    print(friend_pizza)\n"
   ]
  },
  {
   "cell_type": "code",
   "execution_count": 8,
   "metadata": {},
   "outputs": [
    {
     "name": "stdout",
     "output_type": "stream",
     "text": [
      "My Favourite Pizzas are=\n",
      "BBQ\n",
      "Tikka\n",
      "Fajita\n",
      "Cheese Lover\n",
      "Afghani\n",
      "Vegtable\n",
      "My Friend Favourite Pizzas are=\n",
      "BBQ\n",
      "Tikka\n",
      "Fajita\n",
      "Cheese Lover\n",
      "Afghani\n",
      "Vegtable\n"
     ]
    }
   ],
   "source": [
    "my_pizzas=['BBQ','Tikka','Fajita','Cheese Lover']\n",
    "friend_pizzas=my_pizzas #Passing by reference\n",
    "my_pizzas.append('Afghani')\n",
    "friend_pizzas.append('Vegtable')\n",
    "print('My Favourite Pizzas are=')\n",
    "for mypizza in my_pizzas:\n",
    "    print(mypizza)\n",
    "print('My Friend Favourite Pizzas are=')\n",
    "for friend_pizza in friend_pizzas:\n",
    "    print(friend_pizza)"
   ]
  },
  {
   "cell_type": "code",
   "execution_count": null,
   "metadata": {},
   "outputs": [],
   "source": []
  }
 ],
 "metadata": {
  "kernelspec": {
   "display_name": "Python 3",
   "language": "python",
   "name": "python3"
  },
  "language_info": {
   "codemirror_mode": {
    "name": "ipython",
    "version": 3
   },
   "file_extension": ".py",
   "mimetype": "text/x-python",
   "name": "python",
   "nbconvert_exporter": "python",
   "pygments_lexer": "ipython3",
   "version": "3.7.1"
  }
 },
 "nbformat": 4,
 "nbformat_minor": 2
}
