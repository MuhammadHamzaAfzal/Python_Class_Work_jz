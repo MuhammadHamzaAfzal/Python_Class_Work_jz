{
 "cells": [
  {
   "cell_type": "code",
   "execution_count": 3,
   "metadata": {},
   "outputs": [
    {
     "name": "stdout",
     "output_type": "stream",
     "text": [
      "Thank You for Coming\n"
     ]
    }
   ],
   "source": [
    "from IPython.display import clear_output\n",
    "key='y'\n",
    "bal=25000\n",
    "curr=0\n",
    "while key=='y':\n",
    "    print(\"\\t****Welcome to ATM****\")\n",
    "    code=2526\n",
    "    code_ip=int(input('Enter Your Pin='))\n",
    "    if code_ip==code:\n",
    "        ch=input('What do you want do?\\nPress W for Withdraw or Press D for Deposit or B for Balance=')\n",
    "        if ch=='W'or ch=='w':\n",
    "            am=int(input('How much amount you want to withdraw?='))\n",
    "            if am<=bal:\n",
    "                bal-=am\n",
    "                print('You Have Successfully withdraw Rs',am,'\\nYour New Balance is=Rs',bal)\n",
    "            else:\n",
    "                print(\"Sorry, You Do not have enough balance\")\n",
    "        elif ch=='D' or ch=='d':\n",
    "            am=int(input('How much amount you want to deposit?='))\n",
    "            bal+=am\n",
    "            print(\"You Have Successfully Deposited Rs\",am,'\\n Your New Balance is=Rs',bal)\n",
    "        elif ch=='B' or ch=='b':\n",
    "            print(\"Your Current Balance is=Rs\",bal)\n",
    "        else:\n",
    "            print('Wrong Key Pressed')\n",
    "    else:\n",
    "        print(\"Sorry You Have Entered Wrong Pin\")\n",
    "    key=input('Do You Want another transaction? (y/n)')\n",
    "    clear_output()\n",
    "    if key=='N' or key=='n':\n",
    "        print('Thank You for Coming')\n",
    "        break"
   ]
  },
  {
   "cell_type": "code",
   "execution_count": null,
   "metadata": {},
   "outputs": [],
   "source": []
  }
 ],
 "metadata": {
  "kernelspec": {
   "display_name": "Python 3",
   "language": "python",
   "name": "python3"
  },
  "language_info": {
   "codemirror_mode": {
    "name": "ipython",
    "version": 3
   },
   "file_extension": ".py",
   "mimetype": "text/x-python",
   "name": "python",
   "nbconvert_exporter": "python",
   "pygments_lexer": "ipython3",
   "version": "3.7.1"
  }
 },
 "nbformat": 4,
 "nbformat_minor": 2
}
