{
  "nbformat": 4,
  "nbformat_minor": 0,
  "metadata": {
    "colab": {
      "name": "Working With Api.ipynb",
      "provenance": [],
      "include_colab_link": true
    },
    "kernelspec": {
      "name": "python3",
      "display_name": "Python 3"
    }
  },
  "cells": [
    {
      "cell_type": "markdown",
      "metadata": {
        "id": "view-in-github",
        "colab_type": "text"
      },
      "source": [
        "<a href=\"https://colab.research.google.com/github/MuhammadHamzaAfzal/Python_Class_Work_jz/blob/master/Working_With_Api.ipynb\" target=\"_parent\"><img src=\"https://colab.research.google.com/assets/colab-badge.svg\" alt=\"Open In Colab\"/></a>"
      ]
    },
    {
      "cell_type": "markdown",
      "metadata": {
        "id": "nXR1IWSxn8Ay",
        "colab_type": "text"
      },
      "source": [
        "# Working With Api\n"
      ]
    },
    {
      "cell_type": "code",
      "metadata": {
        "id": "UhnkSrvmn_5B",
        "colab_type": "code",
        "colab": {}
      },
      "source": [
        "import requests"
      ],
      "execution_count": 0,
      "outputs": []
    },
    {
      "cell_type": "code",
      "metadata": {
        "id": "EI7IvsMXoGjH",
        "colab_type": "code",
        "colab": {
          "base_uri": "https://localhost:8080/",
          "height": 34
        },
        "outputId": "f8424605-6e59-4592-ff1b-4c6ef087238b"
      },
      "source": [
        "url = 'https://api.github.com/search/repositories?q=language:python&sort=stars'\n",
        "r = requests.get(url)\n",
        "print(\"Status code:\", r.status_code)"
      ],
      "execution_count": 3,
      "outputs": [
        {
          "output_type": "stream",
          "text": [
            "Status code: 200\n"
          ],
          "name": "stdout"
        }
      ]
    },
    {
      "cell_type": "code",
      "metadata": {
        "id": "gzdaw_FXoZgS",
        "colab_type": "code",
        "colab": {}
      },
      "source": [
        " response_dict = r.json()"
      ],
      "execution_count": 0,
      "outputs": []
    },
    {
      "cell_type": "code",
      "metadata": {
        "id": "K2XApYYcohUC",
        "colab_type": "code",
        "colab": {
          "base_uri": "https://localhost:8080/",
          "height": 34
        },
        "outputId": "bebb51e0-79e1-46ea-ee62-d1ffad070d3d"
      },
      "source": [
        "# Process results.\n",
        "print(response_dict.keys())"
      ],
      "execution_count": 5,
      "outputs": [
        {
          "output_type": "stream",
          "text": [
            "dict_keys(['total_count', 'incomplete_results', 'items'])\n"
          ],
          "name": "stdout"
        }
      ]
    },
    {
      "cell_type": "code",
      "metadata": {
        "id": "44BBBTnfovTK",
        "colab_type": "code",
        "colab": {
          "base_uri": "https://localhost:8080/",
          "height": 34
        },
        "outputId": "61a6455b-a8e3-44d5-b109-542fddb8aa5c"
      },
      "source": [
        "print(\"Total repositories:\", response_dict['total_count'])"
      ],
      "execution_count": 6,
      "outputs": [
        {
          "output_type": "stream",
          "text": [
            "Total repositories: 4571304\n"
          ],
          "name": "stdout"
        }
      ]
    },
    {
      "cell_type": "code",
      "metadata": {
        "id": "FopMGj4Pp5Zy",
        "colab_type": "code",
        "colab": {
          "base_uri": "https://localhost:8080/",
          "height": 34
        },
        "outputId": "f8562067-d731-40ab-b21d-1edffac3e44a"
      },
      "source": [
        " repo_dicts = response_dict['items']\n",
        "print(\"Repositories returned:\", len(repo_dicts))"
      ],
      "execution_count": 7,
      "outputs": [
        {
          "output_type": "stream",
          "text": [
            "Repositories returned: 30\n"
          ],
          "name": "stdout"
        }
      ]
    },
    {
      "cell_type": "code",
      "metadata": {
        "id": "ndyAMvuCqyXK",
        "colab_type": "code",
        "colab": {
          "base_uri": "https://localhost:8080/",
          "height": 1000
        },
        "outputId": "bc31a2a2-a22e-4289-e43f-ecd906e742c8"
      },
      "source": [
        "repo_dict = repo_dicts[0]\n",
        "\n",
        "print(\"\\nKeys:\", len(repo_dict))\n",
        "\n",
        "for key in sorted(repo_dict.keys()):\n",
        "  print(key)"
      ],
      "execution_count": 8,
      "outputs": [
        {
          "output_type": "stream",
          "text": [
            "\n",
            "Keys: 74\n",
            "archive_url\n",
            "archived\n",
            "assignees_url\n",
            "blobs_url\n",
            "branches_url\n",
            "clone_url\n",
            "collaborators_url\n",
            "comments_url\n",
            "commits_url\n",
            "compare_url\n",
            "contents_url\n",
            "contributors_url\n",
            "created_at\n",
            "default_branch\n",
            "deployments_url\n",
            "description\n",
            "disabled\n",
            "downloads_url\n",
            "events_url\n",
            "fork\n",
            "forks\n",
            "forks_count\n",
            "forks_url\n",
            "full_name\n",
            "git_commits_url\n",
            "git_refs_url\n",
            "git_tags_url\n",
            "git_url\n",
            "has_downloads\n",
            "has_issues\n",
            "has_pages\n",
            "has_projects\n",
            "has_wiki\n",
            "homepage\n",
            "hooks_url\n",
            "html_url\n",
            "id\n",
            "issue_comment_url\n",
            "issue_events_url\n",
            "issues_url\n",
            "keys_url\n",
            "labels_url\n",
            "language\n",
            "languages_url\n",
            "license\n",
            "merges_url\n",
            "milestones_url\n",
            "mirror_url\n",
            "name\n",
            "node_id\n",
            "notifications_url\n",
            "open_issues\n",
            "open_issues_count\n",
            "owner\n",
            "private\n",
            "pulls_url\n",
            "pushed_at\n",
            "releases_url\n",
            "score\n",
            "size\n",
            "ssh_url\n",
            "stargazers_count\n",
            "stargazers_url\n",
            "statuses_url\n",
            "subscribers_url\n",
            "subscription_url\n",
            "svn_url\n",
            "tags_url\n",
            "teams_url\n",
            "trees_url\n",
            "updated_at\n",
            "url\n",
            "watchers\n",
            "watchers_count\n"
          ],
          "name": "stdout"
        }
      ]
    },
    {
      "cell_type": "code",
      "metadata": {
        "id": "AcoizJVkreRd",
        "colab_type": "code",
        "colab": {
          "base_uri": "https://localhost:8080/",
          "height": 85
        },
        "outputId": "ad08bdf8-3b0b-4c77-b243-1ab1de058844"
      },
      "source": [
        "print(\"\\nSelected information about first repository:\")\n",
        "\n",
        "print('Name:', repo_dict['name'])\n",
        "\n",
        "print('Owner:', repo_dict['owner']['login'])"
      ],
      "execution_count": 9,
      "outputs": [
        {
          "output_type": "stream",
          "text": [
            "\n",
            "Selected information about first repository:\n",
            "Name: system-design-primer\n",
            "Owner: donnemartin\n"
          ],
          "name": "stdout"
        }
      ]
    },
    {
      "cell_type": "code",
      "metadata": {
        "id": "2DZSnE6PsdAi",
        "colab_type": "code",
        "colab": {
          "base_uri": "https://localhost:8080/",
          "height": 102
        },
        "outputId": "fdddaef4-187e-4138-a895-3160fd5cce47"
      },
      "source": [
        "print('Stars:', repo_dict['stargazers_count'])\n",
        "print('Repository:', repo_dict['html_url'])\n",
        "print('Created:', repo_dict['created_at'])\n",
        "print('Updated:', repo_dict['updated_at'])\n",
        "print('Description:', repo_dict['description'])"
      ],
      "execution_count": 10,
      "outputs": [
        {
          "output_type": "stream",
          "text": [
            "Stars: 77877\n",
            "Repository: https://github.com/donnemartin/system-design-primer\n",
            "Created: 2017-02-26T16:15:28Z\n",
            "Updated: 2019-12-11T13:29:54Z\n",
            "Description: Learn how to design large-scale systems. Prep for the system design interview.  Includes Anki flashcards.\n"
          ],
          "name": "stdout"
        }
      ]
    },
    {
      "cell_type": "code",
      "metadata": {
        "id": "w5mWaDxSsq7S",
        "colab_type": "code",
        "colab": {
          "base_uri": "https://localhost:8080/",
          "height": 1000
        },
        "outputId": "27edd3b1-2ef8-4a18-d79a-b31c2d16bf33"
      },
      "source": [
        "print(\"\\nSelected information about each repository:\")\n",
        "for repo_dict in repo_dicts:\n",
        "  print('\\nName:', repo_dict['name'])\n",
        "  print('Owner:', repo_dict['owner']['login'])\n",
        "  print('Stars:', repo_dict['stargazers_count'])\n",
        "  print('Repository:', repo_dict['html_url'])\n",
        "  print('Description:', repo_dict['description'])\n",
        "  print(\"#######################################\")\n",
        "  print(\"#######################################\")\n",
        "  print(\"#######################################\")"
      ],
      "execution_count": 11,
      "outputs": [
        {
          "output_type": "stream",
          "text": [
            "\n",
            "Selected information about each repository:\n",
            "\n",
            "Name: system-design-primer\n",
            "Owner: donnemartin\n",
            "Stars: 77877\n",
            "Repository: https://github.com/donnemartin/system-design-primer\n",
            "Description: Learn how to design large-scale systems. Prep for the system design interview.  Includes Anki flashcards.\n",
            "#######################################\n",
            "#######################################\n",
            "#######################################\n",
            "\n",
            "Name: public-apis\n",
            "Owner: public-apis\n",
            "Stars: 67095\n",
            "Repository: https://github.com/public-apis/public-apis\n",
            "Description: A collective list of free APIs for use in software and web development.\n",
            "#######################################\n",
            "#######################################\n",
            "#######################################\n",
            "\n",
            "Name: Python\n",
            "Owner: TheAlgorithms\n",
            "Stars: 63986\n",
            "Repository: https://github.com/TheAlgorithms/Python\n",
            "Description: All Algorithms implemented in Python\n",
            "#######################################\n",
            "#######################################\n",
            "#######################################\n",
            "\n",
            "Name: models\n",
            "Owner: tensorflow\n",
            "Stars: 60193\n",
            "Repository: https://github.com/tensorflow/models\n",
            "Description: Models and examples built with TensorFlow\n",
            "#######################################\n",
            "#######################################\n",
            "#######################################\n",
            "\n",
            "Name: thefuck\n",
            "Owner: nvbn\n",
            "Stars: 50795\n",
            "Repository: https://github.com/nvbn/thefuck\n",
            "Description: Magnificent app which corrects your previous console command.\n",
            "#######################################\n",
            "#######################################\n",
            "#######################################\n",
            "\n",
            "Name: flask\n",
            "Owner: pallets\n",
            "Stars: 47899\n",
            "Repository: https://github.com/pallets/flask\n",
            "Description: The Python micro framework for building web applications.\n",
            "#######################################\n",
            "#######################################\n",
            "#######################################\n",
            "\n",
            "Name: keras\n",
            "Owner: keras-team\n",
            "Stars: 45886\n",
            "Repository: https://github.com/keras-team/keras\n",
            "Description: Deep Learning for humans\n",
            "#######################################\n",
            "#######################################\n",
            "#######################################\n",
            "\n",
            "Name: django\n",
            "Owner: django\n",
            "Stars: 45812\n",
            "Repository: https://github.com/django/django\n",
            "Description: The Web framework for perfectionists with deadlines.\n",
            "#######################################\n",
            "#######################################\n",
            "#######################################\n",
            "\n",
            "Name: httpie\n",
            "Owner: jakubroztocil\n",
            "Stars: 44999\n",
            "Repository: https://github.com/jakubroztocil/httpie\n",
            "Description: As easy as HTTPie /aitch-tee-tee-pie/  🥧 Modern command line HTTP client – user-friendly curl alternative with intuitive UI, JSON support, syntax highlighting, wget-like downloads, extensions, etc.  https://twitter.com/clihttp\n",
            "#######################################\n",
            "#######################################\n",
            "#######################################\n",
            "\n",
            "Name: awesome-machine-learning\n",
            "Owner: josephmisiti\n",
            "Stars: 42843\n",
            "Repository: https://github.com/josephmisiti/awesome-machine-learning\n",
            "Description: A curated list of awesome Machine Learning frameworks, libraries and software.\n",
            "#######################################\n",
            "#######################################\n",
            "#######################################\n",
            "\n",
            "Name: requests\n",
            "Owner: psf\n",
            "Stars: 41005\n",
            "Repository: https://github.com/psf/requests\n",
            "Description: A simple, yet elegant HTTP library.\n",
            "#######################################\n",
            "#######################################\n",
            "#######################################\n",
            "\n",
            "Name: scikit-learn\n",
            "Owner: scikit-learn\n",
            "Stars: 38474\n",
            "Repository: https://github.com/scikit-learn/scikit-learn\n",
            "Description: scikit-learn: machine learning in Python\n",
            "#######################################\n",
            "#######################################\n",
            "#######################################\n",
            "\n",
            "Name: scrapy\n",
            "Owner: scrapy\n",
            "Stars: 35376\n",
            "Repository: https://github.com/scrapy/scrapy\n",
            "Description: Scrapy, a fast high-level web crawling & scraping framework for Python.\n",
            "#######################################\n",
            "#######################################\n",
            "#######################################\n",
            "\n",
            "Name: shadowsocks\n",
            "Owner: shadowsocks\n",
            "Stars: 32026\n",
            "Repository: https://github.com/shadowsocks/shadowsocks\n",
            "Description: None\n",
            "#######################################\n",
            "#######################################\n",
            "#######################################\n",
            "\n",
            "Name: face_recognition\n",
            "Owner: ageitgey\n",
            "Stars: 30425\n",
            "Repository: https://github.com/ageitgey/face_recognition\n",
            "Description: The world's simplest facial recognition api for Python and the command line\n",
            "#######################################\n",
            "#######################################\n",
            "#######################################\n",
            "\n",
            "Name: home-assistant\n",
            "Owner: home-assistant\n",
            "Stars: 29796\n",
            "Repository: https://github.com/home-assistant/home-assistant\n",
            "Description: :house_with_garden: Open source home automation that puts local control and privacy first\n",
            "#######################################\n",
            "#######################################\n",
            "#######################################\n",
            "\n",
            "Name: XX-Net\n",
            "Owner: XX-net\n",
            "Stars: 29149\n",
            "Repository: https://github.com/XX-net/XX-Net\n",
            "Description: a web proxy tool\n",
            "#######################################\n",
            "#######################################\n",
            "#######################################\n",
            "\n",
            "Name: you-get\n",
            "Owner: soimort\n",
            "Stars: 28640\n",
            "Repository: https://github.com/soimort/you-get\n",
            "Description: :arrow_double_down: Dumb downloader that scrapes the web\n",
            "#######################################\n",
            "#######################################\n",
            "#######################################\n",
            "\n",
            "Name: cpython\n",
            "Owner: python\n",
            "Stars: 28220\n",
            "Repository: https://github.com/python/cpython\n",
            "Description: The Python programming language\n",
            "#######################################\n",
            "#######################################\n",
            "#######################################\n",
            "\n",
            "Name: faceswap\n",
            "Owner: deepfakes\n",
            "Stars: 27882\n",
            "Repository: https://github.com/deepfakes/faceswap\n",
            "Description: Deepfakes Software For All\n",
            "#######################################\n",
            "#######################################\n",
            "#######################################\n",
            "\n",
            "Name: 100-Days-Of-ML-Code\n",
            "Owner: Avik-Jain\n",
            "Stars: 27293\n",
            "Repository: https://github.com/Avik-Jain/100-Days-Of-ML-Code\n",
            "Description: 100 Days of ML Coding\n",
            "#######################################\n",
            "#######################################\n",
            "#######################################\n",
            "\n",
            "Name: CppCoreGuidelines\n",
            "Owner: isocpp\n",
            "Stars: 25436\n",
            "Repository: https://github.com/isocpp/CppCoreGuidelines\n",
            "Description: The C++ Core Guidelines are a set of tried-and-true guidelines, rules, and best practices about coding in C++\n",
            "#######################################\n",
            "#######################################\n",
            "#######################################\n",
            "\n",
            "Name: Deep-Learning-Papers-Reading-Roadmap\n",
            "Owner: floodsung\n",
            "Stars: 24639\n",
            "Repository: https://github.com/floodsung/Deep-Learning-Papers-Reading-Roadmap\n",
            "Description: Deep Learning papers reading roadmap for anyone who are eager to learn this amazing tech!\n",
            "#######################################\n",
            "#######################################\n",
            "#######################################\n",
            "\n",
            "Name: sentry\n",
            "Owner: getsentry\n",
            "Stars: 23247\n",
            "Repository: https://github.com/getsentry/sentry\n",
            "Description: Sentry is cross-platform application monitoring, with a focus on error reporting.\n",
            "#######################################\n",
            "#######################################\n",
            "#######################################\n",
            "\n",
            "Name: interview_internal_reference\n",
            "Owner: 0voice\n",
            "Stars: 23019\n",
            "Repository: https://github.com/0voice/interview_internal_reference\n",
            "Description: 2019年最新总结，阿里，腾讯，百度，美团，头条等技术面试题目，以及答案，专家出题人分析汇总。\n",
            "#######################################\n",
            "#######################################\n",
            "#######################################\n",
            "\n",
            "Name: python-patterns\n",
            "Owner: faif\n",
            "Stars: 22999\n",
            "Repository: https://github.com/faif/python-patterns\n",
            "Description: A collection of design patterns/idioms in Python\n",
            "#######################################\n",
            "#######################################\n",
            "#######################################\n",
            "\n",
            "Name: Detectron\n",
            "Owner: facebookresearch\n",
            "Stars: 22532\n",
            "Repository: https://github.com/facebookresearch/Detectron\n",
            "Description: FAIR's research platform for object detection research, implementing popular algorithms like Mask R-CNN and RetinaNet.\n",
            "#######################################\n",
            "#######################################\n",
            "#######################################\n",
            "\n",
            "Name: AiLearning\n",
            "Owner: apachecn\n",
            "Stars: 21989\n",
            "Repository: https://github.com/apachecn/AiLearning\n",
            "Description: AiLearning: 机器学习 - MachineLearning - ML、深度学习 - DeepLearning - DL、自然语言处理 NLP\n",
            "#######################################\n",
            "#######################################\n",
            "#######################################\n",
            "\n",
            "Name: localstack\n",
            "Owner: localstack\n",
            "Stars: 21935\n",
            "Repository: https://github.com/localstack/localstack\n",
            "Description: 💻  A fully functional local AWS cloud stack. Develop and test your cloud & Serverless apps offline!\n",
            "#######################################\n",
            "#######################################\n",
            "#######################################\n",
            "\n",
            "Name: jieba\n",
            "Owner: fxsjy\n",
            "Stars: 21157\n",
            "Repository: https://github.com/fxsjy/jieba\n",
            "Description: 结巴中文分词\n",
            "#######################################\n",
            "#######################################\n",
            "#######################################\n"
          ],
          "name": "stdout"
        }
      ]
    },
    {
      "cell_type": "code",
      "metadata": {
        "id": "Qu5PGcg1h9pW",
        "colab_type": "code",
        "colab": {
          "base_uri": "https://localhost:8080/",
          "height": 122
        },
        "outputId": "118758e1-a0e7-43c9-ff67-de0fb1464cfd"
      },
      "source": [
        "pip install pygal"
      ],
      "execution_count": 13,
      "outputs": [
        {
          "output_type": "stream",
          "text": [
            "Collecting pygal\n",
            "\u001b[?25l  Downloading https://files.pythonhosted.org/packages/5f/b7/201c9254ac0d2b8ffa3bb2d528d23a4130876d9ba90bc28e99633f323f17/pygal-2.4.0-py2.py3-none-any.whl (127kB)\n",
            "\u001b[K     |████████████████████████████████| 133kB 2.8MB/s \n",
            "\u001b[?25hInstalling collected packages: pygal\n",
            "Successfully installed pygal-2.4.0\n"
          ],
          "name": "stdout"
        }
      ]
    },
    {
      "cell_type": "code",
      "metadata": {
        "id": "KurHsG-riegt",
        "colab_type": "code",
        "colab": {}
      },
      "source": [
        ""
      ],
      "execution_count": 0,
      "outputs": []
    }
  ]
}