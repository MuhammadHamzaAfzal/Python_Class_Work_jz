{
 "cells": [
  {
   "cell_type": "code",
   "execution_count": null,
   "metadata": {},
   "outputs": [
    {
     "name": "stdout",
     "output_type": "stream",
     "text": [
      "\t****Welcome to ATM****\n",
      "Enter your username=umar\n",
      "Enter Your Pin=005\n",
      "What do you want do?\n",
      "Press W for Withdraw or Press D for Deposit or B for Balance=b\n",
      "Your Current Balance is=Rs 55000\n"
     ]
    }
   ],
   "source": [
    "from IPython.display import clear_output\n",
    "user=['ahmed','usman','ali','raza','umar']\n",
    "pin=['001','002','003','004','005']\n",
    "bal=[10000,11000,20000,17000,30000]\n",
    "key='y'\n",
    "curr=0\n",
    "flag=0\n",
    "while key=='y':\n",
    "    print(\"\\t****Welcome to ATM****\")\n",
    "    iu=input('Enter your username=').title()\n",
    "    ip=input('Enter Your Pin=')\n",
    "    i=0\n",
    "    while i<len(user):\n",
    "        if iu==user[i].title() and ip==pin[i]:\n",
    "            flag=0\n",
    "            ch=input('What do you want do?\\nPress W for Withdraw or Press D for Deposit or B for Balance=')\n",
    "            if ch=='W'or ch=='w':\n",
    "                am=int(input('How much amount you want to withdraw?='))\n",
    "                if am<=bal[i]:\n",
    "                    bal[i]-=am\n",
    "                    print('You Have Successfully withdraw Rs',am,'\\nYour New Balance is=Rs',bal[i])\n",
    "                    break\n",
    "                else:\n",
    "                    print(\"Sorry, You Do not have enough balance\")\n",
    "                    break\n",
    "            elif ch=='D' or ch=='d':\n",
    "                am=int(input('How much amount you want to deposit?='))\n",
    "                bal[i]+=am\n",
    "                print(\"You Have Successfully Deposited Rs\",am,'\\n Your New Balance is=Rs',bal[i])\n",
    "                break\n",
    "            elif ch=='B' or ch=='b':\n",
    "                print(\"Your Current Balance is=Rs\",bal[i])\n",
    "                break\n",
    "            else:\n",
    "                print('Wrong Key Pressed')\n",
    "                break        \n",
    "        else:\n",
    "            flag=1\n",
    "        i+=1  \n",
    "    if flag==1:\n",
    "        print(\"You Have Entered Wrong Username or Pin\")\n",
    "             \n",
    "        \n",
    "    key=input('Do You Want another transaction? (y/n)')\n",
    "    clear_output()\n",
    "    if key=='N' or key=='n':\n",
    "        print('Thank You for Coming')\n",
    "        break\n",
    "    "
   ]
  },
  {
   "cell_type": "code",
   "execution_count": null,
   "metadata": {},
   "outputs": [],
   "source": []
  },
  {
   "cell_type": "code",
   "execution_count": null,
   "metadata": {},
   "outputs": [],
   "source": []
  }
 ],
 "metadata": {
  "kernelspec": {
   "display_name": "Python 3",
   "language": "python",
   "name": "python3"
  },
  "language_info": {
   "codemirror_mode": {
    "name": "ipython",
    "version": 3
   },
   "file_extension": ".py",
   "mimetype": "text/x-python",
   "name": "python",
   "nbconvert_exporter": "python",
   "pygments_lexer": "ipython3",
   "version": "3.7.1"
  }
 },
 "nbformat": 4,
 "nbformat_minor": 2
}
