{
 "cells": [
  {
   "cell_type": "code",
   "execution_count": 14,
   "metadata": {},
   "outputs": [],
   "source": [
    "class dog():\n",
    "    def __init__(self,name,age):\n",
    "        \n",
    "        self.name = name\n",
    "        self.age = age\n",
    "    def sit(self):\n",
    "        print(self.name.title() ,\"is\" , self.age ,   \"and now is sitting.\")\n",
    "        \n",
    "    def roll_over(self):\n",
    "        print(self.name.title() + \" rolled over!\")"
   ]
  },
  {
   "cell_type": "code",
   "execution_count": 15,
   "metadata": {},
   "outputs": [],
   "source": [
    "dog1 = dog(\"tommy\",4)\n",
    "dog2 = dog(\"puppy\",5)\n",
    "dog3 = dog(\"bunny\",3)"
   ]
  },
  {
   "cell_type": "code",
   "execution_count": 16,
   "metadata": {},
   "outputs": [
    {
     "name": "stdout",
     "output_type": "stream",
     "text": [
      "Puppy rolled over!\n"
     ]
    }
   ],
   "source": [
    "dog2.roll_over()"
   ]
  },
  {
   "cell_type": "code",
   "execution_count": 17,
   "metadata": {},
   "outputs": [
    {
     "name": "stdout",
     "output_type": "stream",
     "text": [
      "Tommy is 4 and now is sitting.\n"
     ]
    }
   ],
   "source": [
    "dog1.sit()"
   ]
  },
  {
   "cell_type": "code",
   "execution_count": 17,
   "metadata": {},
   "outputs": [],
   "source": [
    "class car():\n",
    "    def __init__(self,model,color,make):\n",
    "        \n",
    "        self.model = model\n",
    "        self.color = color\n",
    "        self.make = make\n",
    "    def turn(self):\n",
    "        print(self.color , self.model,\"is turning\")"
   ]
  },
  {
   "cell_type": "code",
   "execution_count": 18,
   "metadata": {},
   "outputs": [],
   "source": [
    "car1 = car(\"civic\",\"metalic grey\",2017)"
   ]
  },
  {
   "cell_type": "code",
   "execution_count": 19,
   "metadata": {},
   "outputs": [
    {
     "name": "stdout",
     "output_type": "stream",
     "text": [
      "metalic grey civic is turning\n"
     ]
    }
   ],
   "source": [
    "car1.turn()"
   ]
  },
  {
   "cell_type": "code",
   "execution_count": 38,
   "metadata": {},
   "outputs": [],
   "source": [
    "class restaurant():\n",
    "    def __init__(self,name,cuisineType):\n",
    "        \n",
    "        self.name = name\n",
    "        self.cuisineType = cuisineType\n",
    "        self.number_served = 0\n",
    "    def describe_restaurant(self):\n",
    "        print(\"The name of restaurant is \",self.name, \"& type is \" ,self.cuisineType)\n",
    "    def open_restaurant(self):\n",
    "        print(self.name , \"is open now\")\n",
    "        \n",
    "    def number_served(self):\n",
    "        print(\"No of customers the restaurant has served are\",self.number_served)\n",
    "        \n",
    "    def set_number_served(self,served):\n",
    "        self.number_served=served\n",
    "        print(\"How they can be less?\")\n",
    "        \n",
    "    def increment_number_served(self,increment):\n",
    "        self.increment_number_served += increment \n",
    "        print(\"we have served well!\")\n",
    "        "
   ]
  },
  {
   "cell_type": "code",
   "execution_count": 20,
   "metadata": {},
   "outputs": [],
   "source": [
    "r1 = restaurant(\"MandiHouse\",\"Arabi\")"
   ]
  },
  {
   "cell_type": "code",
   "execution_count": 21,
   "metadata": {},
   "outputs": [
    {
     "name": "stdout",
     "output_type": "stream",
     "text": [
      "The name of restaurant is  MandiHouse & type is  Arabi\n"
     ]
    }
   ],
   "source": [
    "r1.describe_restaurant()"
   ]
  },
  {
   "cell_type": "code",
   "execution_count": 22,
   "metadata": {},
   "outputs": [
    {
     "name": "stdout",
     "output_type": "stream",
     "text": [
      "MandiHouse is open now\n"
     ]
    }
   ],
   "source": [
    "r1.open_restaurant()"
   ]
  },
  {
   "cell_type": "code",
   "execution_count": 31,
   "metadata": {},
   "outputs": [],
   "source": [
    "class user():\n",
    "    def __init__(self,first_name,last_name):\n",
    "        \n",
    "        \n",
    "        self.first_name = first_name\n",
    "        self.last_name = last_name\n",
    "    \n",
    "    def describe_user(self):\n",
    "        print(\"he lives in Islamabad & he is 21 years old his name is\",self.first_name,self.last_name)\n",
    "        \n",
    "    def greetings(self):\n",
    "        print(\"Good morning have a pleasant day\",self.first_name,self.last_name)"
   ]
  },
  {
   "cell_type": "code",
   "execution_count": 32,
   "metadata": {},
   "outputs": [],
   "source": [
    "u1 = user(\"Umair\" ,\"shiekh\")\n",
    "u2 = user(\"Muhmmad\" ,\"qasim\")\n",
    "u3 = user(\"Butt\",\"shahab\")"
   ]
  },
  {
   "cell_type": "code",
   "execution_count": 33,
   "metadata": {},
   "outputs": [
    {
     "name": "stdout",
     "output_type": "stream",
     "text": [
      "he lives in Islamabad & he is 21 years old his name is Umair shiekh\n",
      "Good morning have a pleasant day Muhmmad qasim\n"
     ]
    }
   ],
   "source": [
    "u1.describe_user()\n",
    "u2.greetings()"
   ]
  },
  {
   "cell_type": "code",
   "execution_count": 1,
   "metadata": {},
   "outputs": [],
   "source": [
    "class Patient():\n",
    "    pass"
   ]
  },
  {
   "cell_type": "code",
   "execution_count": 2,
   "metadata": {},
   "outputs": [],
   "source": [
    "class Patient():\n",
    "    def __init__(self,last_name):\n",
    "        pass"
   ]
  },
  {
   "cell_type": "code",
   "execution_count": 5,
   "metadata": {},
   "outputs": [],
   "source": [
    "class Patient():\n",
    "    def __init__(self,last_name):\n",
    "        self.last_name = last_name\n",
    "        pass"
   ]
  },
  {
   "cell_type": "code",
   "execution_count": 6,
   "metadata": {},
   "outputs": [],
   "source": [
    "pid001 = Patient(\"xyz\")\n",
    "pid002 = Patient(\"anyone\")\n",
    "pid003 = Patient(\"someone\")"
   ]
  },
  {
   "cell_type": "code",
   "execution_count": 8,
   "metadata": {},
   "outputs": [],
   "source": [
    "class Patient():\n",
    "    def __init__(self,last_name,first_name,age):\n",
    "        self.l_n = last_name\n",
    "        self.f_n = first_name\n",
    "        self.age = age\n",
    "pid001 = Patient(\"xyz\",\"khan\",28)        "
   ]
  },
  {
   "cell_type": "code",
   "execution_count": 10,
   "metadata": {},
   "outputs": [],
   "source": [
    "pid002 = Patient (\"anyone\",\"two\",20)\n",
    "pid003 = Patient (\"someone\",\"by\",35)\n",
    "pid004 = Patient (\"huamn\",\"being\",6)"
   ]
  },
  {
   "cell_type": "code",
   "execution_count": 12,
   "metadata": {},
   "outputs": [
    {
     "data": {
      "text/plain": [
       "'xyz'"
      ]
     },
     "execution_count": 12,
     "metadata": {},
     "output_type": "execute_result"
    }
   ],
   "source": [
    "pid001.l_n"
   ]
  },
  {
   "cell_type": "code",
   "execution_count": 15,
   "metadata": {},
   "outputs": [
    {
     "name": "stdout",
     "output_type": "stream",
     "text": [
      "xyz\n",
      "20\n",
      "by\n",
      "being huamn 6\n"
     ]
    }
   ],
   "source": [
    "print(pid001.l_n)\n",
    "print(pid002.age)\n",
    "print(pid003.f_n)\n",
    "print(pid004.f_n,pid004.l_n,pid004.age)"
   ]
  },
  {
   "cell_type": "code",
   "execution_count": 21,
   "metadata": {},
   "outputs": [],
   "source": [
    "class Bike():\n",
    "    def __init__(self,color,model,make):\n",
    "        \n",
    "        \n",
    "        self.color = color\n",
    "        self.model = model\n",
    "        self.make = make\n",
    "        "
   ]
  },
  {
   "cell_type": "code",
   "execution_count": 22,
   "metadata": {},
   "outputs": [],
   "source": [
    "b1 = Bike(\"white\",\"heavybike\",2017)\n",
    "b2 = Bike(\"green\",\"hambike\",2015)"
   ]
  },
  {
   "cell_type": "code",
   "execution_count": 23,
   "metadata": {},
   "outputs": [
    {
     "name": "stdout",
     "output_type": "stream",
     "text": [
      "white heavybike 2017\n"
     ]
    }
   ],
   "source": [
    "print(b1.color,b1.model,b1.make)"
   ]
  },
  {
   "cell_type": "code",
   "execution_count": 39,
   "metadata": {},
   "outputs": [],
   "source": [
    "class Car():\n",
    "    \n",
    "    \"\"\"A simple attempt to represent a car.\"\"\"\n",
    "    \n",
    "    def __init__(self,make,model,year):\n",
    "        \n",
    "        \"\"\"Intialize attributes to describe a car.\"\"\"\n",
    "        \n",
    "        self.make = make\n",
    "        self.model = model\n",
    "        self.year = year\n",
    "        self.odometer_reading = 0\n",
    "        \n",
    "    def get_descriptive_name(self):\n",
    "        \n",
    "        \"\"\"Return a neatly formated descriptive name.\"\"\"\n",
    "        \n",
    "        long_name = str(self.year) + \" \" + self.make + \" \" + self.model\n",
    "        return long_name.title()\n",
    "    \n",
    "    def read_odometer(self):\n",
    "        print(\"This car has \"+ str(self.odometer_reading) + \" milies on it.\")\n",
    "        \n",
    "    def update_odometer(self,mileage):\n",
    "        self.odometer_reading = mileage\n",
    "        \n",
    "    def increment_odometer(self,miles):\n",
    "        \"\"\"Add the given amount to the odometer reading.\"\"\"\n",
    "        self.odometer_reading += miles"
   ]
  },
  {
   "cell_type": "code",
   "execution_count": 40,
   "metadata": {},
   "outputs": [
    {
     "name": "stdout",
     "output_type": "stream",
     "text": [
      "This car has 50 milies on it.\n",
      "This car has 90 milies on it.\n"
     ]
    }
   ],
   "source": [
    "my_new_car=Car(\"audi\",\"a4\",2017)\n",
    "my_new_car.update_odometer(50)\n",
    "my_new_car.read_odometer()\n",
    "my_new_car.get_descriptive_name()\n",
    "my_new_car.increment_odometer(40)\n",
    "my_new_car.read_odometer()"
   ]
  },
  {
   "cell_type": "code",
   "execution_count": 30,
   "metadata": {},
   "outputs": [
    {
     "name": "stdout",
     "output_type": "stream",
     "text": [
      "This car has 23 milies on it.\n"
     ]
    }
   ],
   "source": [
    "my_new_car.odometer_reading = 23\n",
    "my_new_car.read_odometer()"
   ]
  },
  {
   "cell_type": "code",
   "execution_count": 56,
   "metadata": {},
   "outputs": [],
   "source": [
    "class Mobile():\n",
    "    def __init__(self,make,model,color,price):\n",
    "        \n",
    "        self.make = make\n",
    "        self.model = model\n",
    "        self.color = color\n",
    "        self.price = price\n",
    "        \n",
    "    def detail(self):\n",
    "        print(\"It is manufacture by \",self.make,\" model is \" , self.model ,\" color is \" , self.color,\" price is \" ,str(self.price))\n",
    "     \n",
    "    def opinion(self):\n",
    "        print(self.make,\" is reliable in usuage \")    "
   ]
  },
  {
   "cell_type": "code",
   "execution_count": 57,
   "metadata": {},
   "outputs": [],
   "source": [
    "mob = Mobile(\"samsung\",\"s10\",\"jetblack\",100000)"
   ]
  },
  {
   "cell_type": "code",
   "execution_count": 58,
   "metadata": {},
   "outputs": [
    {
     "name": "stdout",
     "output_type": "stream",
     "text": [
      "It is manufacture by  samsung  model is  s10  color is  jetblack  price is  100000\n"
     ]
    }
   ],
   "source": [
    "mob.detail()"
   ]
  },
  {
   "cell_type": "code",
   "execution_count": 59,
   "metadata": {},
   "outputs": [
    {
     "name": "stdout",
     "output_type": "stream",
     "text": [
      "samsung  is reliable in usuage \n"
     ]
    }
   ],
   "source": [
    "mob.opinion()"
   ]
  },
  {
   "cell_type": "markdown",
   "metadata": {},
   "source": [
    "# Inheritance\n"
   ]
  },
  {
   "cell_type": "code",
   "execution_count": 31,
   "metadata": {},
   "outputs": [],
   "source": [
    "class Car():\n",
    "    \n",
    "    \"\"\"A simple attempt to represent a car.\"\"\"\n",
    "    \n",
    "    def __init__(self,make,model,year):\n",
    "        \n",
    "        \"\"\"Intialize attributes to describe a car.\"\"\"\n",
    "        \n",
    "        self.make = make\n",
    "        self.model = model\n",
    "        self.year = year\n",
    "        self.odometer_reading = 0\n",
    "        \n",
    "    def get_descriptive_name(self):\n",
    "        \n",
    "        \"\"\"Return a neatly formated descriptive name.\"\"\"\n",
    "        \n",
    "        long_name = str(self.year) + \" \" + self.make + \" \" + self.model\n",
    "        return long_name.title()\n",
    "    \n",
    "    def read_odometer(self):\n",
    "        print(\"This car has \"+ str(self.odometer_reading) + \" milies on it.\")\n",
    "        \n",
    "    def update_odometer(self,mileage):\n",
    "        self.odometer_reading = mileage\n",
    "        \n",
    "    def increment_odometer(self,miles):\n",
    "        \"\"\"Add the given amount to the odometer reading.\"\"\"\n",
    "        self.odometer_reading += miles\n",
    "        \n",
    "    def fill_gas_tank(self):\n",
    "        print(\"Kindly fill your gas tank!\")\n",
    "    "
   ]
  },
  {
   "cell_type": "code",
   "execution_count": 34,
   "metadata": {},
   "outputs": [],
   "source": [
    "class Electriccar(Car):\n",
    "    def __init__(self,make,model,year):\n",
    "        super().__init__(make,model,year)\n",
    "        self.battery_size = 70\n",
    "        \n",
    "    def describe_battery(self):\n",
    "        print(\"This car has a \" +str(self.battery_size) + \"-kwh battery.\")\n",
    "        \n",
    "    def fill_gas_tank(self):\n",
    "        print(\"This car doesn,t need a gas tank!\")"
   ]
  },
  {
   "cell_type": "code",
   "execution_count": 35,
   "metadata": {},
   "outputs": [
    {
     "name": "stdout",
     "output_type": "stream",
     "text": [
      "2016 Tesla Model S\n",
      "This car has a 70-kwh battery.\n",
      "None\n",
      "This car doesn,t need a gas tank!\n"
     ]
    }
   ],
   "source": [
    "my_tesla = Electriccar(\"tesla\",\"model s\",2016)\n",
    "print(my_tesla.get_descriptive_name())\n",
    "print(my_tesla.describe_battery())\n",
    "my_tesla.fill_gas_tank()"
   ]
  },
  {
   "cell_type": "code",
   "execution_count": 49,
   "metadata": {},
   "outputs": [],
   "source": [
    "class Battery():\n",
    "    def __init__(self,manufacture,cycles,amperes,battery_size=70):\n",
    "        \"\"\"Intialize the battery's attributes.\"\"\"\n",
    "        self.battery_size = battery_size\n",
    "        self.manufacture = manufacture\n",
    "        self.cycles = cycles\n",
    "        self.amperes = amperes\n",
    "        \n",
    "    def describe_battery(self):\n",
    "        print(\"This car has a \" + str(self.battery_size) + \"-kwh battery.\")\n",
    "        \n",
    "    def get_range(self):\n",
    "        \"\"\"Print a statement about the range this battery provides.\"\"\"\n",
    "        range = 0\n",
    "        if self.battery_size == 70:\n",
    "            range = 240\n",
    "        elif self.battery_size == 85:\n",
    "            range = 270\n",
    "        message = \" This car go approxmiately \" + str(range)\n",
    "        message += \" miles on a full charge.\"\n",
    "        print(message)"
   ]
  },
  {
   "cell_type": "code",
   "execution_count": 51,
   "metadata": {},
   "outputs": [
    {
     "name": "stdout",
     "output_type": "stream",
     "text": [
      "2016 Tesla Model S\n",
      "This car has a 50-kwh battery.\n",
      "None\n",
      " This car go approxmiately 0 miles on a full charge.\n"
     ]
    }
   ],
   "source": [
    "class Electriccar(Car):\n",
    "    def __init__(self,make,model,year):\n",
    "        super().__init__(make,model,year)\n",
    "        self.battery = Battery(\"abc\",\"2500\",\"200amp\",50)\n",
    "        \n",
    "my_tesla = Electriccar(\"tesla\",\"model s\",2016)\n",
    "\n",
    "print(my_tesla.get_descriptive_name())\n",
    "print(my_tesla.battery.describe_battery())\n",
    "my_tesla.battery.get_range()\n",
    "        "
   ]
  },
  {
   "cell_type": "code",
   "execution_count": null,
   "metadata": {},
   "outputs": [],
   "source": []
  }
 ],
 "metadata": {
  "kernelspec": {
   "display_name": "Python 3",
   "language": "python",
   "name": "python3"
  },
  "language_info": {
   "codemirror_mode": {
    "name": "ipython",
    "version": 3
   },
   "file_extension": ".py",
   "mimetype": "text/x-python",
   "name": "python",
   "nbconvert_exporter": "python",
   "pygments_lexer": "ipython3",
   "version": "3.7.1"
  }
 },
 "nbformat": 4,
 "nbformat_minor": 2
}
