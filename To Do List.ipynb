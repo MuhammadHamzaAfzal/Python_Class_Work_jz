{
 "cells": [
  {
   "cell_type": "code",
   "execution_count": 16,
   "metadata": {},
   "outputs": [
    {
     "name": "stdout",
     "output_type": "stream",
     "text": [
      "Have You Completed Task 5? [Y/N]=n\n",
      "Please Finish Your Task 5\n",
      "Have You Completed Task 4? [Y/N]=y\n",
      "Have You Completed Task 3? [Y/N]=n\n",
      "Please Finish Your Task 3\n",
      "Have You Completed Task 2? [Y/N]=y\n",
      "Have You Completed Task 1? [Y/N]=n\n",
      "Please Finish Your Task 1\n",
      "Completed Tasks are ['Task 4', 'Task 2']\n"
     ]
    }
   ],
   "source": [
    "task_list=['Task 1','Task 2','Task3','Task 4','Task 5']\n",
    "task_comp=[]\n",
    "ask1=input('Have You Completed Task 5? [Y/N]=').lower()\n",
    "if ask1=='y':\n",
    "    tc=task_list.pop(4)\n",
    "    task_comp.append(tc)\n",
    "else: print('Please Finish Your Task 5')\n",
    "ask2=input('Have You Completed Task 4? [Y/N]=').lower()\n",
    "if ask2=='y':\n",
    "    tc=task_list.pop(3)\n",
    "    task_comp.append(tc)\n",
    "else: print('Please Finish Your Task 4')\n",
    "ask3=input('Have You Completed Task 3? [Y/N]=').lower()\n",
    "if ask3=='y':\n",
    "    tc=task_list.pop(2)\n",
    "    task_comp.append(tc)\n",
    "else: print('Please Finish Your Task 3')\n",
    "ask4=input('Have You Completed Task 2? [Y/N]=').lower()\n",
    "if ask4=='y':\n",
    "    tc=task_list.pop(1)\n",
    "    task_comp.append(tc)\n",
    "else: print('Please Finish Your Task 2')\n",
    "ask5=input('Have You Completed Task 1? [Y/N]=').lower()\n",
    "if ask5=='y':\n",
    "    tc=task_list.pop(0)\n",
    "    task_comp.append(tc)\n",
    "else: print('Please Finish Your Task 1')\n",
    "print('Completed Tasks are',task_comp)"
   ]
  },
  {
   "cell_type": "code",
   "execution_count": null,
   "metadata": {},
   "outputs": [
    {
     "name": "stdout",
     "output_type": "stream",
     "text": [
      "Enter You Task=namaz\n",
      "Completed Task is ['Namaz']\n",
      "Want to Insert about another task? [Y/N]y\n",
      "Enter You Task=class\n",
      "Completed Task is ['Namaz', 'Class']\n",
      "Want to Insert about another task? [Y/N]y\n",
      "Enter You Task=preparation\n",
      "Completed Task is ['Namaz', 'Class', 'Preparation']\n"
     ]
    }
   ],
   "source": [
    "comp_task=[]\n",
    "todo=['Namaz','Class','Tuition','Programming','Preparation']\n",
    "key='y'\n",
    "while key=='y':\n",
    "    status=input('Enter You Task=').title()\n",
    "    if status in todo:\n",
    "        x=todo.index(status)\n",
    "        done=todo.pop(x)\n",
    "        comp_task.append(done)\n",
    "        print('Completed Task is',comp_task)\n",
    "    else:\n",
    "        print('This Task is not in list')\n",
    "    key=input('Want to Insert about another task? [Y/N]').lower()\n",
    "    if key=='n':\n",
    "        print('Thank You :-)')"
   ]
  },
  {
   "cell_type": "code",
   "execution_count": null,
   "metadata": {},
   "outputs": [],
   "source": []
  }
 ],
 "metadata": {
  "kernelspec": {
   "display_name": "Python 3",
   "language": "python",
   "name": "python3"
  },
  "language_info": {
   "codemirror_mode": {
    "name": "ipython",
    "version": 3
   },
   "file_extension": ".py",
   "mimetype": "text/x-python",
   "name": "python",
   "nbconvert_exporter": "python",
   "pygments_lexer": "ipython3",
   "version": "3.7.1"
  }
 },
 "nbformat": 4,
 "nbformat_minor": 2
}
