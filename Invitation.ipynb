{
 "cells": [
  {
   "cell_type": "code",
   "execution_count": 29,
   "metadata": {},
   "outputs": [
    {
     "name": "stdout",
     "output_type": "stream",
     "text": [
      "['Akbar', 'Faisal', 'Khalid', 'Ameen', 'Riaz']\n",
      "['Adeel', 'Akbar', 'Faisal', 'Raza', 'Khalid', 'Ameen', 'Riaz', 'Amir']\n",
      "Mr Adeel  You are invited on dinner by me\n",
      "Mr Akbar  You are invited on dinner by me\n",
      "Mr Faisal  You are invited on dinner by me\n",
      "Mr Raza  You are invited on dinner by me\n",
      "Mr Khalid  You are invited on dinner by me\n",
      "Mr Ameen  You are invited on dinner by me\n",
      "Mr Riaz  You are invited on dinner by me\n",
      "Mr Amir  You are invited on dinner by me\n",
      "\n"
     ]
    }
   ],
   "source": [
    "guests=['Akbar','Faisal','Khalid','Ameen','Riaz']\n",
    "print(guests)\n",
    "guests.insert(0,'Adeel')\n",
    "guests.insert(3,'Raza')\n",
    "guests.append('Amir')\n",
    "print(guests)\n",
    "print('Mr', guests[0],' You are invited on dinner by me\\n'\n",
    "      'Mr', guests[1],' You are invited on dinner by me\\n'\n",
    "      'Mr', guests[2],' You are invited on dinner by me\\n'\n",
    "      'Mr', guests[3],' You are invited on dinner by me\\n'\n",
    "      'Mr', guests[4],' You are invited on dinner by me\\n'\n",
    "      'Mr', guests[5],' You are invited on dinner by me\\n'\n",
    "      'Mr', guests[6],' You are invited on dinner by me\\n'\n",
    "      'Mr', guests[7],' You are invited on dinner by me\\n')"
   ]
  },
  {
   "cell_type": "code",
   "execution_count": 36,
   "metadata": {},
   "outputs": [
    {
     "name": "stdout",
     "output_type": "stream",
     "text": [
      "Mr Akbar  You are invited on dinner by me\n",
      "\n",
      "Mr Faisal  You are invited on dinner by me\n",
      "\n",
      "Mr Khalid  You are invited on dinner by me\n",
      "\n",
      "Mr Ameen  You are invited on dinner by me\n",
      "\n",
      "Mr Riaz  You are invited on dinner by me\n",
      "\n"
     ]
    }
   ],
   "source": [
    "guests=['Akbar','Faisal','Khalid','Ameen','Riaz']\n",
    "i=0\n",
    "while i<len(guests):\n",
    "    print('Mr', guests[i],' You are invited on dinner by me\\n')\n",
    "    i+=1\n",
    "    "
   ]
  },
  {
   "cell_type": "code",
   "execution_count": null,
   "metadata": {},
   "outputs": [],
   "source": []
  },
  {
   "cell_type": "code",
   "execution_count": null,
   "metadata": {},
   "outputs": [],
   "source": []
  },
  {
   "cell_type": "code",
   "execution_count": null,
   "metadata": {},
   "outputs": [],
   "source": []
  }
 ],
 "metadata": {
  "kernelspec": {
   "display_name": "Python 3",
   "language": "python",
   "name": "python3"
  },
  "language_info": {
   "codemirror_mode": {
    "name": "ipython",
    "version": 3
   },
   "file_extension": ".py",
   "mimetype": "text/x-python",
   "name": "python",
   "nbconvert_exporter": "python",
   "pygments_lexer": "ipython3",
   "version": "3.7.1"
  }
 },
 "nbformat": 4,
 "nbformat_minor": 2
}
