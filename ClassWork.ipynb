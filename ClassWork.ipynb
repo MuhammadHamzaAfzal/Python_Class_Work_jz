{
 "cells": [
  {
   "cell_type": "code",
   "execution_count": 1,
   "metadata": {},
   "outputs": [
    {
     "name": "stdout",
     "output_type": "stream",
     "text": [
      "hello\n"
     ]
    }
   ],
   "source": [
    "print(\"hello\")"
   ]
  },
  {
   "cell_type": "markdown",
   "metadata": {},
   "source": [
    "# Our First Class"
   ]
  },
  {
   "cell_type": "markdown",
   "metadata": {},
   "source": [
    "We are learning python :-)"
   ]
  },
  {
   "cell_type": "code",
   "execution_count": 2,
   "metadata": {},
   "outputs": [
    {
     "name": "stdout",
     "output_type": "stream",
     "text": [
      "Hello World\n"
     ]
    }
   ],
   "source": [
    "print(\"Hello World\")"
   ]
  },
  {
   "cell_type": "code",
   "execution_count": 3,
   "metadata": {},
   "outputs": [
    {
     "name": "stdout",
     "output_type": "stream",
     "text": [
      "123\n"
     ]
    }
   ],
   "source": [
    "print(123)"
   ]
  },
  {
   "cell_type": "code",
   "execution_count": 4,
   "metadata": {},
   "outputs": [
    {
     "name": "stdout",
     "output_type": "stream",
     "text": [
      "123 hey\n"
     ]
    }
   ],
   "source": [
    "print(123,'hey')"
   ]
  },
  {
   "cell_type": "code",
   "execution_count": 5,
   "metadata": {},
   "outputs": [
    {
     "name": "stdout",
     "output_type": "stream",
     "text": [
      "4\n"
     ]
    }
   ],
   "source": [
    "print(2+2)"
   ]
  },
  {
   "cell_type": "code",
   "execution_count": 6,
   "metadata": {},
   "outputs": [
    {
     "name": "stdout",
     "output_type": "stream",
     "text": [
      "This is AI class\n",
      " Dhoraji Association\n"
     ]
    }
   ],
   "source": [
    "print(\"This is AI class\\n Dhoraji Association\")"
   ]
  },
  {
   "cell_type": "code",
   "execution_count": 7,
   "metadata": {},
   "outputs": [
    {
     "name": "stdout",
     "output_type": "stream",
     "text": [
      "Languages:\n",
      "Pyhton\n",
      "Ruby\n",
      "JavaScript\n"
     ]
    }
   ],
   "source": [
    "print(\"Languages:\\nPyhton\\nRuby\\nJavaScript\")"
   ]
  },
  {
   "cell_type": "code",
   "execution_count": 8,
   "metadata": {},
   "outputs": [
    {
     "name": "stdout",
     "output_type": "stream",
     "text": [
      "Languages:\n",
      "\tPyhton\n",
      "\tRuby\n",
      "\tJavaScript\n"
     ]
    }
   ],
   "source": [
    "print(\"Languages:\\n\\tPyhton\\n\\tRuby\\n\\tJavaScript\")"
   ]
  },
  {
   "cell_type": "code",
   "execution_count": 9,
   "metadata": {},
   "outputs": [
    {
     "name": "stdout",
     "output_type": "stream",
     "text": [
      "20\n"
     ]
    },
    {
     "data": {
      "text/plain": [
       "140707137500592"
      ]
     },
     "execution_count": 9,
     "metadata": {},
     "output_type": "execute_result"
    }
   ],
   "source": [
    "num =20\n",
    "print(num)\n",
    "type(num)\n",
    "id(num)"
   ]
  },
  {
   "cell_type": "code",
   "execution_count": 10,
   "metadata": {},
   "outputs": [
    {
     "name": "stdout",
     "output_type": "stream",
     "text": [
      "1bcd bcd\n"
     ]
    }
   ],
   "source": [
    "a='1bcd'\n",
    "b = 'bcd'\n",
    "print((a) + \" \" + (b))\n"
   ]
  },
  {
   "cell_type": "code",
   "execution_count": 11,
   "metadata": {},
   "outputs": [
    {
     "name": "stdout",
     "output_type": "stream",
     "text": [
      "Muhammad\n"
     ]
    }
   ],
   "source": [
    "name='muhammad'\n",
    "print(name.title())"
   ]
  },
  {
   "cell_type": "code",
   "execution_count": 12,
   "metadata": {},
   "outputs": [
    {
     "name": "stdout",
     "output_type": "stream",
     "text": [
      "muhammad\n"
     ]
    }
   ],
   "source": [
    "name='muHamMaD'\n",
    "print(name.lower())"
   ]
  },
  {
   "cell_type": "code",
   "execution_count": 13,
   "metadata": {},
   "outputs": [
    {
     "name": "stdout",
     "output_type": "stream",
     "text": [
      "MUHAMMAD\n"
     ]
    }
   ],
   "source": [
    "name='muhammad'\n",
    "print(name.upper())"
   ]
  },
  {
   "cell_type": "code",
   "execution_count": 14,
   "metadata": {},
   "outputs": [
    {
     "name": "stdout",
     "output_type": "stream",
     "text": [
      "Muhammad Jahanzaib\n"
     ]
    }
   ],
   "source": [
    "name1='jahanzaib'\n",
    "print(name.title()+\" \"+name1.title())"
   ]
  },
  {
   "cell_type": "code",
   "execution_count": null,
   "metadata": {},
   "outputs": [
    {
     "name": "stdout",
     "output_type": "stream",
     "text": [
      "testes\n"
     ]
    }
   ],
   "source": [
    "print (\"tes\"*2) #multiple print"
   ]
  },
  {
   "cell_type": "code",
   "execution_count": null,
   "metadata": {},
   "outputs": [
    {
     "name": "stdout",
     "output_type": "stream",
     "text": [
      "how are you?\n",
      "oh bro\n"
     ]
    }
   ],
   "source": [
    "abc='how are you?'\n",
    "print(abc)\n",
    "abc='oh bro'\n",
    "print(abc)"
   ]
  },
  {
   "cell_type": "code",
   "execution_count": null,
   "metadata": {},
   "outputs": [
    {
     "name": "stdout",
     "output_type": "stream",
     "text": [
      "3\n"
     ]
    },
    {
     "data": {
      "text/plain": [
       "float"
      ]
     },
     "execution_count": 17,
     "metadata": {},
     "output_type": "execute_result"
    }
   ],
   "source": [
    "import math\n",
    "num1=10; num2=20; num3=40; num4=12; num5=34;\n",
    "numt=(num1+num2)/num4\n",
    "print (math.ceil(numt))\n",
    "type(numt)"
   ]
  },
  {
   "cell_type": "code",
   "execution_count": null,
   "metadata": {},
   "outputs": [
    {
     "name": "stdout",
     "output_type": "stream",
     "text": [
      "muhAmmaD jaHanZaIb asHraF\n",
      "Muhammad Jahanzaib Ashraf\n",
      "muhammad jahanzaib ashraf\n",
      "MUHAMMAD JAHANZAIB ASHRAF\n"
     ]
    }
   ],
   "source": [
    "fn='muhAmmaD'; mn='jaHanZaIb'; ln='asHraF';\n",
    "fullname=fn+' '+mn+' '+ln\n",
    "print(fullname)\n",
    "print(fullname.title())\n",
    "print(fullname.lower())\n",
    "print(fullname.upper())"
   ]
  },
  {
   "cell_type": "code",
   "execution_count": null,
   "metadata": {},
   "outputs": [
    {
     "name": "stdout",
     "output_type": "stream",
     "text": [
      "5\n"
     ]
    }
   ],
   "source": [
    "rem= 5 % 9\n",
    "print(rem)"
   ]
  },
  {
   "cell_type": "code",
   "execution_count": null,
   "metadata": {},
   "outputs": [
    {
     "name": "stdout",
     "output_type": "stream",
     "text": [
      "12\n"
     ]
    }
   ],
   "source": [
    "age=10\n",
    "age+=2\n",
    "print(age)"
   ]
  },
  {
   "cell_type": "code",
   "execution_count": null,
   "metadata": {},
   "outputs": [
    {
     "name": "stdout",
     "output_type": "stream",
     "text": [
      "hey\n",
      "hey\n",
      "hey\n",
      "hey\n",
      "hey\n"
     ]
    }
   ],
   "source": [
    "for x in range(5):\n",
    "    print('hey')"
   ]
  },
  {
   "cell_type": "markdown",
   "metadata": {},
   "source": [
    "\"How to take input from user\""
   ]
  },
  {
   "cell_type": "markdown",
   "metadata": {},
   "source": [
    "'+' sign will do concatenation while ',' is a separator"
   ]
  },
  {
   "cell_type": "code",
   "execution_count": null,
   "metadata": {},
   "outputs": [],
   "source": [
    "num1=input(\"Enter first no=\")\n",
    "num2=input('Enter second no=')\n",
    "no1=int(num1)\n",
    "no2=int(num2)\n",
    "x=no1 + no2\n",
    "print('Total Value='+str(x))"
   ]
  },
  {
   "cell_type": "code",
   "execution_count": null,
   "metadata": {},
   "outputs": [],
   "source": [
    "#from IPython.display  import clear_output\n",
    "n1=int(input('value='))\n",
    "n2=input('enter string=')\n",
    "#clear_output()\n",
    "print(n1,n2)\n",
    "n3=str(n1)+\" \"+n2\n",
    "print(n3)"
   ]
  },
  {
   "cell_type": "markdown",
   "metadata": {},
   "source": [
    "Multiple string in one print fucntion using separator"
   ]
  },
  {
   "cell_type": "code",
   "execution_count": null,
   "metadata": {},
   "outputs": [],
   "source": [
    "print('11','03','2019', sep='/')"
   ]
  },
  {
   "cell_type": "markdown",
   "metadata": {},
   "source": [
    "Using end statement in print function"
   ]
  },
  {
   "cell_type": "code",
   "execution_count": null,
   "metadata": {},
   "outputs": [],
   "source": [
    "print ('Hello World ',' ',sep='@', end='')\n",
    "print ('Hello Python')"
   ]
  },
  {
   "cell_type": "code",
   "execution_count": null,
   "metadata": {},
   "outputs": [],
   "source": [
    "x=pow(2,3)\n",
    "print(x)"
   ]
  },
  {
   "cell_type": "markdown",
   "metadata": {},
   "source": [
    "# Clear Output\n",
    "at first \"from IPython.display import clear_output\"\n",
    "then where needed \"clear_output()\" \n"
   ]
  },
  {
   "cell_type": "markdown",
   "metadata": {},
   "source": [
    "# If Statement"
   ]
  },
  {
   "cell_type": "code",
   "execution_count": null,
   "metadata": {},
   "outputs": [],
   "source": [
    "a=10 #'='assign a value to variable\n",
    "b=20/2\n",
    "x=a==b #'==' show comparision\n",
    "price=int(input('enter price='))\n",
    "if price==price:\n",
    "    print('Tamatar 80 rupey kilo')\n",
    "else:\n",
    "    print('Tamatar 70 rupay kilo')"
   ]
  },
  {
   "cell_type": "code",
   "execution_count": null,
   "metadata": {},
   "outputs": [],
   "source": [
    "if '100'==100:\n",
    "    print('valid')\n",
    "else:\n",
    "    print('Invalid')"
   ]
  },
  {
   "cell_type": "markdown",
   "metadata": {},
   "source": [
    "# Operator & Expressions\n",
    "https://realpython.com/python-operators-expressions/ "
   ]
  },
  {
   "cell_type": "code",
   "execution_count": null,
   "metadata": {},
   "outputs": [],
   "source": [
    "a = 4\n",
    "b = 3\n",
    "x1=+a #Unary Positive\n",
    "x2=-b #Unary Negation\n",
    "x3=a+b #Addition\n",
    "x4=a - b #Subtraction\n",
    "x5=a * b #Muliplication\n",
    "x6=a/b #Division, answer will be in float even it is completely divide\n",
    "x7=a//b #Division but this time answer will be in integer, it will be round of\n",
    "x8=a%b\n",
    "a+=2 #increment\n",
    "b-=2\n",
    "print(x1,x2,x3,x4,x5,x6,x7,x8,a,b, sep=' and ')"
   ]
  },
  {
   "cell_type": "markdown",
   "metadata": {},
   "source": [
    "# Variable Names\n",
    " no space in variable name, we use '_'. \n",
    " _ can come in start like _khi. \n",
    " No hyphen('-' or dash)\n"
   ]
  },
  {
   "cell_type": "code",
   "execution_count": null,
   "metadata": {},
   "outputs": [],
   "source": [
    "a=3\n",
    "a*=4\n",
    "a\n",
    "c=20\n",
    "c/=5\n",
    "print(a,c,sep=' ')"
   ]
  },
  {
   "cell_type": "code",
   "execution_count": null,
   "metadata": {},
   "outputs": [],
   "source": [
    "q=10"
   ]
  },
  {
   "cell_type": "markdown",
   "metadata": {},
   "source": [
    "# and or operators"
   ]
  },
  {
   "cell_type": "code",
   "execution_count": null,
   "metadata": {},
   "outputs": [],
   "source": [
    "q=10; w=20\n",
    "if q==10 or w==21:\n",
    "    print('Very Good')\n",
    "else:\n",
    "    print(\"Sorry\")"
   ]
  },
  {
   "cell_type": "code",
   "execution_count": null,
   "metadata": {},
   "outputs": [],
   "source": [
    "%autosave 60"
   ]
  },
  {
   "cell_type": "code",
   "execution_count": null,
   "metadata": {},
   "outputs": [],
   "source": [
    "perm=input('Do You Have Permission? (Ans in Yes or No)=').title()\n",
    "ticket=input('Do You Have Tickets?(Ans in Yes or No)= ').title()\n",
    "time=input('Is Holiday Today? (Ans in Yes or No)=').title()\n",
    "if perm=='Yes' and ticket=='Yes' and time=='Yes':\n",
    "    print('You Can Go!')\n",
    "else:\n",
    "    print('Enjoy Your Time at home :-P')"
   ]
  },
  {
   "cell_type": "code",
   "execution_count": null,
   "metadata": {},
   "outputs": [],
   "source": [
    "degree=input(\"Are you bachelor in Engineering? (Ans in Yes or No)=\").title()\n",
    "cert=input(\"Are You CCNA Certified? (Ans in Yes or No)=\").title()\n",
    "exp=input('Do you Have Experience in this field? (Ans in Yes or No)= ').title()\n",
    "pasp=input(\"Do You Have Passport? (Ans in Yes or No)=\").title()\n",
    "if (degree=='Yes' or cert=='Yes') and exp=='Yes' and pasp=='Yes':\n",
    "    print(\"Congrats You get the job :-)\")\n",
    "else:\n",
    "    print(\"Better Try Next Time\")\n"
   ]
  },
  {
   "cell_type": "markdown",
   "metadata": {},
   "source": [
    "# Nested if"
   ]
  },
  {
   "cell_type": "code",
   "execution_count": null,
   "metadata": {},
   "outputs": [],
   "source": [
    "age=int(input('Enter Your Age='))\n",
    "rem_age=18-age\n",
    "if age>=18:\n",
    "    nic=input('Do You Have CNIC? (Ans in Yes or No)= ').title()\n",
    "    city=input('Enter Your City Name=').title()\n",
    "    v_list=input('Do You Have Your Name in Voter list? (Ans in Yes or No)=').title()\n",
    "    if nic=='Yes' and city=='Karachi':\n",
    "        if v_list=='Yes':\n",
    "            print('Sahi bande ko vote do :-P')\n",
    "        else:\n",
    "            print('Sorry You Dont Have Name in Voter List :-(')\n",
    "    else:\n",
    "        print('Apne Shehar me ja kar vote daalo :D')\n",
    "else:\n",
    "    print('Your are under age''\\nYou will be allowed to vote after',rem_age,'year(s)')"
   ]
  },
  {
   "cell_type": "markdown",
   "metadata": {},
   "source": [
    "Assignment \"ATM through if else\""
   ]
  },
  {
   "cell_type": "markdown",
   "metadata": {},
   "source": [
    "ctrl+/ for multiline line comment,\n",
    "''' it is for paragraph comments'''"
   ]
  },
  {
   "cell_type": "code",
   "execution_count": null,
   "metadata": {},
   "outputs": [],
   "source": [
    "# print('hello')\n",
    "# print('hello')\n",
    "# print('hello')\n",
    "# print('hello')"
   ]
  },
  {
   "cell_type": "markdown",
   "metadata": {},
   "source": [
    "# LIST"
   ]
  },
  {
   "cell_type": "code",
   "execution_count": null,
   "metadata": {},
   "outputs": [],
   "source": [
    "mylist=[\"A\",\"B\",\"C\",\"D\",\"E\"]\n",
    "print(mylist[2])\n",
    "print(mylist[-1]) # for reverse order of list\n",
    "len(mylist) #for length of list"
   ]
  },
  {
   "cell_type": "markdown",
   "metadata": {},
   "source": [
    "list ko reverse me chalana ho to minus se indexing karenge, like mylist[-2], [-1] wala last value dega"
   ]
  },
  {
   "cell_type": "code",
   "execution_count": null,
   "metadata": {},
   "outputs": [],
   "source": [
    "city=['khi','lhr','hyd','isl','quet','pesh','fsd']\n",
    "print(city)\n",
    "city[6]='Skt' #replace or overwrite\n",
    "print(city)\n",
    "city.append('Lrk') #append use to add item in list, and it will come at last/ appear at end\n",
    "print(city)\n",
    "type(city) #list ki data type list hi hogi"
   ]
  },
  {
   "cell_type": "code",
   "execution_count": 21,
   "metadata": {},
   "outputs": [
    {
     "name": "stdout",
     "output_type": "stream",
     "text": [
      "['dahi', 'anday', 'aalo', 'double roti', 'dhaniya', 'surf', 'podina']\n",
      "['dahi', 'aalo', 'double roti', 'dhaniya', 'surf', 'podina']\n",
      "['dahi', 'aalo', 'double roti', 'dhaniya', 'podina']\n"
     ]
    }
   ],
   "source": [
    "saman=['dahi','anday','double roti','dhaniya','podina']\n",
    "saman.insert(2,'aalo') #pehle konse index pe insert karna he wo batao, phr kia insert karna he wo likhen\n",
    "saman.insert(-1,'surf')\n",
    "print(saman)\n",
    "saman.remove('anday') #to remove any element from list, remove kuch return nahi karta\n",
    "print(saman)\n",
    "del saman[4] #to delete element from list\n",
    "print(saman)"
   ]
  },
  {
   "cell_type": "code",
   "execution_count": 20,
   "metadata": {},
   "outputs": [
    {
     "data": {
      "text/plain": [
       "1"
      ]
     },
     "execution_count": 20,
     "metadata": {},
     "output_type": "execute_result"
    }
   ],
   "source": [
    "saman.index('aalo') #to check index"
   ]
  },
  {
   "cell_type": "code",
   "execution_count": 8,
   "metadata": {},
   "outputs": [
    {
     "data": {
      "text/plain": [
       "True"
      ]
     },
     "execution_count": 8,
     "metadata": {},
     "output_type": "execute_result"
    }
   ],
   "source": [
    "\"dahi\" in saman #ye batayega k ap jo dhund rahe hen wo is list me he ya nahi."
   ]
  },
  {
   "cell_type": "markdown",
   "metadata": {},
   "source": [
    "# Pop in list "
   ]
  },
  {
   "cell_type": "code",
   "execution_count": null,
   "metadata": {},
   "outputs": [],
   "source": [
    "%autosave 60"
   ]
  },
  {
   "cell_type": "markdown",
   "metadata": {},
   "source": [
    "# Strip\n",
    "it is used to remove spaces, whether from left or right or from whole"
   ]
  },
  {
   "cell_type": "code",
   "execution_count": 15,
   "metadata": {},
   "outputs": [
    {
     "name": "stdout",
     "output_type": "stream",
     "text": [
      "abcd \n",
      "abcd\n"
     ]
    },
    {
     "data": {
      "text/plain": [
       "' abcd'"
      ]
     },
     "execution_count": 15,
     "metadata": {},
     "output_type": "execute_result"
    }
   ],
   "source": [
    "naalo=' abcd '\n",
    "print(naalo.lstrip())\n",
    "print(naalo.strip())\n",
    "naalo.rstrip()"
   ]
  },
  {
   "cell_type": "code",
   "execution_count": null,
   "metadata": {},
   "outputs": [],
   "source": []
  }
 ],
 "metadata": {
  "kernelspec": {
   "display_name": "Python 3",
   "language": "python",
   "name": "python3"
  },
  "language_info": {
   "codemirror_mode": {
    "name": "ipython",
    "version": 3
   },
   "file_extension": ".py",
   "mimetype": "text/x-python",
   "name": "python",
   "nbconvert_exporter": "python",
   "pygments_lexer": "ipython3",
   "version": "3.7.1"
  }
 },
 "nbformat": 4,
 "nbformat_minor": 2
}
