{
 "cells": [
  {
   "cell_type": "code",
   "execution_count": 1,
   "metadata": {},
   "outputs": [
    {
     "name": "stdout",
     "output_type": "stream",
     "text": [
      "hello\n"
     ]
    }
   ],
   "source": [
    "print(\"hello\")"
   ]
  },
  {
   "cell_type": "markdown",
   "metadata": {},
   "source": [
    "# Our First Class"
   ]
  },
  {
   "cell_type": "markdown",
   "metadata": {},
   "source": [
    "We are learning python :-)"
   ]
  },
  {
   "cell_type": "code",
   "execution_count": 2,
   "metadata": {},
   "outputs": [
    {
     "name": "stdout",
     "output_type": "stream",
     "text": [
      "Hello World\n"
     ]
    }
   ],
   "source": [
    "print(\"Hello World\")"
   ]
  },
  {
   "cell_type": "code",
   "execution_count": 3,
   "metadata": {},
   "outputs": [
    {
     "name": "stdout",
     "output_type": "stream",
     "text": [
      "123\n"
     ]
    }
   ],
   "source": [
    "print(123)"
   ]
  },
  {
   "cell_type": "code",
   "execution_count": 4,
   "metadata": {},
   "outputs": [
    {
     "name": "stdout",
     "output_type": "stream",
     "text": [
      "123 hey\n"
     ]
    }
   ],
   "source": [
    "print(123,'hey')"
   ]
  },
  {
   "cell_type": "code",
   "execution_count": 5,
   "metadata": {},
   "outputs": [
    {
     "name": "stdout",
     "output_type": "stream",
     "text": [
      "4\n"
     ]
    }
   ],
   "source": [
    "print(2+2)"
   ]
  },
  {
   "cell_type": "code",
   "execution_count": 6,
   "metadata": {},
   "outputs": [
    {
     "name": "stdout",
     "output_type": "stream",
     "text": [
      "This is AI class\n",
      " Dhoraji Association\n"
     ]
    }
   ],
   "source": [
    "print(\"This is AI class\\n Dhoraji Association\")"
   ]
  },
  {
   "cell_type": "code",
   "execution_count": 7,
   "metadata": {},
   "outputs": [
    {
     "name": "stdout",
     "output_type": "stream",
     "text": [
      "Languages:\n",
      "Pyhton\n",
      "Ruby\n",
      "JavaScript\n"
     ]
    }
   ],
   "source": [
    "print(\"Languages:\\nPyhton\\nRuby\\nJavaScript\")"
   ]
  },
  {
   "cell_type": "code",
   "execution_count": 8,
   "metadata": {},
   "outputs": [
    {
     "name": "stdout",
     "output_type": "stream",
     "text": [
      "Languages:\n",
      "\tPyhton\n",
      "\tRuby\n",
      "\tJavaScript\n"
     ]
    }
   ],
   "source": [
    "print(\"Languages:\\n\\tPyhton\\n\\tRuby\\n\\tJavaScript\")"
   ]
  },
  {
   "cell_type": "code",
   "execution_count": 9,
   "metadata": {},
   "outputs": [
    {
     "name": "stdout",
     "output_type": "stream",
     "text": [
      "20\n"
     ]
    },
    {
     "data": {
      "text/plain": [
       "140707137500592"
      ]
     },
     "execution_count": 9,
     "metadata": {},
     "output_type": "execute_result"
    }
   ],
   "source": [
    "num =20\n",
    "print(num)\n",
    "type(num)\n",
    "id(num)"
   ]
  },
  {
   "cell_type": "code",
   "execution_count": 10,
   "metadata": {},
   "outputs": [
    {
     "name": "stdout",
     "output_type": "stream",
     "text": [
      "1bcd bcd\n"
     ]
    }
   ],
   "source": [
    "a='1bcd'\n",
    "b = 'bcd'\n",
    "print((a) + \" \" + (b))\n"
   ]
  },
  {
   "cell_type": "code",
   "execution_count": 11,
   "metadata": {},
   "outputs": [
    {
     "name": "stdout",
     "output_type": "stream",
     "text": [
      "Muhammad\n"
     ]
    }
   ],
   "source": [
    "name='muhammad'\n",
    "print(name.title())"
   ]
  },
  {
   "cell_type": "code",
   "execution_count": 12,
   "metadata": {},
   "outputs": [
    {
     "name": "stdout",
     "output_type": "stream",
     "text": [
      "muhammad\n"
     ]
    }
   ],
   "source": [
    "name='muHamMaD'\n",
    "print(name.lower())"
   ]
  },
  {
   "cell_type": "code",
   "execution_count": 13,
   "metadata": {},
   "outputs": [
    {
     "name": "stdout",
     "output_type": "stream",
     "text": [
      "MUHAMMAD\n"
     ]
    }
   ],
   "source": [
    "name='muhammad'\n",
    "print(name.upper())"
   ]
  },
  {
   "cell_type": "code",
   "execution_count": 14,
   "metadata": {},
   "outputs": [
    {
     "name": "stdout",
     "output_type": "stream",
     "text": [
      "Muhammad Jahanzaib\n"
     ]
    }
   ],
   "source": [
    "name1='jahanzaib'\n",
    "print(name.title()+\" \"+name1.title())"
   ]
  },
  {
   "cell_type": "code",
   "execution_count": null,
   "metadata": {},
   "outputs": [
    {
     "name": "stdout",
     "output_type": "stream",
     "text": [
      "testes\n"
     ]
    }
   ],
   "source": [
    "print (\"tes\"*2) #multiple print"
   ]
  },
  {
   "cell_type": "code",
   "execution_count": null,
   "metadata": {},
   "outputs": [
    {
     "name": "stdout",
     "output_type": "stream",
     "text": [
      "how are you?\n",
      "oh bro\n"
     ]
    }
   ],
   "source": [
    "abc='how are you?'\n",
    "print(abc)\n",
    "abc='oh bro'\n",
    "print(abc)"
   ]
  },
  {
   "cell_type": "code",
   "execution_count": null,
   "metadata": {},
   "outputs": [
    {
     "name": "stdout",
     "output_type": "stream",
     "text": [
      "3\n"
     ]
    },
    {
     "data": {
      "text/plain": [
       "float"
      ]
     },
     "execution_count": 17,
     "metadata": {},
     "output_type": "execute_result"
    }
   ],
   "source": [
    "import math\n",
    "num1=10; num2=20; num3=40; num4=12; num5=34;\n",
    "numt=(num1+num2)/num4\n",
    "print (math.ceil(numt))\n",
    "type(numt)"
   ]
  },
  {
   "cell_type": "code",
   "execution_count": null,
   "metadata": {},
   "outputs": [
    {
     "name": "stdout",
     "output_type": "stream",
     "text": [
      "muhAmmaD jaHanZaIb asHraF\n",
      "Muhammad Jahanzaib Ashraf\n",
      "muhammad jahanzaib ashraf\n",
      "MUHAMMAD JAHANZAIB ASHRAF\n"
     ]
    }
   ],
   "source": [
    "fn='muhAmmaD'; mn='jaHanZaIb'; ln='asHraF';\n",
    "fullname=fn+' '+mn+' '+ln\n",
    "print(fullname)\n",
    "print(fullname.title())\n",
    "print(fullname.lower())\n",
    "print(fullname.upper())"
   ]
  },
  {
   "cell_type": "code",
   "execution_count": null,
   "metadata": {},
   "outputs": [
    {
     "name": "stdout",
     "output_type": "stream",
     "text": [
      "5\n"
     ]
    }
   ],
   "source": [
    "rem= 5 % 9\n",
    "print(rem)"
   ]
  },
  {
   "cell_type": "code",
   "execution_count": null,
   "metadata": {},
   "outputs": [
    {
     "name": "stdout",
     "output_type": "stream",
     "text": [
      "12\n"
     ]
    }
   ],
   "source": [
    "age=10\n",
    "age+=2\n",
    "print(age)"
   ]
  },
  {
   "cell_type": "code",
   "execution_count": null,
   "metadata": {},
   "outputs": [
    {
     "name": "stdout",
     "output_type": "stream",
     "text": [
      "hey\n",
      "hey\n",
      "hey\n",
      "hey\n",
      "hey\n"
     ]
    }
   ],
   "source": [
    "for x in range(5):\n",
    "    print('hey')"
   ]
  },
  {
   "cell_type": "markdown",
   "metadata": {},
   "source": [
    "\"How to take input from user\""
   ]
  },
  {
   "cell_type": "markdown",
   "metadata": {},
   "source": [
    "'+' sign will do concatenation while ',' is a separator"
   ]
  },
  {
   "cell_type": "code",
   "execution_count": null,
   "metadata": {},
   "outputs": [],
   "source": [
    "num1=input(\"Enter first no=\")\n",
    "num2=input('Enter second no=')\n",
    "no1=int(num1)\n",
    "no2=int(num2)\n",
    "x=no1 + no2\n",
    "print('Total Value='+str(x))"
   ]
  },
  {
   "cell_type": "code",
   "execution_count": null,
   "metadata": {},
   "outputs": [],
   "source": [
    "#from IPython.display  import clear_output\n",
    "n1=int(input('value='))\n",
    "n2=input('enter string=')\n",
    "#clear_output()\n",
    "print(n1,n2)\n",
    "n3=str(n1)+\" \"+n2\n",
    "print(n3)"
   ]
  },
  {
   "cell_type": "markdown",
   "metadata": {},
   "source": [
    "Multiple string in one print fucntion using separator"
   ]
  },
  {
   "cell_type": "code",
   "execution_count": null,
   "metadata": {},
   "outputs": [],
   "source": [
    "print('11','03','2019', sep='/')"
   ]
  },
  {
   "cell_type": "markdown",
   "metadata": {},
   "source": [
    "Using end statement in print function"
   ]
  },
  {
   "cell_type": "code",
   "execution_count": null,
   "metadata": {},
   "outputs": [],
   "source": [
    "print ('Hello World ',' ',sep='@', end='')\n",
    "print ('Hello Python')"
   ]
  },
  {
   "cell_type": "code",
   "execution_count": null,
   "metadata": {},
   "outputs": [],
   "source": [
    "x=pow(2,3)\n",
    "print(x)"
   ]
  },
  {
   "cell_type": "markdown",
   "metadata": {},
   "source": [
    "# Clear Output\n",
    "at first \"from IPython.display import clear_output\"\n",
    "then where needed \"clear_output()\" \n"
   ]
  },
  {
   "cell_type": "markdown",
   "metadata": {},
   "source": [
    "# If Statement"
   ]
  },
  {
   "cell_type": "code",
   "execution_count": null,
   "metadata": {},
   "outputs": [],
   "source": [
    "a=10 #'='assign a value to variable\n",
    "b=20/2\n",
    "x=a==b #'==' show comparision\n",
    "price=int(input('enter price='))\n",
    "if price==price:\n",
    "    print('Tamatar 80 rupey kilo')\n",
    "else:\n",
    "    print('Tamatar 70 rupay kilo')"
   ]
  },
  {
   "cell_type": "code",
   "execution_count": null,
   "metadata": {},
   "outputs": [],
   "source": [
    "if '100'==100:\n",
    "    print('valid')\n",
    "else:\n",
    "    print('Invalid')"
   ]
  },
  {
   "cell_type": "markdown",
   "metadata": {},
   "source": [
    "# Operator & Expressions\n",
    "https://realpython.com/python-operators-expressions/ "
   ]
  },
  {
   "cell_type": "code",
   "execution_count": null,
   "metadata": {},
   "outputs": [],
   "source": [
    "a = 4\n",
    "b = 3\n",
    "x1=+a #Unary Positive\n",
    "x2=-b #Unary Negation\n",
    "x3=a+b #Addition\n",
    "x4=a - b #Subtraction\n",
    "x5=a * b #Muliplication\n",
    "x6=a/b #Division, answer will be in float even it is completely divide\n",
    "x7=a//b #Division but this time answer will be in integer, it will be round of\n",
    "x8=a%b\n",
    "a+=2 #increment\n",
    "b-=2\n",
    "print(x1,x2,x3,x4,x5,x6,x7,x8,a,b, sep=' and ')"
   ]
  },
  {
   "cell_type": "markdown",
   "metadata": {},
   "source": [
    "# Variable Names\n",
    " no space in variable name, we use '_'. \n",
    " _ can come in start like _khi. \n",
    " No hyphen('-' or dash)\n"
   ]
  },
  {
   "cell_type": "code",
   "execution_count": null,
   "metadata": {},
   "outputs": [],
   "source": [
    "a=3\n",
    "a*=4\n",
    "a\n",
    "c=20\n",
    "c/=5\n",
    "print(a,c,sep=' ')"
   ]
  },
  {
   "cell_type": "code",
   "execution_count": null,
   "metadata": {},
   "outputs": [],
   "source": [
    "q=10"
   ]
  },
  {
   "cell_type": "markdown",
   "metadata": {},
   "source": [
    "# and or operators"
   ]
  },
  {
   "cell_type": "code",
   "execution_count": null,
   "metadata": {},
   "outputs": [],
   "source": [
    "q=10; w=20\n",
    "if q==10 or w==21:\n",
    "    print('Very Good')\n",
    "else:\n",
    "    print(\"Sorry\")"
   ]
  },
  {
   "cell_type": "code",
   "execution_count": null,
   "metadata": {},
   "outputs": [],
   "source": [
    "%autosave 60"
   ]
  },
  {
   "cell_type": "code",
   "execution_count": null,
   "metadata": {},
   "outputs": [],
   "source": [
    "perm=input('Do You Have Permission? (Ans in Yes or No)=').title()\n",
    "ticket=input('Do You Have Tickets?(Ans in Yes or No)= ').title()\n",
    "time=input('Is Holiday Today? (Ans in Yes or No)=').title()\n",
    "if perm=='Yes' and ticket=='Yes' and time=='Yes':\n",
    "    print('You Can Go!')\n",
    "else:\n",
    "    print('Enjoy Your Time at home :-P')"
   ]
  },
  {
   "cell_type": "code",
   "execution_count": 23,
   "metadata": {},
   "outputs": [
    {
     "name": "stdout",
     "output_type": "stream",
     "text": [
      "Are you bachelor in Engineering? (Ans in Yes or No)=no\n",
      "Are You CCNA Certified? (Ans in Yes or No)=no\n",
      "Do you Have Experience in this field? (Ans in Yes or No)= yes\n",
      "Do You Have Passport? (Ans in Yes or No)=yes\n",
      "Better Try Next Time\n"
     ]
    }
   ],
   "source": [
    "degree=input(\"Are you bachelor in Engineering? (Ans in Yes or No)=\").title()\n",
    "cert=input(\"Are You CCNA Certified? (Ans in Yes or No)=\").title()\n",
    "exp=input('Do you Have Experience in this field? (Ans in Yes or No)= ').title()\n",
    "pasp=input(\"Do You Have Passport? (Ans in Yes or No)=\").title()\n",
    "if (degree=='Yes' or cert=='Yes') and exp=='Yes' and pasp=='Yes':\n",
    "    print(\"Congrats You get the job :-)\")\n",
    "else:\n",
    "    print(\"Better Try Next Time\")\n"
   ]
  },
  {
   "cell_type": "markdown",
   "metadata": {},
   "source": [
    "# Nested if"
   ]
  },
  {
   "cell_type": "code",
   "execution_count": null,
   "metadata": {},
   "outputs": [],
   "source": [
    "age=int(input('Enter Your Age='))\n",
    "rem_age=18-age\n",
    "if age>=18:\n",
    "    nic=input('Do You Have CNIC? (Ans in Yes or No)= ').title()\n",
    "    city=input('Enter Your City Name=').title()\n",
    "    v_list=input('Do You Have Your Name in Voter list? (Ans in Yes or No)=').title()\n",
    "    if nic=='Yes' and city=='Karachi':\n",
    "        if v_list=='Yes':\n",
    "            print('Sahi bande ko vote do :-P')\n",
    "        else:\n",
    "            print('Sorry You Dont Have Name in Voter List :-(')\n",
    "    else:\n",
    "        print('Apne Shehar me ja kar vote daalo :D')\n",
    "else:\n",
    "    print('Your are under age''\\nYou will be allowed to vote after',rem_age,'year(s)')"
   ]
  },
  {
   "cell_type": "markdown",
   "metadata": {},
   "source": [
    "Assignment \"ATM through if else\""
   ]
  },
  {
   "cell_type": "markdown",
   "metadata": {},
   "source": [
    "ctrl+/ for multiline line comment,\n",
    "''' it is for paragraph comments'''"
   ]
  },
  {
   "cell_type": "code",
   "execution_count": null,
   "metadata": {},
   "outputs": [],
   "source": [
    "# print('hello')\n",
    "# print('hello')\n",
    "# print('hello')\n",
    "# print('hello')"
   ]
  },
  {
   "cell_type": "markdown",
   "metadata": {},
   "source": [
    "# LIST"
   ]
  },
  {
   "cell_type": "code",
   "execution_count": null,
   "metadata": {},
   "outputs": [],
   "source": [
    "mylist=[\"A\",\"B\",\"C\",\"D\",\"E\"]\n",
    "print(mylist[2])\n",
    "print(mylist[-1]) # for reverse order of list\n",
    "len(mylist) #for length of list"
   ]
  },
  {
   "cell_type": "markdown",
   "metadata": {},
   "source": [
    "list ko reverse me chalana ho to minus se indexing karenge, like mylist[-2], [-1] wala last value dega"
   ]
  },
  {
   "cell_type": "code",
   "execution_count": null,
   "metadata": {},
   "outputs": [],
   "source": [
    "city=['khi','lhr','hyd','isl','quet','pesh','fsd']\n",
    "print(city)\n",
    "city[6]='Skt' #replace or overwrite\n",
    "print(city)\n",
    "city.append('Lrk') #append use to add item in list, and it will come at last/ appear at end\n",
    "print(city)\n",
    "type(city) #list ki data type list hi hogi"
   ]
  },
  {
   "cell_type": "code",
   "execution_count": 21,
   "metadata": {},
   "outputs": [
    {
     "name": "stdout",
     "output_type": "stream",
     "text": [
      "['dahi', 'anday', 'aalo', 'double roti', 'dhaniya', 'surf', 'podina']\n",
      "['dahi', 'aalo', 'double roti', 'dhaniya', 'surf', 'podina']\n",
      "['dahi', 'aalo', 'double roti', 'dhaniya', 'podina']\n"
     ]
    }
   ],
   "source": [
    "saman=['dahi','anday','double roti','dhaniya','podina']\n",
    "saman.insert(2,'aalo') #pehle konse index pe insert karna he wo batao, phr kia insert karna he wo likhen\n",
    "saman.insert(-1,'surf')\n",
    "print(saman)\n",
    "saman.remove('anday') #to remove any element from list, remove kuch return nahi karta\n",
    "print(saman)\n",
    "del saman[4] #to delete element from list\n",
    "print(saman)"
   ]
  },
  {
   "cell_type": "code",
   "execution_count": 20,
   "metadata": {},
   "outputs": [
    {
     "data": {
      "text/plain": [
       "1"
      ]
     },
     "execution_count": 20,
     "metadata": {},
     "output_type": "execute_result"
    }
   ],
   "source": [
    "saman.index('aalo') #to check index"
   ]
  },
  {
   "cell_type": "code",
   "execution_count": 8,
   "metadata": {},
   "outputs": [
    {
     "data": {
      "text/plain": [
       "True"
      ]
     },
     "execution_count": 8,
     "metadata": {},
     "output_type": "execute_result"
    }
   ],
   "source": [
    "\"dahi\" in saman #ye batayega k ap jo dhund rahe hen wo is list me he ya nahi."
   ]
  },
  {
   "cell_type": "markdown",
   "metadata": {},
   "source": [
    "# ***Pop in list*** \n",
    "Refrence: To DO List"
   ]
  },
  {
   "cell_type": "code",
   "execution_count": 28,
   "metadata": {},
   "outputs": [
    {
     "data": {
      "application/javascript": [
       "IPython.notebook.set_autosave_interval(60000)"
      ]
     },
     "metadata": {},
     "output_type": "display_data"
    },
    {
     "name": "stdout",
     "output_type": "stream",
     "text": [
      "Autosaving every 60 seconds\n"
     ]
    }
   ],
   "source": [
    "%autosave 60"
   ]
  },
  {
   "cell_type": "markdown",
   "metadata": {},
   "source": [
    "# Strip\n",
    "it is used to remove spaces, whether from left or right or from whole"
   ]
  },
  {
   "cell_type": "code",
   "execution_count": 15,
   "metadata": {},
   "outputs": [
    {
     "name": "stdout",
     "output_type": "stream",
     "text": [
      "abcd \n",
      "abcd\n"
     ]
    },
    {
     "data": {
      "text/plain": [
       "' abcd'"
      ]
     },
     "execution_count": 15,
     "metadata": {},
     "output_type": "execute_result"
    }
   ],
   "source": [
    "naalo=' abcd '\n",
    "print(naalo.lstrip())\n",
    "print(naalo.strip())\n",
    "naalo.rstrip()"
   ]
  },
  {
   "cell_type": "markdown",
   "metadata": {},
   "source": [
    "# Slice in List"
   ]
  },
  {
   "cell_type": "code",
   "execution_count": 13,
   "metadata": {},
   "outputs": [
    {
     "name": "stdout",
     "output_type": "stream",
     "text": [
      "[6, 5]\n",
      "[]\n"
     ]
    }
   ],
   "source": [
    "list1=[9,8,7,6,5,4,3,2,1]\n",
    "print(list1[3:5])\n",
    "list2=list1[5:3] #slicing will be from left to right\n",
    "print(list2)"
   ]
  },
  {
   "cell_type": "code",
   "execution_count": 16,
   "metadata": {},
   "outputs": [
    {
     "data": {
      "text/plain": [
       "[6, 5, 4, 3, 2]"
      ]
     },
     "execution_count": 16,
     "metadata": {},
     "output_type": "execute_result"
    }
   ],
   "source": [
    "list1[5:3] \n",
    "reversesliced=list1[-6:-1]\n",
    "reversesliced"
   ]
  },
  {
   "cell_type": "markdown",
   "metadata": {},
   "source": [
    "# Sorting in List "
   ]
  },
  {
   "cell_type": "code",
   "execution_count": 61,
   "metadata": {},
   "outputs": [
    {
     "name": "stdout",
     "output_type": "stream",
     "text": [
      "['Ahmed Arif', 'Ahmed Hameed', 'Khalil', 'Mustajab', 'Saad', 'Taha', 'Talha', 'Wajahat', 'Zubair']\n"
     ]
    }
   ],
   "source": [
    "friends=['Zubair','Ahmed Arif','Ahmed Hameed','Wajahat','Taha','Talha','Khalil','Mustajab','Saad']\n",
    "friends.sort() #sort arrange kar deta he alphabetical order me\n",
    "print(friends)"
   ]
  },
  {
   "cell_type": "code",
   "execution_count": 29,
   "metadata": {},
   "outputs": [
    {
     "name": "stdout",
     "output_type": "stream",
     "text": [
      "['Zubair', 'Wajahat', 'Talha', 'Taha', 'Saad', 'Mustajab', 'Khalil', 'Ahmed Hameed', 'Ahmed Arif']\n"
     ]
    }
   ],
   "source": [
    "friends=['Zubair','Ahmed Arif','Ahmed Hameed','Wajahat','Taha','Talha','Khalil','Mustajab','Saad']\n",
    "friends.sort(reverse=True)\n",
    "print(friends)"
   ]
  },
  {
   "cell_type": "code",
   "execution_count": 58,
   "metadata": {},
   "outputs": [
    {
     "name": "stdout",
     "output_type": "stream",
     "text": [
      "['Saad', 'Mustajab', 'Khalil', 'Talha', 'Taha', 'Wajahat', 'Ahmed', 'Ahmed', 'Zubair']\n"
     ]
    }
   ],
   "source": [
    "friends=['Zubair','Ahmed','Ahmed','Wajahat','Taha','Talha','Khalil','Mustajab','Saad']\n",
    "friends.reverse() #list ko reverse kar dega\n",
    "print(friends)"
   ]
  },
  {
   "cell_type": "code",
   "execution_count": 55,
   "metadata": {},
   "outputs": [
    {
     "name": "stdout",
     "output_type": "stream",
     "text": [
      "['Saad', 'Mustajab', 'Khalil', 'Talha']\n",
      "['Taha', 'Wajahat', 'Ahmed', 'Ahmed', 'Zubair']\n"
     ]
    }
   ],
   "source": [
    "print(friends[:4])\n",
    "print(friends[4:])\n"
   ]
  },
  {
   "cell_type": "markdown",
   "metadata": {},
   "source": [
    "***count() and clear() in list***"
   ]
  },
  {
   "cell_type": "code",
   "execution_count": 59,
   "metadata": {},
   "outputs": [
    {
     "name": "stdout",
     "output_type": "stream",
     "text": [
      "2\n",
      "[]\n"
     ]
    }
   ],
   "source": [
    "print(friends.count('Ahmed'))\n",
    "friends.clear()\n",
    "print(friends)"
   ]
  },
  {
   "cell_type": "markdown",
   "metadata": {},
   "source": [
    "***del() index mangta he jab k remove() value mangta he***"
   ]
  },
  {
   "cell_type": "code",
   "execution_count": 63,
   "metadata": {},
   "outputs": [
    {
     "name": "stdout",
     "output_type": "stream",
     "text": [
      "['Ahmed Arif', 'Ahmed Hameed', 'Wajahat', 'Taha', 'Talha', 'Khalil', 'Mustajab', 'Saad']\n",
      "['Ahmed Arif', 'Ahmed Hameed', 'Taha', 'Talha', 'Khalil', 'Mustajab', 'Saad']\n"
     ]
    }
   ],
   "source": [
    "friends=['Zubair','Ahmed Arif','Ahmed Hameed','Wajahat','Taha','Talha','Khalil','Mustajab','Saad']\n",
    "friends.remove('Zubair')\n",
    "print(friends)\n",
    "del friends[2]\n",
    "print(friends)"
   ]
  },
  {
   "cell_type": "markdown",
   "metadata": {},
   "source": [
    "**Sum, Max, Min of list**"
   ]
  },
  {
   "cell_type": "code",
   "execution_count": 64,
   "metadata": {},
   "outputs": [],
   "source": [
    "values=[45,56,13,5,27,676,44,86]"
   ]
  },
  {
   "cell_type": "code",
   "execution_count": 65,
   "metadata": {},
   "outputs": [
    {
     "data": {
      "text/plain": [
       "952"
      ]
     },
     "execution_count": 65,
     "metadata": {},
     "output_type": "execute_result"
    }
   ],
   "source": [
    "sum(values)"
   ]
  },
  {
   "cell_type": "code",
   "execution_count": 66,
   "metadata": {},
   "outputs": [
    {
     "data": {
      "text/plain": [
       "676"
      ]
     },
     "execution_count": 66,
     "metadata": {},
     "output_type": "execute_result"
    }
   ],
   "source": [
    "max(values)"
   ]
  },
  {
   "cell_type": "code",
   "execution_count": 67,
   "metadata": {},
   "outputs": [
    {
     "data": {
      "text/plain": [
       "5"
      ]
     },
     "execution_count": 67,
     "metadata": {},
     "output_type": "execute_result"
    }
   ],
   "source": [
    "min(values)"
   ]
  },
  {
   "cell_type": "markdown",
   "metadata": {},
   "source": [
    "**List in List**"
   ]
  },
  {
   "cell_type": "code",
   "execution_count": 69,
   "metadata": {},
   "outputs": [
    {
     "data": {
      "text/plain": [
       "['q', 5, [1, 2, 3, 4, 5, 6, [4, 7, 21]]]"
      ]
     },
     "execution_count": 69,
     "metadata": {},
     "output_type": "execute_result"
    }
   ],
   "source": [
    "listInList= ['q',5,[1,2,3,4,5,6,[4,7,21]]]\n",
    "listInList"
   ]
  },
  {
   "cell_type": "code",
   "execution_count": 70,
   "metadata": {},
   "outputs": [
    {
     "data": {
      "text/plain": [
       "4"
      ]
     },
     "execution_count": 70,
     "metadata": {},
     "output_type": "execute_result"
    }
   ],
   "source": [
    "listInList[2][6][0]"
   ]
  },
  {
   "cell_type": "code",
   "execution_count": 75,
   "metadata": {},
   "outputs": [
    {
     "data": {
      "text/plain": [
       "2"
      ]
     },
     "execution_count": 75,
     "metadata": {},
     "output_type": "execute_result"
    }
   ],
   "source": [
    "listInList[2][6].index(21)"
   ]
  },
  {
   "cell_type": "markdown",
   "metadata": {},
   "source": [
    "# Looping/Loops For Loops"
   ]
  },
  {
   "cell_type": "code",
   "execution_count": 26,
   "metadata": {},
   "outputs": [
    {
     "name": "stdout",
     "output_type": "stream",
     "text": [
      "0 Muhammad Jahanzaib\n",
      "1 Muhammad Jahanzaib\n",
      "2 Muhammad Jahanzaib\n",
      "3 Muhammad Jahanzaib\n",
      "4 Muhammad Jahanzaib\n",
      "5 Muhammad Jahanzaib\n",
      "6 Muhammad Jahanzaib\n",
      "7 Muhammad Jahanzaib\n",
      "8 Muhammad Jahanzaib\n",
      "9 Muhammad Jahanzaib\n"
     ]
    }
   ],
   "source": [
    "for name in range(10): #range ending at nine but start from zero\n",
    "    print(name,'Muhammad Jahanzaib')"
   ]
  },
  {
   "cell_type": "code",
   "execution_count": 27,
   "metadata": {},
   "outputs": [
    {
     "name": "stdout",
     "output_type": "stream",
     "text": [
      "2* 1 = 2\n",
      "2* 2 = 4\n",
      "2* 3 = 6\n",
      "2* 4 = 8\n",
      "2* 5 = 10\n",
      "2* 6 = 12\n",
      "2* 7 = 14\n",
      "2* 8 = 16\n",
      "2* 9 = 18\n"
     ]
    }
   ],
   "source": [
    "for a in range(1,10): #starting from your own choice\n",
    "    print(\"2*\",a,'=',2*a)"
   ]
  },
  {
   "cell_type": "code",
   "execution_count": 28,
   "metadata": {},
   "outputs": [
    {
     "name": "stdout",
     "output_type": "stream",
     "text": [
      "0\n",
      "2\n",
      "4\n",
      "6\n",
      "8\n"
     ]
    }
   ],
   "source": [
    "for num in range (0,10,2): #even\n",
    "    print(num)"
   ]
  },
  {
   "cell_type": "code",
   "execution_count": 29,
   "metadata": {},
   "outputs": [
    {
     "name": "stdout",
     "output_type": "stream",
     "text": [
      "1\n",
      "3\n",
      "5\n",
      "7\n",
      "9\n"
     ]
    }
   ],
   "source": [
    "for num in range (1,10,2): #odd\n",
    "    print(num)"
   ]
  },
  {
   "cell_type": "code",
   "execution_count": 24,
   "metadata": {},
   "outputs": [
    {
     "name": "stdout",
     "output_type": "stream",
     "text": [
      "2* 1 = 2\n",
      "2* 3 = 6\n",
      "2* 5 = 10\n",
      "2* 7 = 14\n",
      "2* 9 = 18\n"
     ]
    }
   ],
   "source": [
    "for a in range(1,10,2):\n",
    "    print(\"2*\",a,'=',2*a)"
   ]
  },
  {
   "cell_type": "markdown",
   "metadata": {},
   "source": [
    "# How to access members of list using for loop"
   ]
  },
  {
   "cell_type": "code",
   "execution_count": 36,
   "metadata": {},
   "outputs": [
    {
     "name": "stdout",
     "output_type": "stream",
     "text": [
      "11 <class 'int'> 140716582220944\n",
      "22 <class 'int'> 140716582221296\n",
      "33 <class 'int'> 140716582221648\n",
      "44 <class 'int'> 140716582222000\n",
      "55 <class 'str'> 388645854432\n",
      "66 <class 'int'> 140716582222704\n",
      "77 <class 'int'> 140716582223056\n",
      "88 <class 'int'> 140716582223408\n",
      "99 <class 'int'> 140716582223760\n",
      "True <class 'bool'> 140716581689680\n"
     ]
    }
   ],
   "source": [
    "list1=[11,22,33,44,'55',66,77,88,99,True]\n",
    "for num in list1:\n",
    "    print(num,type(num),id(num))"
   ]
  },
  {
   "cell_type": "code",
   "execution_count": 52,
   "metadata": {},
   "outputs": [
    {
     "name": "stdout",
     "output_type": "stream",
     "text": [
      "Even\n",
      "22 44 66 88 \n",
      "Odd\n",
      "11 33 55 77 99 "
     ]
    }
   ],
   "source": [
    "even=[]\n",
    "odd=[]\n",
    "list1=[11,22,33,44,55,66,77,88,99]\n",
    "for chk in list1:\n",
    "    if chk%2==0:\n",
    "        even.append(chk)\n",
    "    else:\n",
    "        odd.append(chk)\n",
    "print(\"Even\")\n",
    "for ev in even:\n",
    "    print(ev,end=' ')\n",
    "print ('\\nOdd')\n",
    "for od in odd:\n",
    "    print(od,end=' ')\n"
   ]
  },
  {
   "cell_type": "code",
   "execution_count": 43,
   "metadata": {},
   "outputs": [
    {
     "name": "stdout",
     "output_type": "stream",
     "text": [
      "1 tesla\n",
      "2 spaceX\n",
      "3 amazon\n",
      "4 apple\n"
     ]
    }
   ],
   "source": [
    "x=1\n",
    "for members in ['tesla','spaceX','amazon','apple']:\n",
    "    print(x,members)\n",
    "    x+=1"
   ]
  },
  {
   "cell_type": "code",
   "execution_count": 19,
   "metadata": {},
   "outputs": [
    {
     "name": "stdout",
     "output_type": "stream",
     "text": [
      "My Close Friends Are = Adeel Ahmed Khalid "
     ]
    }
   ],
   "source": [
    "frnds=['Ahmed','Taha','Talha','Khalil','Adeel','Wajahat','Khalid']\n",
    "rltvs=['Raza','Hamza','Adeel','Khalid','Mansoor','Ahmed']\n",
    "close_friend=[]\n",
    "for find in frnds:\n",
    "    for Find in rltvs:\n",
    "        if find==Find:\n",
    "            close_friend.append(find)\n",
    "close_friend.sort()\n",
    "print('My Close Friends Are',end=' = ')\n",
    "for cf in close_friend:\n",
    "    print(cf,end=' ')"
   ]
  },
  {
   "cell_type": "code",
   "execution_count": 21,
   "metadata": {},
   "outputs": [
    {
     "name": "stdout",
     "output_type": "stream",
     "text": [
      "T\n",
      "a\n",
      "l\n",
      "h\n",
      "a\n"
     ]
    }
   ],
   "source": [
    "for friends in frnds[2]:\n",
    "    xyz=friends\n",
    "    print(xyz)"
   ]
  },
  {
   "cell_type": "code",
   "execution_count": 12,
   "metadata": {},
   "outputs": [
    {
     "name": "stdout",
     "output_type": "stream",
     "text": [
      "First Three Items Are= Bat Ball Gloves \n",
      "Middle 3 Items Are= Football Hockey Volley Ball \n",
      "Last 3 Items Are= Golf Racket Shuttle "
     ]
    }
   ],
   "source": [
    "items=['Bat','Ball','Gloves','Football','Hockey','Volley Ball','Golf','Racket','Shuttle']\n",
    "print('First Three Items Are=',end=' ')\n",
    "for first3 in items[0:3]:\n",
    "    print(first3,end=' ')\n",
    "print('\\nMiddle 3 Items Are=',end=' ')\n",
    "for middle3 in items[3:6]:\n",
    "    print(middle3,end=' ')\n",
    "print('\\nLast 3 Items Are=',end=' ')\n",
    "for last3 in items[6:]:\n",
    "    print(last3,end=' ')"
   ]
  },
  {
   "cell_type": "code",
   "execution_count": 22,
   "metadata": {},
   "outputs": [
    {
     "name": "stdout",
     "output_type": "stream",
     "text": [
      "Capital Letters are= M N M J I L P "
     ]
    }
   ],
   "source": [
    "cap_list=[]\n",
    "sent='My Name is Muhammad Jahaznaib'+'I Live in Pakistan'\n",
    "for cap in sent:\n",
    "    if cap==' ':\n",
    "        ignore=0\n",
    "    elif cap==cap.upper():\n",
    "        cap_list.append(cap)\n",
    "print('Capital Letters are=',end=' ')\n",
    "for upper in cap_list:\n",
    "    print(upper,end=' ')"
   ]
  },
  {
   "cell_type": "code",
   "execution_count": 8,
   "metadata": {},
   "outputs": [
    {
     "name": "stdout",
     "output_type": "stream",
     "text": [
      "Enter a word: ABC vqs DEF xyz\n",
      "3\n",
      "6\n",
      "6\n"
     ]
    }
   ],
   "source": [
    "UpperCount = 0 \n",
    "LowerCount = 0\n",
    "space=0\n",
    "word = input('Enter a word: ')\n",
    "for letter in word:\n",
    "    if letter==' ':\n",
    "        space+=1\n",
    "    elif letter == letter.upper():\n",
    "        UpperCount+=1\n",
    "    else:\n",
    "        LowerCount+=1\n",
    "print(space)\n",
    "print(UpperCount)\n",
    "print(LowerCount)"
   ]
  },
  {
   "cell_type": "markdown",
   "metadata": {},
   "source": [
    "**String ki indexing or slicing kar sakte hen magar overwrite or delete nahi kar sakte**"
   ]
  },
  {
   "cell_type": "code",
   "execution_count": 24,
   "metadata": {},
   "outputs": [
    {
     "data": {
      "text/plain": [
       "'s'"
      ]
     },
     "execution_count": 24,
     "metadata": {},
     "output_type": "execute_result"
    }
   ],
   "source": [
    "country=\"Pakistan\"\n",
    "country[4]"
   ]
  },
  {
   "cell_type": "code",
   "execution_count": 25,
   "metadata": {},
   "outputs": [
    {
     "data": {
      "text/plain": [
       "'akis'"
      ]
     },
     "execution_count": 25,
     "metadata": {},
     "output_type": "execute_result"
    }
   ],
   "source": [
    "country[1:5]"
   ]
  },
  {
   "cell_type": "code",
   "execution_count": 26,
   "metadata": {},
   "outputs": [
    {
     "ename": "TypeError",
     "evalue": "'str' object does not support item assignment",
     "output_type": "error",
     "traceback": [
      "\u001b[1;31m---------------------------------------------------------------------------\u001b[0m",
      "\u001b[1;31mTypeError\u001b[0m                                 Traceback (most recent call last)",
      "\u001b[1;32m<ipython-input-26-a0ba77582dca>\u001b[0m in \u001b[0;36m<module>\u001b[1;34m\u001b[0m\n\u001b[1;32m----> 1\u001b[1;33m \u001b[0mcountry\u001b[0m\u001b[1;33m[\u001b[0m\u001b[1;36m3\u001b[0m\u001b[1;33m]\u001b[0m\u001b[1;33m=\u001b[0m\u001b[1;34m'd'\u001b[0m\u001b[1;33m\u001b[0m\u001b[1;33m\u001b[0m\u001b[0m\n\u001b[0m",
      "\u001b[1;31mTypeError\u001b[0m: 'str' object does not support item assignment"
     ]
    }
   ],
   "source": [
    "country[3]='d'"
   ]
  },
  {
   "cell_type": "code",
   "execution_count": 27,
   "metadata": {},
   "outputs": [
    {
     "ename": "TypeError",
     "evalue": "'str' object doesn't support item deletion",
     "output_type": "error",
     "traceback": [
      "\u001b[1;31m---------------------------------------------------------------------------\u001b[0m",
      "\u001b[1;31mTypeError\u001b[0m                                 Traceback (most recent call last)",
      "\u001b[1;32m<ipython-input-27-e13dbbe5841d>\u001b[0m in \u001b[0;36m<module>\u001b[1;34m\u001b[0m\n\u001b[1;32m----> 1\u001b[1;33m \u001b[1;32mdel\u001b[0m \u001b[0mcountry\u001b[0m\u001b[1;33m[\u001b[0m\u001b[1;36m4\u001b[0m\u001b[1;33m]\u001b[0m\u001b[1;33m\u001b[0m\u001b[1;33m\u001b[0m\u001b[0m\n\u001b[0m",
      "\u001b[1;31mTypeError\u001b[0m: 'str' object doesn't support item deletion"
     ]
    }
   ],
   "source": [
    "del country[4]"
   ]
  },
  {
   "cell_type": "markdown",
   "metadata": {},
   "source": [
    "# String Formatting"
   ]
  },
  {
   "cell_type": "code",
   "execution_count": 29,
   "metadata": {},
   "outputs": [
    {
     "name": "stdout",
     "output_type": "stream",
     "text": [
      "My friend name is fahad and his father name is ali\n"
     ]
    }
   ],
   "source": [
    "name='fahad'\n",
    "f_name='ali'\n",
    "print(\"My friend name is \"+name+' and his father name is '+f_name)"
   ]
  },
  {
   "cell_type": "code",
   "execution_count": 36,
   "metadata": {},
   "outputs": [
    {
     "name": "stdout",
     "output_type": "stream",
     "text": [
      "My friend name is fahad and his father name is ali \n"
     ]
    }
   ],
   "source": [
    "print(\"My friend name is {} and his father name is {} \".format(name,f_name)) #{} it is place holde"
   ]
  },
  {
   "cell_type": "code",
   "execution_count": 37,
   "metadata": {},
   "outputs": [
    {
     "name": "stdout",
     "output_type": "stream",
     "text": [
      "My friend name is fahad and his father name is ali \n"
     ]
    }
   ],
   "source": [
    "print(f\"My friend name is {name} and his father name is {f_name} \")"
   ]
  },
  {
   "cell_type": "code",
   "execution_count": 40,
   "metadata": {},
   "outputs": [
    {
     "name": "stdout",
     "output_type": "stream",
     "text": [
      "There are 100 student\n"
     ]
    }
   ],
   "source": [
    "students=100\n",
    "z='There are {} student'.format(students)\n",
    "print(z)"
   ]
  },
  {
   "cell_type": "code",
   "execution_count": 43,
   "metadata": {},
   "outputs": [
    {
     "name": "stdout",
     "output_type": "stream",
     "text": [
      "My name is Jahanzaib my date of birth is 4 June and year of birth is 1996\n"
     ]
    }
   ],
   "source": [
    "mylist=['Jahanzaib', '4 June',1996]\n",
    "print(f\"My name is {mylist[0]} my date of birth is {mylist[1]} and year of birth is {mylist[2]}\")"
   ]
  },
  {
   "cell_type": "markdown",
   "metadata": {},
   "source": [
    "# Tuple\n",
    "Like the list but it is \"Immutable\", it can not be modified nor delete"
   ]
  },
  {
   "cell_type": "code",
   "execution_count": 1,
   "metadata": {},
   "outputs": [
    {
     "data": {
      "text/plain": [
       "tuple"
      ]
     },
     "execution_count": 1,
     "metadata": {},
     "output_type": "execute_result"
    }
   ],
   "source": [
    "myTuple=('apple','banana','peach','lychee')\n",
    "type(myTuple)"
   ]
  },
  {
   "cell_type": "code",
   "execution_count": 50,
   "metadata": {},
   "outputs": [
    {
     "name": "stdout",
     "output_type": "stream",
     "text": [
      "('apple', 'banana', 'peach')\n"
     ]
    },
    {
     "data": {
      "text/plain": [
       "tuple"
      ]
     },
     "execution_count": 50,
     "metadata": {},
     "output_type": "execute_result"
    }
   ],
   "source": [
    "second_tuple=myTuple[0:3]\n",
    "print(second_tuple)\n",
    "type(second_tuple)"
   ]
  },
  {
   "cell_type": "code",
   "execution_count": 2,
   "metadata": {},
   "outputs": [
    {
     "name": "stdout",
     "output_type": "stream",
     "text": [
      "(12, 34, 1434, 234234, 536, 6776)\n"
     ]
    }
   ],
   "source": [
    "a=12,34,1434,234234,536,6776 #packing of values\n",
    "print(a)"
   ]
  },
  {
   "cell_type": "code",
   "execution_count": 4,
   "metadata": {},
   "outputs": [
    {
     "name": "stdout",
     "output_type": "stream",
     "text": [
      "6776\n"
     ]
    }
   ],
   "source": [
    "b,c,d,e,f,g=a\n",
    "print(b)\n"
   ]
  },
  {
   "cell_type": "code",
   "execution_count": 2,
   "metadata": {},
   "outputs": [
    {
     "name": "stdout",
     "output_type": "stream",
     "text": [
      "<class 'str'>\n"
     ]
    }
   ],
   "source": [
    "tupple=myTuple[2]\n",
    "print(type(tupple))"
   ]
  },
  {
   "cell_type": "code",
   "execution_count": 22,
   "metadata": {},
   "outputs": [
    {
     "name": "stdout",
     "output_type": "stream",
     "text": [
      "I belong to KARACHI and my friend lives in ABBOTABAD\n",
      "I belong to Karachi and my cousin lives in KUALA LAMPUR\n"
     ]
    }
   ],
   "source": [
    "cities=('Mexico','Cali','Medelin','Kuala Lampur','Bali','karachi','Abbotabad')\n",
    "mycity=cities[5]\n",
    "print('I belong to {} and my friend lives in {}'.format(mycity.upper(),cities[6].upper()))\n",
    "print(f'I belong to {mycity.title()} and my cousin lives in {cities[3].upper()}')"
   ]
  },
  {
   "cell_type": "code",
   "execution_count": 16,
   "metadata": {},
   "outputs": [
    {
     "name": "stdout",
     "output_type": "stream",
     "text": [
      "tup1[3]= COMPUTER\n",
      "tup2[0:5] (1, 2, 3, 4, 5)\n"
     ]
    }
   ],
   "source": [
    "tup1=('Physics','Chemistry','Maths','Computer','Biology')\n",
    "tup2=(1,2,3,4,5,6)\n",
    "print(\"tup1[3]=\",tup1[3].upper())\n",
    "print('tup2[0:5]',tup2[0:5])"
   ]
  },
  {
   "cell_type": "code",
   "execution_count": 20,
   "metadata": {},
   "outputs": [
    {
     "name": "stdout",
     "output_type": "stream",
     "text": [
      "I am too bad in CHEMISTRY\n",
      "I like Maths\n"
     ]
    }
   ],
   "source": [
    "print('I am too bad in {}'.format(tup1[1].upper()))\n",
    "print(f'I like {tup1[2]}')"
   ]
  },
  {
   "cell_type": "code",
   "execution_count": 23,
   "metadata": {},
   "outputs": [
    {
     "name": "stdout",
     "output_type": "stream",
     "text": [
      "(1, 2, 3, 4, 5, 6, 'Physics', 'Chemistry', 'Maths', 'Computer', 'Biology')\n"
     ]
    }
   ],
   "source": [
    "tup3=tup2+tup1\n",
    "print(tup3)"
   ]
  },
  {
   "cell_type": "code",
   "execution_count": 24,
   "metadata": {},
   "outputs": [
    {
     "name": "stdout",
     "output_type": "stream",
     "text": [
      "Apple\n",
      "Banana\n",
      "Cherry\n"
     ]
    }
   ],
   "source": [
    "fruit_tupple=('Apple','Banana',\"Cherry\")\n",
    "for x in fruit_tupple:\n",
    "    print(x)"
   ]
  },
  {
   "cell_type": "code",
   "execution_count": 27,
   "metadata": {},
   "outputs": [
    {
     "name": "stdout",
     "output_type": "stream",
     "text": [
      "Apple is there\n"
     ]
    }
   ],
   "source": [
    "if 'apple'.title() in fruit_tupple:\n",
    "    print('Apple is there')"
   ]
  },
  {
   "cell_type": "code",
   "execution_count": 31,
   "metadata": {},
   "outputs": [
    {
     "name": "stdout",
     "output_type": "stream",
     "text": [
      "Strawberry is not there\n"
     ]
    }
   ],
   "source": [
    "if 'strawberry'.title() in fruit_tupple:\n",
    "    print('Apple is there')\n",
    "else: \n",
    "    print('Strawberry is not there')"
   ]
  },
  {
   "cell_type": "code",
   "execution_count": 29,
   "metadata": {},
   "outputs": [
    {
     "name": "stdout",
     "output_type": "stream",
     "text": [
      "3\n"
     ]
    }
   ],
   "source": [
    "print(len(fruit_tupple))"
   ]
  },
  {
   "cell_type": "code",
   "execution_count": 30,
   "metadata": {},
   "outputs": [
    {
     "name": "stdout",
     "output_type": "stream",
     "text": [
      "(1, 2, 3, 4, 5)\n",
      "After deleting tup\n"
     ]
    },
    {
     "ename": "NameError",
     "evalue": "name 'dusra_tuple' is not defined",
     "output_type": "error",
     "traceback": [
      "\u001b[1;31m---------------------------------------------------------------------------\u001b[0m",
      "\u001b[1;31mNameError\u001b[0m                                 Traceback (most recent call last)",
      "\u001b[1;32m<ipython-input-30-802bcb900222>\u001b[0m in \u001b[0;36m<module>\u001b[1;34m\u001b[0m\n\u001b[0;32m      3\u001b[0m \u001b[1;32mdel\u001b[0m \u001b[0mdusra_tuple\u001b[0m\u001b[1;33m\u001b[0m\u001b[1;33m\u001b[0m\u001b[0m\n\u001b[0;32m      4\u001b[0m \u001b[0mprint\u001b[0m\u001b[1;33m(\u001b[0m\u001b[1;34m'After deleting tup'\u001b[0m\u001b[1;33m)\u001b[0m\u001b[1;33m\u001b[0m\u001b[1;33m\u001b[0m\u001b[0m\n\u001b[1;32m----> 5\u001b[1;33m \u001b[0mprint\u001b[0m\u001b[1;33m(\u001b[0m\u001b[0mdusra_tuple\u001b[0m\u001b[1;33m)\u001b[0m\u001b[1;33m\u001b[0m\u001b[1;33m\u001b[0m\u001b[0m\n\u001b[0m",
      "\u001b[1;31mNameError\u001b[0m: name 'dusra_tuple' is not defined"
     ]
    }
   ],
   "source": [
    "dusra_tuple=(1,2,3,4,5)\n",
    "print(dusra_tuple)\n",
    "del dusra_tuple\n",
    "print('After deleting tup')\n",
    "print(dusra_tuple)"
   ]
  },
  {
   "cell_type": "markdown",
   "metadata": {},
   "source": [
    "# Dictionaries\n",
    "Dictionary _{ }_ me aati he"
   ]
  },
  {
   "cell_type": "code",
   "execution_count": 34,
   "metadata": {},
   "outputs": [
    {
     "name": "stdout",
     "output_type": "stream",
     "text": [
      "value\n"
     ]
    }
   ],
   "source": [
    "a={'key':'value'}\n",
    "print(a['key'])"
   ]
  },
  {
   "cell_type": "code",
   "execution_count": 36,
   "metadata": {},
   "outputs": [
    {
     "name": "stdout",
     "output_type": "stream",
     "text": [
      "green\n",
      "5\n"
     ]
    }
   ],
   "source": [
    "alien={'color':'green','points':5}\n",
    "print(alien['color'])\n",
    "print(alien['points'])"
   ]
  },
  {
   "cell_type": "code",
   "execution_count": 37,
   "metadata": {},
   "outputs": [],
   "source": [
    "myDict={1:11,2:22,3:33}"
   ]
  },
  {
   "cell_type": "code",
   "execution_count": 38,
   "metadata": {},
   "outputs": [],
   "source": [
    "myDict1={1:'Pak',2:'Sindh',3:'Khi'}"
   ]
  },
  {
   "cell_type": "code",
   "execution_count": 40,
   "metadata": {},
   "outputs": [],
   "source": [
    "myDict2={'name':'Jahanzaib','f_name':'Ashraf'}"
   ]
  },
  {
   "cell_type": "code",
   "execution_count": 41,
   "metadata": {},
   "outputs": [],
   "source": [
    "myDict3={'name':'Dhoraji','type':'Association','work':'Association'}"
   ]
  },
  {
   "cell_type": "code",
   "execution_count": 46,
   "metadata": {},
   "outputs": [],
   "source": [
    "myDict4={'type':'Dhoraji','type':'Association','work':'Association'}"
   ]
  },
  {
   "cell_type": "code",
   "execution_count": 47,
   "metadata": {},
   "outputs": [
    {
     "data": {
      "text/plain": [
       "'Association'"
      ]
     },
     "execution_count": 47,
     "metadata": {},
     "output_type": "execute_result"
    }
   ],
   "source": [
    "myDict4['type'] #aage wali value piche wali ko overwrite kar degi"
   ]
  },
  {
   "cell_type": "code",
   "execution_count": 49,
   "metadata": {},
   "outputs": [
    {
     "name": "stdout",
     "output_type": "stream",
     "text": [
      "['abc', 'def']\n"
     ]
    }
   ],
   "source": [
    "mydict5={1:['abc','def']} #aik key ko zaida values dene k liye wahan list ya tuple bana denge\n",
    "print(mydict5[1]) "
   ]
  },
  {
   "cell_type": "code",
   "execution_count": 67,
   "metadata": {},
   "outputs": [
    {
     "data": {
      "text/plain": [
       "333"
      ]
     },
     "execution_count": 67,
     "metadata": {},
     "output_type": "execute_result"
    }
   ],
   "source": [
    "myDict6={1:{11:111,22:222,33:333},2:{22:222,33:333,44:444}}\n",
    "myDict6[2][33]"
   ]
  },
  {
   "cell_type": "code",
   "execution_count": 68,
   "metadata": {},
   "outputs": [
    {
     "name": "stdout",
     "output_type": "stream",
     "text": [
      "{'color': 'green', 'points': 5}\n",
      "{'color': 'green', 'points': 5, 'x Position': 0, 'y Position': 10}\n"
     ]
    }
   ],
   "source": [
    "alien_0={'color':'green','points':5}\n",
    "print(alien_0)\n",
    "alien_0['x Position']=0\n",
    "alien_0['y Position']=10\n",
    "print(alien_0)"
   ]
  },
  {
   "cell_type": "code",
   "execution_count": 84,
   "metadata": {},
   "outputs": [
    {
     "name": "stdout",
     "output_type": "stream",
     "text": [
      "Blueberry\n"
     ]
    }
   ],
   "source": [
    "foods={}\n",
    "foods['karahi']=['Shahi','White','Brown',\"Peshawari\",'Kashmiri']\n",
    "foods['BBQ']='Tikka','Malai Boti','Reshmi Kabab'\n",
    "foods['Rice']={'Biryani','Pulao'}\n",
    "foods['Drinks']='7Up'\n",
    "foods['IceCream']={'Italian':'Alpine','French':'Mango','Local':['Pista','Almond','Blueberry']}\n",
    "print(foods['IceCream']['Local'][2])\n",
    "#foods['Italian']['Local']=['Pista','Mango','Vanilla']"
   ]
  },
  {
   "cell_type": "code",
   "execution_count": 92,
   "metadata": {},
   "outputs": [
    {
     "name": "stdout",
     "output_type": "stream",
     "text": [
      "Shane Watson is an Australian International Cricketer.\n",
      "Sarafarz Ahmed is CAPTAIN OF PAKISTAN TEAM\n"
     ]
    }
   ],
   "source": [
    "players={'Watson':'Australian International Cricketer'}\n",
    "print('Shane Watson is an {}'.format(players['Watson']+\".\"))\n",
    "players['Sarfaraz Ahmed']='Captain of Pakistan Team'.upper()\n",
    "print('Sarafarz Ahmed is {}'.format(players['Sarfaraz Ahmed']))"
   ]
  },
  {
   "cell_type": "code",
   "execution_count": 97,
   "metadata": {},
   "outputs": [
    {
     "name": "stdout",
     "output_type": "stream",
     "text": [
      "Karachi is Kings.\n",
      "Psl4 Zalmi :Won 2\n"
     ]
    }
   ],
   "source": [
    "psl={'Karachi':'Kings','Multan':'Sultans','Zalmi':'Won'}\n",
    "print('Karachi is '+psl['Karachi']+'.')\n",
    "if psl['Zalmi']=='Loser':\n",
    "    x_inc=1\n",
    "elif psl['Zalmi']=='Won':\n",
    "    x_inc=2\n",
    "else:\n",
    "    x_inc=3\n",
    "psl['Zalmi']=psl['Zalmi']+' '+str(x_inc)\n",
    "print('Psl4 Zalmi :'+psl['Zalmi'])"
   ]
  },
  {
   "cell_type": "code",
   "execution_count": null,
   "metadata": {},
   "outputs": [],
   "source": []
  }
 ],
 "metadata": {
  "kernelspec": {
   "display_name": "Python 3",
   "language": "python",
   "name": "python3"
  },
  "language_info": {
   "codemirror_mode": {
    "name": "ipython",
    "version": 3
   },
   "file_extension": ".py",
   "mimetype": "text/x-python",
   "name": "python",
   "nbconvert_exporter": "python",
   "pygments_lexer": "ipython3",
   "version": "3.7.1"
  }
 },
 "nbformat": 4,
 "nbformat_minor": 2
}
