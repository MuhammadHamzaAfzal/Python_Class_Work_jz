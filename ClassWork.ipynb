{
 "cells": [
  {
   "cell_type": "code",
   "execution_count": null,
   "metadata": {},
   "outputs": [],
   "source": [
    "print(\"hello\")"
   ]
  },
  {
   "cell_type": "markdown",
   "metadata": {},
   "source": [
    "# Our First Class"
   ]
  },
  {
   "cell_type": "markdown",
   "metadata": {},
   "source": [
    "We are learning python :-)"
   ]
  },
  {
   "cell_type": "code",
   "execution_count": 2,
   "metadata": {},
   "outputs": [
    {
     "name": "stdout",
     "output_type": "stream",
     "text": [
      "Hello World\n"
     ]
    }
   ],
   "source": [
    "print(\"Hello World\")"
   ]
  },
  {
   "cell_type": "code",
   "execution_count": 3,
   "metadata": {},
   "outputs": [
    {
     "name": "stdout",
     "output_type": "stream",
     "text": [
      "123\n"
     ]
    }
   ],
   "source": [
    "print(123)"
   ]
  },
  {
   "cell_type": "code",
   "execution_count": 4,
   "metadata": {},
   "outputs": [
    {
     "name": "stdout",
     "output_type": "stream",
     "text": [
      "123 hey\n"
     ]
    }
   ],
   "source": [
    "print(123,'hey')"
   ]
  },
  {
   "cell_type": "code",
   "execution_count": 5,
   "metadata": {},
   "outputs": [
    {
     "name": "stdout",
     "output_type": "stream",
     "text": [
      "4\n"
     ]
    }
   ],
   "source": [
    "print(2+2)"
   ]
  },
  {
   "cell_type": "code",
   "execution_count": 6,
   "metadata": {},
   "outputs": [
    {
     "name": "stdout",
     "output_type": "stream",
     "text": [
      "This is AI class\n",
      " Dhoraji Association\n"
     ]
    }
   ],
   "source": [
    "print(\"This is AI class\\n Dhoraji Association\")"
   ]
  },
  {
   "cell_type": "code",
   "execution_count": 7,
   "metadata": {},
   "outputs": [
    {
     "name": "stdout",
     "output_type": "stream",
     "text": [
      "Languages:\n",
      "Pyhton\n",
      "Ruby\n",
      "JavaScript\n"
     ]
    }
   ],
   "source": [
    "print(\"Languages:\\nPyhton\\nRuby\\nJavaScript\")"
   ]
  },
  {
   "cell_type": "code",
   "execution_count": 8,
   "metadata": {},
   "outputs": [
    {
     "name": "stdout",
     "output_type": "stream",
     "text": [
      "Languages:\n",
      "\tPyhton\n",
      "\tRuby\n",
      "\tJavaScript\n"
     ]
    }
   ],
   "source": [
    "print(\"Languages:\\n\\tPyhton\\n\\tRuby\\n\\tJavaScript\")"
   ]
  },
  {
   "cell_type": "code",
   "execution_count": 9,
   "metadata": {},
   "outputs": [
    {
     "name": "stdout",
     "output_type": "stream",
     "text": [
      "20\n"
     ]
    },
    {
     "data": {
      "text/plain": [
       "140721350620592"
      ]
     },
     "execution_count": 9,
     "metadata": {},
     "output_type": "execute_result"
    }
   ],
   "source": [
    "num =20\n",
    "print(num)\n",
    "type(num)\n",
    "id(num)"
   ]
  },
  {
   "cell_type": "code",
   "execution_count": 29,
   "metadata": {},
   "outputs": [
    {
     "name": "stdout",
     "output_type": "stream",
     "text": [
      "1bcd bcd\n"
     ]
    }
   ],
   "source": [
    "a='1bcd'\n",
    "b = 'bcd'\n",
    "print((a) + \" \" + (b))\n"
   ]
  },
  {
   "cell_type": "code",
   "execution_count": 18,
   "metadata": {},
   "outputs": [
    {
     "name": "stdout",
     "output_type": "stream",
     "text": [
      "Muhammad\n"
     ]
    }
   ],
   "source": [
    "name='muhammad'\n",
    "print(name.title())"
   ]
  },
  {
   "cell_type": "code",
   "execution_count": 20,
   "metadata": {},
   "outputs": [
    {
     "name": "stdout",
     "output_type": "stream",
     "text": [
      "muhammad\n"
     ]
    }
   ],
   "source": [
    "name='muHamMaD'\n",
    "print(name.lower())"
   ]
  },
  {
   "cell_type": "code",
   "execution_count": 21,
   "metadata": {},
   "outputs": [
    {
     "name": "stdout",
     "output_type": "stream",
     "text": [
      "MUHAMMAD\n"
     ]
    }
   ],
   "source": [
    "name='muhammad'\n",
    "print(name.upper())"
   ]
  },
  {
   "cell_type": "code",
   "execution_count": 23,
   "metadata": {},
   "outputs": [
    {
     "name": "stdout",
     "output_type": "stream",
     "text": [
      "Muhammad Jahanzaib\n"
     ]
    }
   ],
   "source": [
    "name1='jahanzaib'\n",
    "print(name.title()+\" \"+name1.title())"
   ]
  },
  {
   "cell_type": "code",
   "execution_count": 42,
   "metadata": {},
   "outputs": [
    {
     "name": "stdout",
     "output_type": "stream",
     "text": [
      "tes tes \n"
     ]
    }
   ],
   "source": [
    "print (\"tes\"*2) #multiple print"
   ]
  },
  {
   "cell_type": "code",
   "execution_count": 32,
   "metadata": {},
   "outputs": [
    {
     "name": "stdout",
     "output_type": "stream",
     "text": [
      "how are you?\n",
      "oh bro\n"
     ]
    }
   ],
   "source": [
    "abc='how are you?'\n",
    "print(abc)\n",
    "abc='oh bro'\n",
    "print(abc)"
   ]
  },
  {
   "cell_type": "code",
   "execution_count": 49,
   "metadata": {},
   "outputs": [
    {
     "name": "stdout",
     "output_type": "stream",
     "text": [
      "3\n"
     ]
    },
    {
     "data": {
      "text/plain": [
       "float"
      ]
     },
     "execution_count": 49,
     "metadata": {},
     "output_type": "execute_result"
    }
   ],
   "source": [
    "import math\n",
    "num1=10; num2=20; num3=40; num4=12; num5=34;\n",
    "numt=(num1+num2)/num4\n",
    "print (math.ceil(numt))\n",
    "type(numt)"
   ]
  },
  {
   "cell_type": "code",
   "execution_count": 51,
   "metadata": {},
   "outputs": [
    {
     "name": "stdout",
     "output_type": "stream",
     "text": [
      "muhAmmaD jaHanZaIb asHraF\n",
      "Muhammad Jahanzaib Ashraf\n",
      "muhammad jahanzaib ashraf\n",
      "MUHAMMAD JAHANZAIB ASHRAF\n"
     ]
    }
   ],
   "source": [
    "fn='muhAmmaD'; mn='jaHanZaIb'; ln='asHraF';\n",
    "fullname=fn+' '+mn+' '+ln\n",
    "print(fullname)\n",
    "print(fullname.title())\n",
    "print(fullname.lower())\n",
    "print(fullname.upper())"
   ]
  },
  {
   "cell_type": "code",
   "execution_count": 54,
   "metadata": {},
   "outputs": [
    {
     "name": "stdout",
     "output_type": "stream",
     "text": [
      "5\n"
     ]
    }
   ],
   "source": [
    "rem= 5 % 9\n",
    "print(rem)"
   ]
  },
  {
   "cell_type": "code",
   "execution_count": 60,
   "metadata": {},
   "outputs": [
    {
     "name": "stdout",
     "output_type": "stream",
     "text": [
      "12\n"
     ]
    }
   ],
   "source": [
    "age=10\n",
    "age+=2\n",
    "print(age)"
   ]
  },
  {
   "cell_type": "code",
   "execution_count": 8,
   "metadata": {},
   "outputs": [
    {
     "name": "stdout",
     "output_type": "stream",
     "text": [
      "hey\n",
      "hey\n",
      "hey\n",
      "hey\n",
      "hey\n"
     ]
    }
   ],
   "source": [
    "for x in range(5):\n",
    "    print('hey')"
   ]
  },
  {
   "cell_type": "markdown",
   "metadata": {},
   "source": [
    "\"How to take input from user\""
   ]
  },
  {
   "cell_type": "markdown",
   "metadata": {},
   "source": [
    "'+' sign will do concatenation while ',' is a separator"
   ]
  },
  {
   "cell_type": "code",
   "execution_count": 36,
   "metadata": {},
   "outputs": [
    {
     "name": "stdout",
     "output_type": "stream",
     "text": [
      "Enter first no=2\n",
      "Enter second no=2\n",
      "Total Value=4\n"
     ]
    }
   ],
   "source": [
    "num1=input(\"Enter first no=\")\n",
    "num2=input('Enter second no=')\n",
    "no1=int(num1)\n",
    "no2=int(num2)\n",
    "x=no1 + no2\n",
    "print('Total Value='+str(x))"
   ]
  },
  {
   "cell_type": "code",
   "execution_count": 18,
   "metadata": {},
   "outputs": [
    {
     "name": "stdout",
     "output_type": "stream",
     "text": [
      "4 5\n",
      "4 5\n"
     ]
    }
   ],
   "source": [
    "#from IPython.display  import clear_output\n",
    "n1=int(input('value='))\n",
    "n2=input('enter string=')\n",
    "#clear_output()\n",
    "print(n1,n2)\n",
    "n3=str(n1)+\" \"+n2\n",
    "print(n3)"
   ]
  },
  {
   "cell_type": "markdown",
   "metadata": {},
   "source": [
    "Multiple string in one print fucntion using separator"
   ]
  },
  {
   "cell_type": "code",
   "execution_count": 53,
   "metadata": {},
   "outputs": [
    {
     "name": "stdout",
     "output_type": "stream",
     "text": [
      "11/03/2019\n"
     ]
    }
   ],
   "source": [
    "print('11','03','2019', sep='/')"
   ]
  },
  {
   "cell_type": "markdown",
   "metadata": {},
   "source": [
    "Using end statement in print function"
   ]
  },
  {
   "cell_type": "code",
   "execution_count": 67,
   "metadata": {},
   "outputs": [
    {
     "name": "stdout",
     "output_type": "stream",
     "text": [
      "Hello World @ Hello Python\n"
     ]
    }
   ],
   "source": [
    "print ('Hello World ',' ',sep='@', end='')\n",
    "print ('Hello Python')"
   ]
  },
  {
   "cell_type": "code",
   "execution_count": 2,
   "metadata": {},
   "outputs": [
    {
     "name": "stdout",
     "output_type": "stream",
     "text": [
      "8\n"
     ]
    }
   ],
   "source": [
    "x=pow(2,3)\n",
    "print(x)"
   ]
  },
  {
   "cell_type": "markdown",
   "metadata": {},
   "source": [
    "# Clear Output\n",
    "at first \"from IPython.display import clear_output\"\n",
    "then where needed \"clear_output()\" \n"
   ]
  },
  {
   "cell_type": "markdown",
   "metadata": {},
   "source": [
    "# If Statement"
   ]
  },
  {
   "cell_type": "code",
   "execution_count": 27,
   "metadata": {},
   "outputs": [
    {
     "name": "stdout",
     "output_type": "stream",
     "text": [
      "enter price=80\n",
      "Tamatar 80 rupey kilo\n"
     ]
    }
   ],
   "source": [
    "a=10 #'='assign a value to variable\n",
    "b=20/2\n",
    "x=a==b #'==' show comparision\n",
    "price=int(input('enter price='))\n",
    "if price==price:\n",
    "    print('Tamatar 80 rupey kilo')\n",
    "else:\n",
    "    print('Tamatar 70 rupay kilo')"
   ]
  },
  {
   "cell_type": "code",
   "execution_count": 40,
   "metadata": {},
   "outputs": [
    {
     "name": "stdout",
     "output_type": "stream",
     "text": [
      "Invalid\n"
     ]
    }
   ],
   "source": [
    "if '100'==100:\n",
    "    print('valid')\n",
    "else:\n",
    "    print('Invalid')"
   ]
  },
  {
   "cell_type": "markdown",
   "metadata": {},
   "source": [
    "# Operator & Expressions\n",
    "https://realpython.com/python-operators-expressions/ "
   ]
  },
  {
   "cell_type": "code",
   "execution_count": 45,
   "metadata": {},
   "outputs": [
    {
     "name": "stdout",
     "output_type": "stream",
     "text": [
      "4 and -3 and 7 and 1 and 12 and 1.3333333333333333 and 1 and 1 and 6 and 1\n"
     ]
    }
   ],
   "source": [
    "a = 4\n",
    "b = 3\n",
    "x1=+a #Unary Positive\n",
    "x2=-b #Unary Negation\n",
    "x3=a+b #Addition\n",
    "x4=a - b #Subtraction\n",
    "x5=a * b #Muliplication\n",
    "x6=a/b #Division, answer will be in float even it is completely divide\n",
    "x7=a//b #Division but this time answer will be in integer, it will be round of\n",
    "x8=a%b\n",
    "a+=2 #increment\n",
    "b-=2\n",
    "print(x1,x2,x3,x4,x5,x6,x7,x8,a,b, sep=' and ')"
   ]
  },
  {
   "cell_type": "markdown",
   "metadata": {},
   "source": [
    "# Variable Names\n",
    " no space in variable name, we use '_'. \n",
    " _ can come in start like _khi. \n",
    " No hyphen('-' or dash)\n"
   ]
  },
  {
   "cell_type": "code",
   "execution_count": 48,
   "metadata": {},
   "outputs": [
    {
     "name": "stdout",
     "output_type": "stream",
     "text": [
      "12 4.0\n"
     ]
    }
   ],
   "source": [
    "a=3\n",
    "a*=4\n",
    "a\n",
    "c=20\n",
    "c/=5\n",
    "print(a,c,sep=' ')"
   ]
  },
  {
   "cell_type": "code",
   "execution_count": null,
   "metadata": {},
   "outputs": [],
   "source": []
  }
 ],
 "metadata": {
  "kernelspec": {
   "display_name": "Python 3",
   "language": "python",
   "name": "python3"
  },
  "language_info": {
   "codemirror_mode": {
    "name": "ipython",
    "version": 3
   },
   "file_extension": ".py",
   "mimetype": "text/x-python",
   "name": "python",
   "nbconvert_exporter": "python",
   "pygments_lexer": "ipython3",
   "version": "3.7.1"
  }
 },
 "nbformat": 4,
 "nbformat_minor": 2
}
