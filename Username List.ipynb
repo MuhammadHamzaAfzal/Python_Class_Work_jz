{
 "cells": [
  {
   "cell_type": "code",
   "execution_count": 22,
   "metadata": {},
   "outputs": [
    {
     "name": "stdout",
     "output_type": "stream",
     "text": [
      "This username is available Zohaib\n",
      "This username is available Suleman\n",
      "This username is available Hanzala\n",
      "This username is available Hamza\n",
      "This username has already been used  Mustafa\n",
      "This username is available Arif\n",
      "This username has already been used  Hussain\n"
     ]
    }
   ],
   "source": [
    "curr_username=['Ali','Rehan','Furqan',ustafa','Haider','Hasan','Hussain']\n",
    "new_username=['Zohaib','Suleman','Hanzala','Hamza','Mustafa','Arif','Hussain']\n",
    "for check in new_username:\n",
    "    #for Check in new_username:\n",
    "    if check.upper() in curr_username or check.lower() in curr_username or check.title() in curr_username:\n",
    "            print(\"This username has already been used \",check)\n",
    "        \n",
    "    else:\n",
    "            print(\"This username is available\",check)\n",
    "            "
   ]
  },
  {
   "cell_type": "code",
   "execution_count": 24,
   "metadata": {},
   "outputs": [
    {
     "name": "stdout",
     "output_type": "stream",
     "text": [
      "This username is available Zohaib\n",
      "This username is available Suleman\n",
      "This username is available Hanzala\n",
      "This username is available Hamza\n",
      "This username has already been used  Mustafa\n",
      "This username is available Arif\n",
      "This username has already been used  Hussain\n"
     ]
    }
   ],
   "source": [
    "curr_username=['Ali','Rehan','Furqan','Mustafa','Haider','Hasan','Hussain']\n",
    "new_username=['Zohaib','Suleman','Hanzala','Hamza','Mustafa','Arif','Hussain']\n",
    "for check in new_username:\n",
    "    if check.title() in curr_username:\n",
    "            print(\"This username has already been used \",check)\n",
    "        \n",
    "    else:\n",
    "            print(\"This username is available\",check)"
   ]
  },
  {
   "cell_type": "code",
   "execution_count": null,
   "metadata": {},
   "outputs": [],
   "source": []
  }
 ],
 "metadata": {
  "kernelspec": {
   "display_name": "Python 3",
   "language": "python",
   "name": "python3"
  },
  "language_info": {
   "codemirror_mode": {
    "name": "ipython",
    "version": 3
   },
   "file_extension": ".py",
   "mimetype": "text/x-python",
   "name": "python",
   "nbconvert_exporter": "python",
   "pygments_lexer": "ipython3",
   "version": "3.7.1"
  }
 },
 "nbformat": 4,
 "nbformat_minor": 2
}
