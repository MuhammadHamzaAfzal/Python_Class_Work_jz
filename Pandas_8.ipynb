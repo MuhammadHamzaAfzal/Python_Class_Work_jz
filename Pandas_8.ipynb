{
  "nbformat": 4,
  "nbformat_minor": 0,
  "metadata": {
    "colab": {
      "name": "Pandas_8.ipynb",
      "provenance": [],
      "collapsed_sections": [],
      "include_colab_link": true
    },
    "kernelspec": {
      "name": "python3",
      "display_name": "Python 3"
    }
  },
  "cells": [
    {
      "cell_type": "markdown",
      "metadata": {
        "id": "view-in-github",
        "colab_type": "text"
      },
      "source": [
        "<a href=\"https://colab.research.google.com/github/MuhammadHamzaAfzal/Python_Class_Work_jz/blob/master/Pandas_8.ipynb\" target=\"_parent\"><img src=\"https://colab.research.google.com/assets/colab-badge.svg\" alt=\"Open In Colab\"/></a>"
      ]
    },
    {
      "cell_type": "markdown",
      "metadata": {
        "id": "VoCb0JXngBng",
        "colab_type": "text"
      },
      "source": [
        "# Chapter 8"
      ]
    },
    {
      "cell_type": "code",
      "metadata": {
        "id": "PZ-yDix6gyuP",
        "colab_type": "code",
        "colab": {}
      },
      "source": [
        "import pandas as pd\n",
        "import numpy as np"
      ],
      "execution_count": 0,
      "outputs": []
    },
    {
      "cell_type": "code",
      "metadata": {
        "id": "XvtM13aCgFAh",
        "colab_type": "code",
        "colab": {}
      },
      "source": [
        "age = [20,22,26,27,21,55,41,67]\n",
        "bins = [15,22,35,45,55,70]\n",
        "c = pd.cut(age , bins)"
      ],
      "execution_count": 0,
      "outputs": []
    },
    {
      "cell_type": "code",
      "metadata": {
        "id": "uHkIGBHdgYBK",
        "colab_type": "code",
        "outputId": "8553764b-2389-490d-aaeb-7c9ee321e93f",
        "colab": {
          "base_uri": "https://localhost:8080/",
          "height": 51
        }
      },
      "source": [
        "c"
      ],
      "execution_count": 5,
      "outputs": [
        {
          "output_type": "execute_result",
          "data": {
            "text/plain": [
              "[(15, 22], (15, 22], (22, 35], (22, 35], (15, 22], (45, 55], (35, 45], (55, 70]]\n",
              "Categories (5, interval[int64]): [(15, 22] < (22, 35] < (35, 45] < (45, 55] < (55, 70]]"
            ]
          },
          "metadata": {
            "tags": []
          },
          "execution_count": 5
        }
      ]
    },
    {
      "cell_type": "code",
      "metadata": {
        "id": "UIA07q1EgZHw",
        "colab_type": "code",
        "outputId": "21b10ec4-8790-49d4-eefc-545cd5149e23",
        "colab": {
          "base_uri": "https://localhost:8080/",
          "height": 34
        }
      },
      "source": [
        "c.codes"
      ],
      "execution_count": 6,
      "outputs": [
        {
          "output_type": "execute_result",
          "data": {
            "text/plain": [
              "array([0, 0, 1, 1, 0, 3, 2, 4], dtype=int8)"
            ]
          },
          "metadata": {
            "tags": []
          },
          "execution_count": 6
        }
      ]
    },
    {
      "cell_type": "code",
      "metadata": {
        "id": "ux7a5KEtg5Ww",
        "colab_type": "code",
        "colab": {}
      },
      "source": [
        "marks=[77,60,50,80,75,65,92]\n",
        "grades=[60,70,80,90]\n",
        "c=pd.cut(marks , grades)"
      ],
      "execution_count": 0,
      "outputs": []
    },
    {
      "cell_type": "code",
      "metadata": {
        "id": "xnYnRCkdhz5I",
        "colab_type": "code",
        "outputId": "e1a882e6-9277-4983-cab3-3a5de7410efb",
        "colab": {
          "base_uri": "https://localhost:8080/",
          "height": 51
        }
      },
      "source": [
        "c"
      ],
      "execution_count": 8,
      "outputs": [
        {
          "output_type": "execute_result",
          "data": {
            "text/plain": [
              "[(70.0, 80.0], NaN, NaN, (70.0, 80.0], (70.0, 80.0], (60.0, 70.0], NaN]\n",
              "Categories (3, interval[int64]): [(60, 70] < (70, 80] < (80, 90]]"
            ]
          },
          "metadata": {
            "tags": []
          },
          "execution_count": 8
        }
      ]
    },
    {
      "cell_type": "code",
      "metadata": {
        "id": "cZGu8quLh07o",
        "colab_type": "code",
        "colab": {}
      },
      "source": [
        "marks = [65,75,65,80,91,53]\n",
        "grade = [0,60,70,80,90,100]\n",
        "cats = pd.cut(marks , grade)"
      ],
      "execution_count": 0,
      "outputs": []
    },
    {
      "cell_type": "code",
      "metadata": {
        "id": "G6V4YYzGiQTg",
        "colab_type": "code",
        "colab": {}
      },
      "source": [
        "lst = np.array([\"F\",\"C\",\"B\",\"A\",\"A+\"])\n"
      ],
      "execution_count": 0,
      "outputs": []
    },
    {
      "cell_type": "code",
      "metadata": {
        "id": "if6E0hGjiq1Y",
        "colab_type": "code",
        "outputId": "3410f9bc-9540-4517-cbb6-28c0658cc4f4",
        "colab": {
          "base_uri": "https://localhost:8080/",
          "height": 34
        }
      },
      "source": [
        "lst[cats.codes]"
      ],
      "execution_count": 11,
      "outputs": [
        {
          "output_type": "execute_result",
          "data": {
            "text/plain": [
              "array(['C', 'B', 'C', 'B', 'A+', 'F'], dtype='<U2')"
            ]
          },
          "metadata": {
            "tags": []
          },
          "execution_count": 11
        }
      ]
    },
    {
      "cell_type": "code",
      "metadata": {
        "id": "iArqaZ-MjR7o",
        "colab_type": "code",
        "outputId": "6f9507a9-eedc-43a1-ca0d-fcc11a2fe49a",
        "colab": {
          "base_uri": "https://localhost:8080/",
          "height": 68
        }
      },
      "source": [
        "data = [50,120,70,80,65,75,95,99,100,102]\n",
        "bp = [0,60,80,90,100,120]\n",
        "bins = pd.cut(data , bp)\n",
        "state=np.array([\"low\",\"Normal\",\"Pre-Hypertension\",\"Grade I Hypertension\",\"Grade II Hypertension\"])\n",
        "state[bins.codes]"
      ],
      "execution_count": 12,
      "outputs": [
        {
          "output_type": "execute_result",
          "data": {
            "text/plain": [
              "array(['low', 'Grade II Hypertension', 'Normal', 'Normal', 'Normal',\n",
              "       'Normal', 'Grade I Hypertension', 'Grade I Hypertension',\n",
              "       'Grade I Hypertension', 'Grade II Hypertension'], dtype='<U21')"
            ]
          },
          "metadata": {
            "tags": []
          },
          "execution_count": 12
        }
      ]
    },
    {
      "cell_type": "code",
      "metadata": {
        "id": "a3e5FseqlgvA",
        "colab_type": "code",
        "colab": {
          "base_uri": "https://localhost:8080/",
          "height": 391
        },
        "outputId": "c88be9ef-dffa-4be0-e2d2-a8c34e9e3613"
      },
      "source": [
        "df=pd.DataFrame(np.random.randn(20).reshape(5,4))\n",
        "display(df)\n",
        "sampler=np.random.permutation(5)\n",
        "df.take(sampler)"
      ],
      "execution_count": 13,
      "outputs": [
        {
          "output_type": "display_data",
          "data": {
            "text/html": [
              "<div>\n",
              "<style scoped>\n",
              "    .dataframe tbody tr th:only-of-type {\n",
              "        vertical-align: middle;\n",
              "    }\n",
              "\n",
              "    .dataframe tbody tr th {\n",
              "        vertical-align: top;\n",
              "    }\n",
              "\n",
              "    .dataframe thead th {\n",
              "        text-align: right;\n",
              "    }\n",
              "</style>\n",
              "<table border=\"1\" class=\"dataframe\">\n",
              "  <thead>\n",
              "    <tr style=\"text-align: right;\">\n",
              "      <th></th>\n",
              "      <th>0</th>\n",
              "      <th>1</th>\n",
              "      <th>2</th>\n",
              "      <th>3</th>\n",
              "    </tr>\n",
              "  </thead>\n",
              "  <tbody>\n",
              "    <tr>\n",
              "      <th>0</th>\n",
              "      <td>-1.107909</td>\n",
              "      <td>-1.521746</td>\n",
              "      <td>-0.333796</td>\n",
              "      <td>1.281764</td>\n",
              "    </tr>\n",
              "    <tr>\n",
              "      <th>1</th>\n",
              "      <td>-2.020575</td>\n",
              "      <td>-0.482560</td>\n",
              "      <td>-0.123263</td>\n",
              "      <td>0.972051</td>\n",
              "    </tr>\n",
              "    <tr>\n",
              "      <th>2</th>\n",
              "      <td>0.855777</td>\n",
              "      <td>-0.558889</td>\n",
              "      <td>1.975040</td>\n",
              "      <td>-0.282550</td>\n",
              "    </tr>\n",
              "    <tr>\n",
              "      <th>3</th>\n",
              "      <td>1.383113</td>\n",
              "      <td>-0.319979</td>\n",
              "      <td>0.046950</td>\n",
              "      <td>-0.038680</td>\n",
              "    </tr>\n",
              "    <tr>\n",
              "      <th>4</th>\n",
              "      <td>-0.219095</td>\n",
              "      <td>1.668601</td>\n",
              "      <td>-0.759743</td>\n",
              "      <td>1.278391</td>\n",
              "    </tr>\n",
              "  </tbody>\n",
              "</table>\n",
              "</div>"
            ],
            "text/plain": [
              "          0         1         2         3\n",
              "0 -1.107909 -1.521746 -0.333796  1.281764\n",
              "1 -2.020575 -0.482560 -0.123263  0.972051\n",
              "2  0.855777 -0.558889  1.975040 -0.282550\n",
              "3  1.383113 -0.319979  0.046950 -0.038680\n",
              "4 -0.219095  1.668601 -0.759743  1.278391"
            ]
          },
          "metadata": {
            "tags": []
          }
        },
        {
          "output_type": "execute_result",
          "data": {
            "text/html": [
              "<div>\n",
              "<style scoped>\n",
              "    .dataframe tbody tr th:only-of-type {\n",
              "        vertical-align: middle;\n",
              "    }\n",
              "\n",
              "    .dataframe tbody tr th {\n",
              "        vertical-align: top;\n",
              "    }\n",
              "\n",
              "    .dataframe thead th {\n",
              "        text-align: right;\n",
              "    }\n",
              "</style>\n",
              "<table border=\"1\" class=\"dataframe\">\n",
              "  <thead>\n",
              "    <tr style=\"text-align: right;\">\n",
              "      <th></th>\n",
              "      <th>0</th>\n",
              "      <th>1</th>\n",
              "      <th>2</th>\n",
              "      <th>3</th>\n",
              "    </tr>\n",
              "  </thead>\n",
              "  <tbody>\n",
              "    <tr>\n",
              "      <th>0</th>\n",
              "      <td>-1.107909</td>\n",
              "      <td>-1.521746</td>\n",
              "      <td>-0.333796</td>\n",
              "      <td>1.281764</td>\n",
              "    </tr>\n",
              "    <tr>\n",
              "      <th>2</th>\n",
              "      <td>0.855777</td>\n",
              "      <td>-0.558889</td>\n",
              "      <td>1.975040</td>\n",
              "      <td>-0.282550</td>\n",
              "    </tr>\n",
              "    <tr>\n",
              "      <th>3</th>\n",
              "      <td>1.383113</td>\n",
              "      <td>-0.319979</td>\n",
              "      <td>0.046950</td>\n",
              "      <td>-0.038680</td>\n",
              "    </tr>\n",
              "    <tr>\n",
              "      <th>1</th>\n",
              "      <td>-2.020575</td>\n",
              "      <td>-0.482560</td>\n",
              "      <td>-0.123263</td>\n",
              "      <td>0.972051</td>\n",
              "    </tr>\n",
              "    <tr>\n",
              "      <th>4</th>\n",
              "      <td>-0.219095</td>\n",
              "      <td>1.668601</td>\n",
              "      <td>-0.759743</td>\n",
              "      <td>1.278391</td>\n",
              "    </tr>\n",
              "  </tbody>\n",
              "</table>\n",
              "</div>"
            ],
            "text/plain": [
              "          0         1         2         3\n",
              "0 -1.107909 -1.521746 -0.333796  1.281764\n",
              "2  0.855777 -0.558889  1.975040 -0.282550\n",
              "3  1.383113 -0.319979  0.046950 -0.038680\n",
              "1 -2.020575 -0.482560 -0.123263  0.972051\n",
              "4 -0.219095  1.668601 -0.759743  1.278391"
            ]
          },
          "metadata": {
            "tags": []
          },
          "execution_count": 13
        }
      ]
    },
    {
      "cell_type": "code",
      "metadata": {
        "id": "ihOKpLYbFv_W",
        "colab_type": "code",
        "colab": {
          "base_uri": "https://localhost:8080/",
          "height": 142
        },
        "outputId": "bce307d8-fd05-413d-e120-8e0f0e7b0fd0"
      },
      "source": [
        "df.sample(frac=0.6, replace=False)"
      ],
      "execution_count": 14,
      "outputs": [
        {
          "output_type": "execute_result",
          "data": {
            "text/html": [
              "<div>\n",
              "<style scoped>\n",
              "    .dataframe tbody tr th:only-of-type {\n",
              "        vertical-align: middle;\n",
              "    }\n",
              "\n",
              "    .dataframe tbody tr th {\n",
              "        vertical-align: top;\n",
              "    }\n",
              "\n",
              "    .dataframe thead th {\n",
              "        text-align: right;\n",
              "    }\n",
              "</style>\n",
              "<table border=\"1\" class=\"dataframe\">\n",
              "  <thead>\n",
              "    <tr style=\"text-align: right;\">\n",
              "      <th></th>\n",
              "      <th>0</th>\n",
              "      <th>1</th>\n",
              "      <th>2</th>\n",
              "      <th>3</th>\n",
              "    </tr>\n",
              "  </thead>\n",
              "  <tbody>\n",
              "    <tr>\n",
              "      <th>1</th>\n",
              "      <td>-2.020575</td>\n",
              "      <td>-0.482560</td>\n",
              "      <td>-0.123263</td>\n",
              "      <td>0.972051</td>\n",
              "    </tr>\n",
              "    <tr>\n",
              "      <th>4</th>\n",
              "      <td>-0.219095</td>\n",
              "      <td>1.668601</td>\n",
              "      <td>-0.759743</td>\n",
              "      <td>1.278391</td>\n",
              "    </tr>\n",
              "    <tr>\n",
              "      <th>2</th>\n",
              "      <td>0.855777</td>\n",
              "      <td>-0.558889</td>\n",
              "      <td>1.975040</td>\n",
              "      <td>-0.282550</td>\n",
              "    </tr>\n",
              "  </tbody>\n",
              "</table>\n",
              "</div>"
            ],
            "text/plain": [
              "          0         1         2         3\n",
              "1 -2.020575 -0.482560 -0.123263  0.972051\n",
              "4 -0.219095  1.668601 -0.759743  1.278391\n",
              "2  0.855777 -0.558889  1.975040 -0.282550"
            ]
          },
          "metadata": {
            "tags": []
          },
          "execution_count": 14
        }
      ]
    },
    {
      "cell_type": "code",
      "metadata": {
        "id": "AQ7Ph86DF0TC",
        "colab_type": "code",
        "colab": {}
      },
      "source": [
        "df1 = pd.DataFrame({\"Name\":[\"Umer\",\"Bilal\",\"Ali\",\"Usman\"],\n",
        "                    \"Age\":(np.random.randn(4))}).set_index(\"Name\")"
      ],
      "execution_count": 0,
      "outputs": []
    },
    {
      "cell_type": "code",
      "metadata": {
        "id": "EFCAeWKcG-es",
        "colab_type": "code",
        "colab": {
          "base_uri": "https://localhost:8080/",
          "height": 204
        },
        "outputId": "3479191a-ba81-463d-bd71-3f20d1c00018"
      },
      "source": [
        "df1"
      ],
      "execution_count": 40,
      "outputs": [
        {
          "output_type": "execute_result",
          "data": {
            "text/html": [
              "<div>\n",
              "<style scoped>\n",
              "    .dataframe tbody tr th:only-of-type {\n",
              "        vertical-align: middle;\n",
              "    }\n",
              "\n",
              "    .dataframe tbody tr th {\n",
              "        vertical-align: top;\n",
              "    }\n",
              "\n",
              "    .dataframe thead th {\n",
              "        text-align: right;\n",
              "    }\n",
              "</style>\n",
              "<table border=\"1\" class=\"dataframe\">\n",
              "  <thead>\n",
              "    <tr style=\"text-align: right;\">\n",
              "      <th></th>\n",
              "      <th>Age</th>\n",
              "    </tr>\n",
              "    <tr>\n",
              "      <th>Name</th>\n",
              "      <th></th>\n",
              "    </tr>\n",
              "  </thead>\n",
              "  <tbody>\n",
              "    <tr>\n",
              "      <th>Umer</th>\n",
              "      <td>0.192110</td>\n",
              "    </tr>\n",
              "    <tr>\n",
              "      <th>Bilal</th>\n",
              "      <td>-1.128040</td>\n",
              "    </tr>\n",
              "    <tr>\n",
              "      <th>Ali</th>\n",
              "      <td>0.063705</td>\n",
              "    </tr>\n",
              "    <tr>\n",
              "      <th>Usman</th>\n",
              "      <td>0.242609</td>\n",
              "    </tr>\n",
              "  </tbody>\n",
              "</table>\n",
              "</div>"
            ],
            "text/plain": [
              "            Age\n",
              "Name           \n",
              "Umer   0.192110\n",
              "Bilal -1.128040\n",
              "Ali    0.063705\n",
              "Usman  0.242609"
            ]
          },
          "metadata": {
            "tags": []
          },
          "execution_count": 40
        }
      ]
    },
    {
      "cell_type": "code",
      "metadata": {
        "id": "UPA8R6mZHKuZ",
        "colab_type": "code",
        "colab": {}
      },
      "source": [
        "df2 = pd.DataFrame({\"SName\":[\"Umer\",\"Bilal\",\"Ali\",\"Hamza\"],\n",
        "                    \"Gpa\":(np.random.randn(4))}).set_index(\"SName\")"
      ],
      "execution_count": 0,
      "outputs": []
    },
    {
      "cell_type": "code",
      "metadata": {
        "id": "y9Fe3AubH1fy",
        "colab_type": "code",
        "colab": {
          "base_uri": "https://localhost:8080/",
          "height": 204
        },
        "outputId": "4af007e1-86d2-4b57-f8fa-e1ba45735e00"
      },
      "source": [
        "df2"
      ],
      "execution_count": 42,
      "outputs": [
        {
          "output_type": "execute_result",
          "data": {
            "text/html": [
              "<div>\n",
              "<style scoped>\n",
              "    .dataframe tbody tr th:only-of-type {\n",
              "        vertical-align: middle;\n",
              "    }\n",
              "\n",
              "    .dataframe tbody tr th {\n",
              "        vertical-align: top;\n",
              "    }\n",
              "\n",
              "    .dataframe thead th {\n",
              "        text-align: right;\n",
              "    }\n",
              "</style>\n",
              "<table border=\"1\" class=\"dataframe\">\n",
              "  <thead>\n",
              "    <tr style=\"text-align: right;\">\n",
              "      <th></th>\n",
              "      <th>Gpa</th>\n",
              "    </tr>\n",
              "    <tr>\n",
              "      <th>SName</th>\n",
              "      <th></th>\n",
              "    </tr>\n",
              "  </thead>\n",
              "  <tbody>\n",
              "    <tr>\n",
              "      <th>Umer</th>\n",
              "      <td>-1.652124</td>\n",
              "    </tr>\n",
              "    <tr>\n",
              "      <th>Bilal</th>\n",
              "      <td>-0.153413</td>\n",
              "    </tr>\n",
              "    <tr>\n",
              "      <th>Ali</th>\n",
              "      <td>-0.263506</td>\n",
              "    </tr>\n",
              "    <tr>\n",
              "      <th>Hamza</th>\n",
              "      <td>-0.179645</td>\n",
              "    </tr>\n",
              "  </tbody>\n",
              "</table>\n",
              "</div>"
            ],
            "text/plain": [
              "            Gpa\n",
              "SName          \n",
              "Umer  -1.652124\n",
              "Bilal -0.153413\n",
              "Ali   -0.263506\n",
              "Hamza -0.179645"
            ]
          },
          "metadata": {
            "tags": []
          },
          "execution_count": 42
        }
      ]
    },
    {
      "cell_type": "code",
      "metadata": {
        "id": "n6gOuL6BH28S",
        "colab_type": "code",
        "colab": {
          "base_uri": "https://localhost:8080/",
          "height": 204
        },
        "outputId": "dc336599-0b3c-48a5-c345-bf8907cd5555"
      },
      "source": [
        "df1.join(df2)"
      ],
      "execution_count": 43,
      "outputs": [
        {
          "output_type": "execute_result",
          "data": {
            "text/html": [
              "<div>\n",
              "<style scoped>\n",
              "    .dataframe tbody tr th:only-of-type {\n",
              "        vertical-align: middle;\n",
              "    }\n",
              "\n",
              "    .dataframe tbody tr th {\n",
              "        vertical-align: top;\n",
              "    }\n",
              "\n",
              "    .dataframe thead th {\n",
              "        text-align: right;\n",
              "    }\n",
              "</style>\n",
              "<table border=\"1\" class=\"dataframe\">\n",
              "  <thead>\n",
              "    <tr style=\"text-align: right;\">\n",
              "      <th></th>\n",
              "      <th>Age</th>\n",
              "      <th>Gpa</th>\n",
              "    </tr>\n",
              "    <tr>\n",
              "      <th>Name</th>\n",
              "      <th></th>\n",
              "      <th></th>\n",
              "    </tr>\n",
              "  </thead>\n",
              "  <tbody>\n",
              "    <tr>\n",
              "      <th>Umer</th>\n",
              "      <td>0.192110</td>\n",
              "      <td>-1.652124</td>\n",
              "    </tr>\n",
              "    <tr>\n",
              "      <th>Bilal</th>\n",
              "      <td>-1.128040</td>\n",
              "      <td>-0.153413</td>\n",
              "    </tr>\n",
              "    <tr>\n",
              "      <th>Ali</th>\n",
              "      <td>0.063705</td>\n",
              "      <td>-0.263506</td>\n",
              "    </tr>\n",
              "    <tr>\n",
              "      <th>Usman</th>\n",
              "      <td>0.242609</td>\n",
              "      <td>NaN</td>\n",
              "    </tr>\n",
              "  </tbody>\n",
              "</table>\n",
              "</div>"
            ],
            "text/plain": [
              "            Age       Gpa\n",
              "Name                     \n",
              "Umer   0.192110 -1.652124\n",
              "Bilal -1.128040 -0.153413\n",
              "Ali    0.063705 -0.263506\n",
              "Usman  0.242609       NaN"
            ]
          },
          "metadata": {
            "tags": []
          },
          "execution_count": 43
        }
      ]
    },
    {
      "cell_type": "code",
      "metadata": {
        "id": "Kjw_x8dCJTJ2",
        "colab_type": "code",
        "colab": {
          "base_uri": "https://localhost:8080/",
          "height": 204
        },
        "outputId": "2af77966-447f-4ce7-ee78-a0e85b09726d"
      },
      "source": [
        "df2.join(df1)"
      ],
      "execution_count": 44,
      "outputs": [
        {
          "output_type": "execute_result",
          "data": {
            "text/html": [
              "<div>\n",
              "<style scoped>\n",
              "    .dataframe tbody tr th:only-of-type {\n",
              "        vertical-align: middle;\n",
              "    }\n",
              "\n",
              "    .dataframe tbody tr th {\n",
              "        vertical-align: top;\n",
              "    }\n",
              "\n",
              "    .dataframe thead th {\n",
              "        text-align: right;\n",
              "    }\n",
              "</style>\n",
              "<table border=\"1\" class=\"dataframe\">\n",
              "  <thead>\n",
              "    <tr style=\"text-align: right;\">\n",
              "      <th></th>\n",
              "      <th>Gpa</th>\n",
              "      <th>Age</th>\n",
              "    </tr>\n",
              "    <tr>\n",
              "      <th>SName</th>\n",
              "      <th></th>\n",
              "      <th></th>\n",
              "    </tr>\n",
              "  </thead>\n",
              "  <tbody>\n",
              "    <tr>\n",
              "      <th>Umer</th>\n",
              "      <td>-1.652124</td>\n",
              "      <td>0.192110</td>\n",
              "    </tr>\n",
              "    <tr>\n",
              "      <th>Bilal</th>\n",
              "      <td>-0.153413</td>\n",
              "      <td>-1.128040</td>\n",
              "    </tr>\n",
              "    <tr>\n",
              "      <th>Ali</th>\n",
              "      <td>-0.263506</td>\n",
              "      <td>0.063705</td>\n",
              "    </tr>\n",
              "    <tr>\n",
              "      <th>Hamza</th>\n",
              "      <td>-0.179645</td>\n",
              "      <td>NaN</td>\n",
              "    </tr>\n",
              "  </tbody>\n",
              "</table>\n",
              "</div>"
            ],
            "text/plain": [
              "            Gpa       Age\n",
              "SName                    \n",
              "Umer  -1.652124  0.192110\n",
              "Bilal -0.153413 -1.128040\n",
              "Ali   -0.263506  0.063705\n",
              "Hamza -0.179645       NaN"
            ]
          },
          "metadata": {
            "tags": []
          },
          "execution_count": 44
        }
      ]
    },
    {
      "cell_type": "code",
      "metadata": {
        "id": "SccTCRp5Ke31",
        "colab_type": "code",
        "colab": {}
      },
      "source": [
        "a = pd.Series([23,34,56,78] , index = [\"b\", \"d\", \"a\", \"c\"])\n",
        "b = pd.Series([44,67,89,90])"
      ],
      "execution_count": 0,
      "outputs": []
    },
    {
      "cell_type": "code",
      "metadata": {
        "id": "H1Z-V-TZMsFG",
        "colab_type": "code",
        "colab": {}
      },
      "source": [
        "x = pd.concat([a , b] , sort = True , axis = 1)"
      ],
      "execution_count": 0,
      "outputs": []
    },
    {
      "cell_type": "code",
      "metadata": {
        "id": "kxDuIGyONA48",
        "colab_type": "code",
        "colab": {
          "base_uri": "https://localhost:8080/",
          "height": 297
        },
        "outputId": "9b96f1ae-ab58-4a8b-9375-a122ab8480f0"
      },
      "source": [
        "x"
      ],
      "execution_count": 52,
      "outputs": [
        {
          "output_type": "execute_result",
          "data": {
            "text/html": [
              "<div>\n",
              "<style scoped>\n",
              "    .dataframe tbody tr th:only-of-type {\n",
              "        vertical-align: middle;\n",
              "    }\n",
              "\n",
              "    .dataframe tbody tr th {\n",
              "        vertical-align: top;\n",
              "    }\n",
              "\n",
              "    .dataframe thead th {\n",
              "        text-align: right;\n",
              "    }\n",
              "</style>\n",
              "<table border=\"1\" class=\"dataframe\">\n",
              "  <thead>\n",
              "    <tr style=\"text-align: right;\">\n",
              "      <th></th>\n",
              "      <th>0</th>\n",
              "      <th>1</th>\n",
              "    </tr>\n",
              "  </thead>\n",
              "  <tbody>\n",
              "    <tr>\n",
              "      <th>0</th>\n",
              "      <td>NaN</td>\n",
              "      <td>44.0</td>\n",
              "    </tr>\n",
              "    <tr>\n",
              "      <th>1</th>\n",
              "      <td>NaN</td>\n",
              "      <td>67.0</td>\n",
              "    </tr>\n",
              "    <tr>\n",
              "      <th>2</th>\n",
              "      <td>NaN</td>\n",
              "      <td>89.0</td>\n",
              "    </tr>\n",
              "    <tr>\n",
              "      <th>3</th>\n",
              "      <td>NaN</td>\n",
              "      <td>90.0</td>\n",
              "    </tr>\n",
              "    <tr>\n",
              "      <th>a</th>\n",
              "      <td>56.0</td>\n",
              "      <td>NaN</td>\n",
              "    </tr>\n",
              "    <tr>\n",
              "      <th>b</th>\n",
              "      <td>23.0</td>\n",
              "      <td>NaN</td>\n",
              "    </tr>\n",
              "    <tr>\n",
              "      <th>c</th>\n",
              "      <td>78.0</td>\n",
              "      <td>NaN</td>\n",
              "    </tr>\n",
              "    <tr>\n",
              "      <th>d</th>\n",
              "      <td>34.0</td>\n",
              "      <td>NaN</td>\n",
              "    </tr>\n",
              "  </tbody>\n",
              "</table>\n",
              "</div>"
            ],
            "text/plain": [
              "      0     1\n",
              "0   NaN  44.0\n",
              "1   NaN  67.0\n",
              "2   NaN  89.0\n",
              "3   NaN  90.0\n",
              "a  56.0   NaN\n",
              "b  23.0   NaN\n",
              "c  78.0   NaN\n",
              "d  34.0   NaN"
            ]
          },
          "metadata": {
            "tags": []
          },
          "execution_count": 52
        }
      ]
    },
    {
      "cell_type": "code",
      "metadata": {
        "id": "41tUkdOZLDmq",
        "colab_type": "code",
        "colab": {
          "base_uri": "https://localhost:8080/",
          "height": 297
        },
        "outputId": "dec79498-70b7-40fa-8243-062690ef2397"
      },
      "source": [
        "pd.concat([df1 , df2] , sort = True)"
      ],
      "execution_count": 47,
      "outputs": [
        {
          "output_type": "execute_result",
          "data": {
            "text/html": [
              "<div>\n",
              "<style scoped>\n",
              "    .dataframe tbody tr th:only-of-type {\n",
              "        vertical-align: middle;\n",
              "    }\n",
              "\n",
              "    .dataframe tbody tr th {\n",
              "        vertical-align: top;\n",
              "    }\n",
              "\n",
              "    .dataframe thead th {\n",
              "        text-align: right;\n",
              "    }\n",
              "</style>\n",
              "<table border=\"1\" class=\"dataframe\">\n",
              "  <thead>\n",
              "    <tr style=\"text-align: right;\">\n",
              "      <th></th>\n",
              "      <th>Age</th>\n",
              "      <th>Gpa</th>\n",
              "    </tr>\n",
              "  </thead>\n",
              "  <tbody>\n",
              "    <tr>\n",
              "      <th>Umer</th>\n",
              "      <td>0.192110</td>\n",
              "      <td>NaN</td>\n",
              "    </tr>\n",
              "    <tr>\n",
              "      <th>Bilal</th>\n",
              "      <td>-1.128040</td>\n",
              "      <td>NaN</td>\n",
              "    </tr>\n",
              "    <tr>\n",
              "      <th>Ali</th>\n",
              "      <td>0.063705</td>\n",
              "      <td>NaN</td>\n",
              "    </tr>\n",
              "    <tr>\n",
              "      <th>Usman</th>\n",
              "      <td>0.242609</td>\n",
              "      <td>NaN</td>\n",
              "    </tr>\n",
              "    <tr>\n",
              "      <th>Umer</th>\n",
              "      <td>NaN</td>\n",
              "      <td>-1.652124</td>\n",
              "    </tr>\n",
              "    <tr>\n",
              "      <th>Bilal</th>\n",
              "      <td>NaN</td>\n",
              "      <td>-0.153413</td>\n",
              "    </tr>\n",
              "    <tr>\n",
              "      <th>Ali</th>\n",
              "      <td>NaN</td>\n",
              "      <td>-0.263506</td>\n",
              "    </tr>\n",
              "    <tr>\n",
              "      <th>Hamza</th>\n",
              "      <td>NaN</td>\n",
              "      <td>-0.179645</td>\n",
              "    </tr>\n",
              "  </tbody>\n",
              "</table>\n",
              "</div>"
            ],
            "text/plain": [
              "            Age       Gpa\n",
              "Umer   0.192110       NaN\n",
              "Bilal -1.128040       NaN\n",
              "Ali    0.063705       NaN\n",
              "Usman  0.242609       NaN\n",
              "Umer        NaN -1.652124\n",
              "Bilal       NaN -0.153413\n",
              "Ali         NaN -0.263506\n",
              "Hamza       NaN -0.179645"
            ]
          },
          "metadata": {
            "tags": []
          },
          "execution_count": 47
        }
      ]
    },
    {
      "cell_type": "markdown",
      "metadata": {
        "id": "XtWhTwJ-OVyi",
        "colab_type": "text"
      },
      "source": [
        "# Heirarchical Indexing"
      ]
    },
    {
      "cell_type": "code",
      "metadata": {
        "id": "VZvkf4KrOcZE",
        "colab_type": "code",
        "colab": {}
      },
      "source": [
        "df = pd.Series(np.random.randn(10),\n",
        "               index = [[\"Karachi\",\"Karachi\"\n",
        "               ,\"Karachi\",\"Karachi\",\n",
        "               \"lahore\",\"lahore\",\"lahore\",\n",
        "               \"Islamabad\",\"Peshawar\" , \"Peshawar\"],\n",
        "               [\"Dhoraji\" , \"Sharfabad\" ,\"Tariq Road\" , \"Defence\" ,\n",
        "                \"Gulberg\",\"Iqbal Road\", \"Model Town\",\n",
        "                \"F-9\", \"Khyber\" , \"Qissa Khuwani Bazar\"]])"
      ],
      "execution_count": 0,
      "outputs": []
    },
    {
      "cell_type": "code",
      "metadata": {
        "id": "n3Ay-AZwPmxB",
        "colab_type": "code",
        "colab": {
          "base_uri": "https://localhost:8080/",
          "height": 204
        },
        "outputId": "67ea5b2f-2b10-4264-829f-f5fc4ae0102c"
      },
      "source": [
        "df"
      ],
      "execution_count": 57,
      "outputs": [
        {
          "output_type": "execute_result",
          "data": {
            "text/plain": [
              "Karachi    Dhoraji                1.207977\n",
              "           Sharfabad             -0.362526\n",
              "           Tariq Road            -0.435497\n",
              "           Defence                1.252113\n",
              "lahore     Gulberg               -0.251263\n",
              "           Iqbal Road             0.507027\n",
              "           Model Town            -1.095538\n",
              "Islamabad  F-9                    0.421213\n",
              "Peshawar   Khyber                 0.419493\n",
              "           Qissa Khuwani Bazar    0.621943\n",
              "dtype: float64"
            ]
          },
          "metadata": {
            "tags": []
          },
          "execution_count": 57
        }
      ]
    },
    {
      "cell_type": "code",
      "metadata": {
        "id": "0Q_Fug93P6R1",
        "colab_type": "code",
        "colab": {
          "base_uri": "https://localhost:8080/",
          "height": 102
        },
        "outputId": "c834a85d-2dad-49f0-e811-ae2047586688"
      },
      "source": [
        "df[\"Karachi\"]"
      ],
      "execution_count": 58,
      "outputs": [
        {
          "output_type": "execute_result",
          "data": {
            "text/plain": [
              "Dhoraji       1.207977\n",
              "Sharfabad    -0.362526\n",
              "Tariq Road   -0.435497\n",
              "Defence       1.252113\n",
              "dtype: float64"
            ]
          },
          "metadata": {
            "tags": []
          },
          "execution_count": 58
        }
      ]
    },
    {
      "cell_type": "code",
      "metadata": {
        "id": "jKFHB6XIQJOz",
        "colab_type": "code",
        "colab": {
          "base_uri": "https://localhost:8080/",
          "height": 85
        },
        "outputId": "f8c3f9eb-5eb3-4845-a15c-d4f6f4d9251c"
      },
      "source": [
        "df[\"Karachi\"].iloc[1:]"
      ],
      "execution_count": 60,
      "outputs": [
        {
          "output_type": "execute_result",
          "data": {
            "text/plain": [
              "Sharfabad    -0.362526\n",
              "Tariq Road   -0.435497\n",
              "Defence       1.252113\n",
              "dtype: float64"
            ]
          },
          "metadata": {
            "tags": []
          },
          "execution_count": 60
        }
      ]
    },
    {
      "cell_type": "code",
      "metadata": {
        "id": "Cg4l5zJ4RS6j",
        "colab_type": "code",
        "colab": {
          "base_uri": "https://localhost:8080/",
          "height": 68
        },
        "outputId": "325788e3-fb76-4c7e-e50e-65ec4d6fc049"
      },
      "source": [
        "df[\"Karachi\"].iloc[[1,3]]"
      ],
      "execution_count": 61,
      "outputs": [
        {
          "output_type": "execute_result",
          "data": {
            "text/plain": [
              "Sharfabad   -0.362526\n",
              "Defence      1.252113\n",
              "dtype: float64"
            ]
          },
          "metadata": {
            "tags": []
          },
          "execution_count": 61
        }
      ]
    },
    {
      "cell_type": "code",
      "metadata": {
        "id": "mzA51PySPthk",
        "colab_type": "code",
        "colab": {
          "base_uri": "https://localhost:8080/",
          "height": 173
        },
        "outputId": "c563cc48-54a2-48c2-d95a-c723d43b589e"
      },
      "source": [
        "df.unstack()"
      ],
      "execution_count": 62,
      "outputs": [
        {
          "output_type": "execute_result",
          "data": {
            "text/html": [
              "<div>\n",
              "<style scoped>\n",
              "    .dataframe tbody tr th:only-of-type {\n",
              "        vertical-align: middle;\n",
              "    }\n",
              "\n",
              "    .dataframe tbody tr th {\n",
              "        vertical-align: top;\n",
              "    }\n",
              "\n",
              "    .dataframe thead th {\n",
              "        text-align: right;\n",
              "    }\n",
              "</style>\n",
              "<table border=\"1\" class=\"dataframe\">\n",
              "  <thead>\n",
              "    <tr style=\"text-align: right;\">\n",
              "      <th></th>\n",
              "      <th>Defence</th>\n",
              "      <th>Dhoraji</th>\n",
              "      <th>F-9</th>\n",
              "      <th>Gulberg</th>\n",
              "      <th>Iqbal Road</th>\n",
              "      <th>Khyber</th>\n",
              "      <th>Model Town</th>\n",
              "      <th>Qissa Khuwani Bazar</th>\n",
              "      <th>Sharfabad</th>\n",
              "      <th>Tariq Road</th>\n",
              "    </tr>\n",
              "  </thead>\n",
              "  <tbody>\n",
              "    <tr>\n",
              "      <th>Islamabad</th>\n",
              "      <td>NaN</td>\n",
              "      <td>NaN</td>\n",
              "      <td>0.421213</td>\n",
              "      <td>NaN</td>\n",
              "      <td>NaN</td>\n",
              "      <td>NaN</td>\n",
              "      <td>NaN</td>\n",
              "      <td>NaN</td>\n",
              "      <td>NaN</td>\n",
              "      <td>NaN</td>\n",
              "    </tr>\n",
              "    <tr>\n",
              "      <th>Karachi</th>\n",
              "      <td>1.252113</td>\n",
              "      <td>1.207977</td>\n",
              "      <td>NaN</td>\n",
              "      <td>NaN</td>\n",
              "      <td>NaN</td>\n",
              "      <td>NaN</td>\n",
              "      <td>NaN</td>\n",
              "      <td>NaN</td>\n",
              "      <td>-0.362526</td>\n",
              "      <td>-0.435497</td>\n",
              "    </tr>\n",
              "    <tr>\n",
              "      <th>Peshawar</th>\n",
              "      <td>NaN</td>\n",
              "      <td>NaN</td>\n",
              "      <td>NaN</td>\n",
              "      <td>NaN</td>\n",
              "      <td>NaN</td>\n",
              "      <td>0.419493</td>\n",
              "      <td>NaN</td>\n",
              "      <td>0.621943</td>\n",
              "      <td>NaN</td>\n",
              "      <td>NaN</td>\n",
              "    </tr>\n",
              "    <tr>\n",
              "      <th>lahore</th>\n",
              "      <td>NaN</td>\n",
              "      <td>NaN</td>\n",
              "      <td>NaN</td>\n",
              "      <td>-0.251263</td>\n",
              "      <td>0.507027</td>\n",
              "      <td>NaN</td>\n",
              "      <td>-1.095538</td>\n",
              "      <td>NaN</td>\n",
              "      <td>NaN</td>\n",
              "      <td>NaN</td>\n",
              "    </tr>\n",
              "  </tbody>\n",
              "</table>\n",
              "</div>"
            ],
            "text/plain": [
              "            Defence   Dhoraji  ...  Sharfabad  Tariq Road\n",
              "Islamabad       NaN       NaN  ...        NaN         NaN\n",
              "Karachi    1.252113  1.207977  ...  -0.362526   -0.435497\n",
              "Peshawar        NaN       NaN  ...        NaN         NaN\n",
              "lahore          NaN       NaN  ...        NaN         NaN\n",
              "\n",
              "[4 rows x 10 columns]"
            ]
          },
          "metadata": {
            "tags": []
          },
          "execution_count": 62
        }
      ]
    },
    {
      "cell_type": "code",
      "metadata": {
        "id": "p-l4UJ--P1ZW",
        "colab_type": "code",
        "colab": {
          "base_uri": "https://localhost:8080/",
          "height": 204
        },
        "outputId": "72cb820e-772e-4d8c-ac8d-bdc91c0ee3e1"
      },
      "source": [
        "df.unstack().stack()"
      ],
      "execution_count": 63,
      "outputs": [
        {
          "output_type": "execute_result",
          "data": {
            "text/plain": [
              "Islamabad  F-9                    0.421213\n",
              "Karachi    Defence                1.252113\n",
              "           Dhoraji                1.207977\n",
              "           Sharfabad             -0.362526\n",
              "           Tariq Road            -0.435497\n",
              "Peshawar   Khyber                 0.419493\n",
              "           Qissa Khuwani Bazar    0.621943\n",
              "lahore     Gulberg               -0.251263\n",
              "           Iqbal Road             0.507027\n",
              "           Model Town            -1.095538\n",
              "dtype: float64"
            ]
          },
          "metadata": {
            "tags": []
          },
          "execution_count": 63
        }
      ]
    },
    {
      "cell_type": "code",
      "metadata": {
        "id": "qGruUyUgQMb-",
        "colab_type": "code",
        "colab": {}
      },
      "source": [
        "df.index.names = [\"City\" , \"Area\"]"
      ],
      "execution_count": 0,
      "outputs": []
    },
    {
      "cell_type": "code",
      "metadata": {
        "id": "EtLD-QEtTcpO",
        "colab_type": "code",
        "colab": {
          "base_uri": "https://localhost:8080/",
          "height": 221
        },
        "outputId": "bcb25ebf-2d9e-4b6a-b0a6-50f39facf907"
      },
      "source": [
        "df"
      ],
      "execution_count": 65,
      "outputs": [
        {
          "output_type": "execute_result",
          "data": {
            "text/plain": [
              "City       Area               \n",
              "Karachi    Dhoraji                1.207977\n",
              "           Sharfabad             -0.362526\n",
              "           Tariq Road            -0.435497\n",
              "           Defence                1.252113\n",
              "lahore     Gulberg               -0.251263\n",
              "           Iqbal Road             0.507027\n",
              "           Model Town            -1.095538\n",
              "Islamabad  F-9                    0.421213\n",
              "Peshawar   Khyber                 0.419493\n",
              "           Qissa Khuwani Bazar    0.621943\n",
              "dtype: float64"
            ]
          },
          "metadata": {
            "tags": []
          },
          "execution_count": 65
        }
      ]
    },
    {
      "cell_type": "code",
      "metadata": {
        "id": "b3s_wnPVTdge",
        "colab_type": "code",
        "colab": {
          "base_uri": "https://localhost:8080/",
          "height": 221
        },
        "outputId": "1a607dd2-66ff-481c-f474-9099ab0d83c9"
      },
      "source": [
        "df.swaplevel(\"City\" , \"Area\")"
      ],
      "execution_count": 66,
      "outputs": [
        {
          "output_type": "execute_result",
          "data": {
            "text/plain": [
              "Area                 City     \n",
              "Dhoraji              Karachi      1.207977\n",
              "Sharfabad            Karachi     -0.362526\n",
              "Tariq Road           Karachi     -0.435497\n",
              "Defence              Karachi      1.252113\n",
              "Gulberg              lahore      -0.251263\n",
              "Iqbal Road           lahore       0.507027\n",
              "Model Town           lahore      -1.095538\n",
              "F-9                  Islamabad    0.421213\n",
              "Khyber               Peshawar     0.419493\n",
              "Qissa Khuwani Bazar  Peshawar     0.621943\n",
              "dtype: float64"
            ]
          },
          "metadata": {
            "tags": []
          },
          "execution_count": 66
        }
      ]
    },
    {
      "cell_type": "code",
      "metadata": {
        "id": "8ZhpV-bRUyZt",
        "colab_type": "code",
        "colab": {}
      },
      "source": [
        ""
      ],
      "execution_count": 0,
      "outputs": []
    }
  ]
}