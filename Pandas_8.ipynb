{
  "nbformat": 4,
  "nbformat_minor": 0,
  "metadata": {
    "colab": {
      "name": "Pandas_8.ipynb",
      "provenance": [],
      "include_colab_link": true
    },
    "kernelspec": {
      "name": "python3",
      "display_name": "Python 3"
    }
  },
  "cells": [
    {
      "cell_type": "markdown",
      "metadata": {
        "id": "view-in-github",
        "colab_type": "text"
      },
      "source": [
        "<a href=\"https://colab.research.google.com/github/MuhammadHamzaAfzal/Python_Class_Work_jz/blob/master/Pandas_8.ipynb\" target=\"_parent\"><img src=\"https://colab.research.google.com/assets/colab-badge.svg\" alt=\"Open In Colab\"/></a>"
      ]
    },
    {
      "cell_type": "markdown",
      "metadata": {
        "id": "VoCb0JXngBng",
        "colab_type": "text"
      },
      "source": [
        "# Chapter 8"
      ]
    },
    {
      "cell_type": "code",
      "metadata": {
        "id": "PZ-yDix6gyuP",
        "colab_type": "code",
        "colab": {}
      },
      "source": [
        "import pandas as pd\n",
        "import numpy as np"
      ],
      "execution_count": 0,
      "outputs": []
    },
    {
      "cell_type": "code",
      "metadata": {
        "id": "XvtM13aCgFAh",
        "colab_type": "code",
        "colab": {}
      },
      "source": [
        "age = [20,22,26,27,21,55,41,67]\n",
        "bins = [15,22,35,45,55,70]\n",
        "c = pd.cut(age , bins)"
      ],
      "execution_count": 0,
      "outputs": []
    },
    {
      "cell_type": "code",
      "metadata": {
        "id": "uHkIGBHdgYBK",
        "colab_type": "code",
        "colab": {
          "base_uri": "https://localhost:8080/",
          "height": 51
        },
        "outputId": "1aa38ea5-f7e5-425d-931b-96186fe8373c"
      },
      "source": [
        "c"
      ],
      "execution_count": 6,
      "outputs": [
        {
          "output_type": "execute_result",
          "data": {
            "text/plain": [
              "[(15, 22], (15, 22], (22, 35], (22, 35], (15, 22], (45, 55], (35, 45], (55, 70]]\n",
              "Categories (5, interval[int64]): [(15, 22] < (22, 35] < (35, 45] < (45, 55] < (55, 70]]"
            ]
          },
          "metadata": {
            "tags": []
          },
          "execution_count": 6
        }
      ]
    },
    {
      "cell_type": "code",
      "metadata": {
        "id": "UIA07q1EgZHw",
        "colab_type": "code",
        "colab": {
          "base_uri": "https://localhost:8080/",
          "height": 34
        },
        "outputId": "ea48ca39-206f-4dfb-d9e2-ec978d9e8331"
      },
      "source": [
        "c.codes"
      ],
      "execution_count": 7,
      "outputs": [
        {
          "output_type": "execute_result",
          "data": {
            "text/plain": [
              "array([0, 0, 1, 1, 0, 3, 2, 4], dtype=int8)"
            ]
          },
          "metadata": {
            "tags": []
          },
          "execution_count": 7
        }
      ]
    },
    {
      "cell_type": "code",
      "metadata": {
        "id": "ux7a5KEtg5Ww",
        "colab_type": "code",
        "colab": {}
      },
      "source": [
        "marks=[77,60,50,80,75,65,92]\n",
        "grades=[60,70,80,90]\n",
        "c=pd.cut(marks , grades)"
      ],
      "execution_count": 0,
      "outputs": []
    },
    {
      "cell_type": "code",
      "metadata": {
        "id": "xnYnRCkdhz5I",
        "colab_type": "code",
        "colab": {
          "base_uri": "https://localhost:8080/",
          "height": 51
        },
        "outputId": "7ba598f2-e350-459d-be64-b7f503f0b6fd"
      },
      "source": [
        "c"
      ],
      "execution_count": 11,
      "outputs": [
        {
          "output_type": "execute_result",
          "data": {
            "text/plain": [
              "[(70.0, 80.0], NaN, NaN, (70.0, 80.0], (70.0, 80.0], (60.0, 70.0], NaN]\n",
              "Categories (3, interval[int64]): [(60, 70] < (70, 80] < (80, 90]]"
            ]
          },
          "metadata": {
            "tags": []
          },
          "execution_count": 11
        }
      ]
    },
    {
      "cell_type": "code",
      "metadata": {
        "id": "cZGu8quLh07o",
        "colab_type": "code",
        "colab": {}
      },
      "source": [
        "marks = [65,75,65,80,91,53]\n",
        "grade = [0,60,70,80,90,100]\n",
        "cats = pd.cut(marks , grade)"
      ],
      "execution_count": 0,
      "outputs": []
    },
    {
      "cell_type": "code",
      "metadata": {
        "id": "G6V4YYzGiQTg",
        "colab_type": "code",
        "colab": {}
      },
      "source": [
        "lst = np.array([\"F\",\"C\",\"B\",\"A\",\"A+\"])\n"
      ],
      "execution_count": 0,
      "outputs": []
    },
    {
      "cell_type": "code",
      "metadata": {
        "id": "if6E0hGjiq1Y",
        "colab_type": "code",
        "colab": {
          "base_uri": "https://localhost:8080/",
          "height": 34
        },
        "outputId": "695e3c09-9be4-4b2f-a316-370b867e6a32"
      },
      "source": [
        "lst[cats.codes]"
      ],
      "execution_count": 16,
      "outputs": [
        {
          "output_type": "execute_result",
          "data": {
            "text/plain": [
              "array(['C', 'B', 'C', 'B', 'A+', 'F'], dtype='<U2')"
            ]
          },
          "metadata": {
            "tags": []
          },
          "execution_count": 16
        }
      ]
    },
    {
      "cell_type": "code",
      "metadata": {
        "id": "iArqaZ-MjR7o",
        "colab_type": "code",
        "colab": {
          "base_uri": "https://localhost:8080/",
          "height": 68
        },
        "outputId": "0721d1b6-f0a6-44bb-c8fd-712908e79895"
      },
      "source": [
        "data = [50,120,70,80,65,75,95,99,100,102]\n",
        "bp = [0,60,80,90,100,120]\n",
        "bins = pd.cut(data , bp)\n",
        "state=np.array([\"low\",\"Normal\",\"Pre-Hypertension\",\"Grade I Hypertension\",\"Grade II Hypertension\"])\n",
        "state[bins.codes]"
      ],
      "execution_count": 19,
      "outputs": [
        {
          "output_type": "execute_result",
          "data": {
            "text/plain": [
              "array(['low', 'Grade II Hypertension', 'Normal', 'Normal', 'Normal',\n",
              "       'Normal', 'Grade I Hypertension', 'Grade I Hypertension',\n",
              "       'Grade I Hypertension', 'Grade II Hypertension'], dtype='<U21')"
            ]
          },
          "metadata": {
            "tags": []
          },
          "execution_count": 19
        }
      ]
    },
    {
      "cell_type": "code",
      "metadata": {
        "id": "a3e5FseqlgvA",
        "colab_type": "code",
        "colab": {}
      },
      "source": [
        ""
      ],
      "execution_count": 0,
      "outputs": []
    }
  ]
}