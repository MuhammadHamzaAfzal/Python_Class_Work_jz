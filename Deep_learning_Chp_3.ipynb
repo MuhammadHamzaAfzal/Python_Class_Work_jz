{
  "nbformat": 4,
  "nbformat_minor": 0,
  "metadata": {
    "kernelspec": {
      "display_name": "Python 3",
      "language": "python",
      "name": "python3"
    },
    "language_info": {
      "codemirror_mode": {
        "name": "ipython",
        "version": 3
      },
      "file_extension": ".py",
      "mimetype": "text/x-python",
      "name": "python",
      "nbconvert_exporter": "python",
      "pygments_lexer": "ipython3",
      "version": "3.7.3"
    },
    "colab": {
      "name": "Deep learning Chp 3.ipynb",
      "provenance": [],
      "collapsed_sections": [],
      "include_colab_link": true
    }
  },
  "cells": [
    {
      "cell_type": "markdown",
      "metadata": {
        "id": "view-in-github",
        "colab_type": "text"
      },
      "source": [
        "<a href=\"https://colab.research.google.com/github/MuhammadHamzaAfzal/Python_Class_Work_jz/blob/master/Deep_learning_Chp_3.ipynb\" target=\"_parent\"><img src=\"https://colab.research.google.com/assets/colab-badge.svg\" alt=\"Open In Colab\"/></a>"
      ]
    },
    {
      "cell_type": "markdown",
      "metadata": {
        "id": "REOW_EV0zcIN",
        "colab_type": "text"
      },
      "source": [
        "# Imbd DataSet/ Text Processing"
      ]
    },
    {
      "cell_type": "code",
      "metadata": {
        "id": "DggC1DbWzcIP",
        "colab_type": "code",
        "colab": {
          "base_uri": "https://localhost:8080/",
          "height": 51
        },
        "outputId": "b023ec7e-da24-4622-9906-967f57bbb7cb"
      },
      "source": [
        "from tensorflow.keras.datasets import imdb\n",
        "(train_data, train_labels), (test_data, test_labels) = imdb.load_data(num_words=10000)"
      ],
      "execution_count": 1,
      "outputs": [
        {
          "output_type": "stream",
          "text": [
            "Downloading data from https://storage.googleapis.com/tensorflow/tf-keras-datasets/imdb.npz\n",
            "17465344/17464789 [==============================] - 0s 0us/step\n"
          ],
          "name": "stdout"
        }
      ]
    },
    {
      "cell_type": "code",
      "metadata": {
        "id": "IHDKJupdzcIX",
        "colab_type": "code",
        "colab": {
          "base_uri": "https://localhost:8080/",
          "height": 1000
        },
        "outputId": "76feba37-29f6-4319-af5b-d6e6e3d81a50"
      },
      "source": [
        " train_data[0]"
      ],
      "execution_count": 2,
      "outputs": [
        {
          "output_type": "execute_result",
          "data": {
            "text/plain": [
              "[1,\n",
              " 14,\n",
              " 22,\n",
              " 16,\n",
              " 43,\n",
              " 530,\n",
              " 973,\n",
              " 1622,\n",
              " 1385,\n",
              " 65,\n",
              " 458,\n",
              " 4468,\n",
              " 66,\n",
              " 3941,\n",
              " 4,\n",
              " 173,\n",
              " 36,\n",
              " 256,\n",
              " 5,\n",
              " 25,\n",
              " 100,\n",
              " 43,\n",
              " 838,\n",
              " 112,\n",
              " 50,\n",
              " 670,\n",
              " 2,\n",
              " 9,\n",
              " 35,\n",
              " 480,\n",
              " 284,\n",
              " 5,\n",
              " 150,\n",
              " 4,\n",
              " 172,\n",
              " 112,\n",
              " 167,\n",
              " 2,\n",
              " 336,\n",
              " 385,\n",
              " 39,\n",
              " 4,\n",
              " 172,\n",
              " 4536,\n",
              " 1111,\n",
              " 17,\n",
              " 546,\n",
              " 38,\n",
              " 13,\n",
              " 447,\n",
              " 4,\n",
              " 192,\n",
              " 50,\n",
              " 16,\n",
              " 6,\n",
              " 147,\n",
              " 2025,\n",
              " 19,\n",
              " 14,\n",
              " 22,\n",
              " 4,\n",
              " 1920,\n",
              " 4613,\n",
              " 469,\n",
              " 4,\n",
              " 22,\n",
              " 71,\n",
              " 87,\n",
              " 12,\n",
              " 16,\n",
              " 43,\n",
              " 530,\n",
              " 38,\n",
              " 76,\n",
              " 15,\n",
              " 13,\n",
              " 1247,\n",
              " 4,\n",
              " 22,\n",
              " 17,\n",
              " 515,\n",
              " 17,\n",
              " 12,\n",
              " 16,\n",
              " 626,\n",
              " 18,\n",
              " 2,\n",
              " 5,\n",
              " 62,\n",
              " 386,\n",
              " 12,\n",
              " 8,\n",
              " 316,\n",
              " 8,\n",
              " 106,\n",
              " 5,\n",
              " 4,\n",
              " 2223,\n",
              " 5244,\n",
              " 16,\n",
              " 480,\n",
              " 66,\n",
              " 3785,\n",
              " 33,\n",
              " 4,\n",
              " 130,\n",
              " 12,\n",
              " 16,\n",
              " 38,\n",
              " 619,\n",
              " 5,\n",
              " 25,\n",
              " 124,\n",
              " 51,\n",
              " 36,\n",
              " 135,\n",
              " 48,\n",
              " 25,\n",
              " 1415,\n",
              " 33,\n",
              " 6,\n",
              " 22,\n",
              " 12,\n",
              " 215,\n",
              " 28,\n",
              " 77,\n",
              " 52,\n",
              " 5,\n",
              " 14,\n",
              " 407,\n",
              " 16,\n",
              " 82,\n",
              " 2,\n",
              " 8,\n",
              " 4,\n",
              " 107,\n",
              " 117,\n",
              " 5952,\n",
              " 15,\n",
              " 256,\n",
              " 4,\n",
              " 2,\n",
              " 7,\n",
              " 3766,\n",
              " 5,\n",
              " 723,\n",
              " 36,\n",
              " 71,\n",
              " 43,\n",
              " 530,\n",
              " 476,\n",
              " 26,\n",
              " 400,\n",
              " 317,\n",
              " 46,\n",
              " 7,\n",
              " 4,\n",
              " 2,\n",
              " 1029,\n",
              " 13,\n",
              " 104,\n",
              " 88,\n",
              " 4,\n",
              " 381,\n",
              " 15,\n",
              " 297,\n",
              " 98,\n",
              " 32,\n",
              " 2071,\n",
              " 56,\n",
              " 26,\n",
              " 141,\n",
              " 6,\n",
              " 194,\n",
              " 7486,\n",
              " 18,\n",
              " 4,\n",
              " 226,\n",
              " 22,\n",
              " 21,\n",
              " 134,\n",
              " 476,\n",
              " 26,\n",
              " 480,\n",
              " 5,\n",
              " 144,\n",
              " 30,\n",
              " 5535,\n",
              " 18,\n",
              " 51,\n",
              " 36,\n",
              " 28,\n",
              " 224,\n",
              " 92,\n",
              " 25,\n",
              " 104,\n",
              " 4,\n",
              " 226,\n",
              " 65,\n",
              " 16,\n",
              " 38,\n",
              " 1334,\n",
              " 88,\n",
              " 12,\n",
              " 16,\n",
              " 283,\n",
              " 5,\n",
              " 16,\n",
              " 4472,\n",
              " 113,\n",
              " 103,\n",
              " 32,\n",
              " 15,\n",
              " 16,\n",
              " 5345,\n",
              " 19,\n",
              " 178,\n",
              " 32]"
            ]
          },
          "metadata": {
            "tags": []
          },
          "execution_count": 2
        }
      ]
    },
    {
      "cell_type": "code",
      "metadata": {
        "id": "-KSFa6ZPzcIc",
        "colab_type": "code",
        "colab": {
          "base_uri": "https://localhost:8080/",
          "height": 34
        },
        "outputId": "056d7f17-e0db-4822-afc9-e773ddd6bd5e"
      },
      "source": [
        "train_labels[0]"
      ],
      "execution_count": 3,
      "outputs": [
        {
          "output_type": "execute_result",
          "data": {
            "text/plain": [
              "1"
            ]
          },
          "metadata": {
            "tags": []
          },
          "execution_count": 3
        }
      ]
    },
    {
      "cell_type": "code",
      "metadata": {
        "id": "DNuj9o_LzcIg",
        "colab_type": "code",
        "colab": {
          "base_uri": "https://localhost:8080/",
          "height": 34
        },
        "outputId": "b975f304-8437-4e77-a36a-67d2e70a0302"
      },
      "source": [
        "max([max(sequence) for sequence in train_data])"
      ],
      "execution_count": 4,
      "outputs": [
        {
          "output_type": "execute_result",
          "data": {
            "text/plain": [
              "9999"
            ]
          },
          "metadata": {
            "tags": []
          },
          "execution_count": 4
        }
      ]
    },
    {
      "cell_type": "code",
      "metadata": {
        "id": "wdl0CqJkzcIl",
        "colab_type": "code",
        "colab": {
          "base_uri": "https://localhost:8080/",
          "height": 51
        },
        "outputId": "2bac39d8-b5ab-4a61-c9d9-4cbaa2446a94"
      },
      "source": [
        "word_index = imdb.get_word_index()\n",
        "reverse_word_index = dict(\n",
        "[(value, key) for (key, value) in word_index.items()])\n",
        "decoded_review = ' '.join(\n",
        "[reverse_word_index.get(i - 3, '?') for i in train_data[0]])"
      ],
      "execution_count": 5,
      "outputs": [
        {
          "output_type": "stream",
          "text": [
            "Downloading data from https://storage.googleapis.com/tensorflow/tf-keras-datasets/imdb_word_index.json\n",
            "1646592/1641221 [==============================] - 0s 0us/step\n"
          ],
          "name": "stdout"
        }
      ]
    },
    {
      "cell_type": "code",
      "metadata": {
        "id": "KrlwuEQLzcIp",
        "colab_type": "code",
        "colab": {
          "base_uri": "https://localhost:8080/",
          "height": 54
        },
        "outputId": "e891c3e6-81ac-411f-d00c-8f4f3f59b9a8"
      },
      "source": [
        "decoded_review"
      ],
      "execution_count": 6,
      "outputs": [
        {
          "output_type": "execute_result",
          "data": {
            "text/plain": [
              "\"? this film was just brilliant casting location scenery story direction everyone's really suited the part they played and you could just imagine being there robert ? is an amazing actor and now the same being director ? father came from the same scottish island as myself so i loved the fact there was a real connection with this film the witty remarks throughout the film were great it was just brilliant so much that i bought the film as soon as it was released for ? and would recommend it to everyone to watch and the fly fishing was amazing really cried at the end it was so sad and you know what they say if you cry at a film it must have been good and this definitely was also ? to the two little boy's that played the ? of norman and paul they were just brilliant children are often left out of the ? list i think because the stars that play them all grown up are such a big profile for the whole film but these children are amazing and should be praised for what they have done don't you think the whole story was so lovely because it was true and was someone's life after all that was shared with us all\""
            ]
          },
          "metadata": {
            "tags": []
          },
          "execution_count": 6
        }
      ]
    },
    {
      "cell_type": "code",
      "metadata": {
        "id": "HYSp1Y2zzcIt",
        "colab_type": "code",
        "colab": {}
      },
      "source": [
        "import numpy as np"
      ],
      "execution_count": 0,
      "outputs": []
    },
    {
      "cell_type": "code",
      "metadata": {
        "id": "_DL2IM7EzcIy",
        "colab_type": "code",
        "colab": {}
      },
      "source": [
        "def vectorize_sequences(sequences, dimension=10000):\n",
        "    results = np.zeros((len(sequences), dimension))\n",
        "    for i, sequence in enumerate(sequences):\n",
        "        results[i, sequence] = 1.\n",
        "    return results\n"
      ],
      "execution_count": 0,
      "outputs": []
    },
    {
      "cell_type": "code",
      "metadata": {
        "id": "NFiG35eszcI2",
        "colab_type": "code",
        "colab": {}
      },
      "source": [
        "x_train = vectorize_sequences(train_data)\n",
        "x_test = vectorize_sequences(test_data)"
      ],
      "execution_count": 0,
      "outputs": []
    },
    {
      "cell_type": "code",
      "metadata": {
        "id": "b7TXS4otzcI6",
        "colab_type": "code",
        "colab": {
          "base_uri": "https://localhost:8080/",
          "height": 34
        },
        "outputId": "94b69ef7-2a6c-4169-f011-fe24d0a03425"
      },
      "source": [
        "x_train[0]"
      ],
      "execution_count": 10,
      "outputs": [
        {
          "output_type": "execute_result",
          "data": {
            "text/plain": [
              "array([0., 1., 1., ..., 0., 0., 0.])"
            ]
          },
          "metadata": {
            "tags": []
          },
          "execution_count": 10
        }
      ]
    },
    {
      "cell_type": "code",
      "metadata": {
        "id": "b6REmKNjzcI-",
        "colab_type": "code",
        "colab": {
          "base_uri": "https://localhost:8080/",
          "height": 34
        },
        "outputId": "7983f13b-7366-43e2-8a4c-b4b89fb034a6"
      },
      "source": [
        "print(len(x_train[0]))"
      ],
      "execution_count": 11,
      "outputs": [
        {
          "output_type": "stream",
          "text": [
            "10000\n"
          ],
          "name": "stdout"
        }
      ]
    },
    {
      "cell_type": "code",
      "metadata": {
        "id": "YlIqOcAXzcJC",
        "colab_type": "code",
        "colab": {}
      },
      "source": [
        "y_train = np.asarray(train_labels).astype('float32')\n",
        "y_test = np.asarray(test_labels).astype('float32')"
      ],
      "execution_count": 0,
      "outputs": []
    },
    {
      "cell_type": "code",
      "metadata": {
        "id": "E3vbP1NszcJH",
        "colab_type": "code",
        "colab": {
          "base_uri": "https://localhost:8080/",
          "height": 88
        },
        "outputId": "422921c4-a914-4aad-9f9f-294475713e9e"
      },
      "source": [
        "from tensorflow.keras import models\n",
        "from tensorflow.keras import layers\n",
        "model = models.Sequential()\n",
        "model.add(layers.Dense(64, activation='relu', input_shape=(10000,)))\n",
        "model.add(layers.Dense(32, activation='relu'))\n",
        "model.add(layers.Dense(1, activation='sigmoid'))"
      ],
      "execution_count": 13,
      "outputs": [
        {
          "output_type": "stream",
          "text": [
            "WARNING:tensorflow:From /usr/local/lib/python3.6/dist-packages/tensorflow_core/python/ops/resource_variable_ops.py:1630: calling BaseResourceVariable.__init__ (from tensorflow.python.ops.resource_variable_ops) with constraint is deprecated and will be removed in a future version.\n",
            "Instructions for updating:\n",
            "If using Keras pass *_constraint arguments to layers.\n"
          ],
          "name": "stdout"
        }
      ]
    },
    {
      "cell_type": "code",
      "metadata": {
        "id": "vMw8H-5vzcJL",
        "colab_type": "code",
        "colab": {
          "base_uri": "https://localhost:8080/",
          "height": 88
        },
        "outputId": "b2e5a883-3576-4473-f78b-7abf896f4c33"
      },
      "source": [
        "model.compile(optimizer='rmsprop',\n",
        "loss='binary_crossentropy',\n",
        "metrics=['accuracy'])"
      ],
      "execution_count": 14,
      "outputs": [
        {
          "output_type": "stream",
          "text": [
            "WARNING:tensorflow:From /usr/local/lib/python3.6/dist-packages/tensorflow_core/python/ops/nn_impl.py:183: where (from tensorflow.python.ops.array_ops) is deprecated and will be removed in a future version.\n",
            "Instructions for updating:\n",
            "Use tf.where in 2.0, which has the same broadcast rule as np.where\n"
          ],
          "name": "stdout"
        }
      ]
    },
    {
      "cell_type": "markdown",
      "metadata": {
        "id": "j_YxdgFCzcJQ",
        "colab_type": "text"
      },
      "source": [
        "# Validating"
      ]
    },
    {
      "cell_type": "code",
      "metadata": {
        "id": "_uoTVeEszcJR",
        "colab_type": "code",
        "colab": {}
      },
      "source": [
        "x_val = x_train[:10000]\n",
        "partial_x_train = x_train[10000:]"
      ],
      "execution_count": 0,
      "outputs": []
    },
    {
      "cell_type": "code",
      "metadata": {
        "id": "111dcdVVzcJW",
        "colab_type": "code",
        "colab": {}
      },
      "source": [
        "y_val = y_train[:10000]\n",
        "partial_y_train = y_train[10000:]"
      ],
      "execution_count": 0,
      "outputs": []
    },
    {
      "cell_type": "code",
      "metadata": {
        "id": "YVm90DexzcJa",
        "colab_type": "code",
        "colab": {
          "base_uri": "https://localhost:8080/",
          "height": 714
        },
        "outputId": "51279c1a-8222-447c-d2a9-d9a595f4105b"
      },
      "source": [
        "model.compile(optimizer='rmsprop',\n",
        "loss='binary_crossentropy',\n",
        "metrics=['acc'])\n",
        "history = model.fit(partial_x_train,\n",
        "partial_y_train,\n",
        "epochs=20,\n",
        "batch_size=512,\n",
        "validation_data=(x_val, y_val))"
      ],
      "execution_count": 17,
      "outputs": [
        {
          "output_type": "stream",
          "text": [
            "Train on 15000 samples, validate on 10000 samples\n",
            "Epoch 1/20\n",
            "15000/15000 [==============================] - 3s 190us/sample - loss: 0.4896 - acc: 0.7719 - val_loss: 0.3481 - val_acc: 0.8679\n",
            "Epoch 2/20\n",
            "15000/15000 [==============================] - 2s 157us/sample - loss: 0.2692 - acc: 0.9033 - val_loss: 0.2768 - val_acc: 0.8914\n",
            "Epoch 3/20\n",
            "15000/15000 [==============================] - 2s 159us/sample - loss: 0.1867 - acc: 0.9357 - val_loss: 0.3084 - val_acc: 0.8766\n",
            "Epoch 4/20\n",
            "15000/15000 [==============================] - 2s 160us/sample - loss: 0.1503 - acc: 0.9448 - val_loss: 0.2952 - val_acc: 0.8852\n",
            "Epoch 5/20\n",
            "15000/15000 [==============================] - 2s 161us/sample - loss: 0.1083 - acc: 0.9635 - val_loss: 0.4290 - val_acc: 0.8502\n",
            "Epoch 6/20\n",
            "15000/15000 [==============================] - 2s 160us/sample - loss: 0.0892 - acc: 0.9703 - val_loss: 0.3364 - val_acc: 0.8824\n",
            "Epoch 7/20\n",
            "15000/15000 [==============================] - 2s 159us/sample - loss: 0.0627 - acc: 0.9806 - val_loss: 0.4758 - val_acc: 0.8550\n",
            "Epoch 8/20\n",
            "15000/15000 [==============================] - 2s 155us/sample - loss: 0.0574 - acc: 0.9825 - val_loss: 0.3974 - val_acc: 0.8786\n",
            "Epoch 9/20\n",
            "15000/15000 [==============================] - 2s 159us/sample - loss: 0.0272 - acc: 0.9943 - val_loss: 0.5259 - val_acc: 0.8575\n",
            "Epoch 10/20\n",
            "15000/15000 [==============================] - 2s 162us/sample - loss: 0.0181 - acc: 0.9969 - val_loss: 0.7547 - val_acc: 0.8253\n",
            "Epoch 11/20\n",
            "15000/15000 [==============================] - 2s 160us/sample - loss: 0.0129 - acc: 0.9983 - val_loss: 0.5658 - val_acc: 0.8660\n",
            "Epoch 12/20\n",
            "15000/15000 [==============================] - 2s 160us/sample - loss: 0.0322 - acc: 0.9903 - val_loss: 0.5433 - val_acc: 0.8758\n",
            "Epoch 13/20\n",
            "15000/15000 [==============================] - 2s 162us/sample - loss: 0.0039 - acc: 0.9999 - val_loss: 0.6024 - val_acc: 0.8726\n",
            "Epoch 14/20\n",
            "15000/15000 [==============================] - 2s 162us/sample - loss: 0.0232 - acc: 0.9933 - val_loss: 0.6117 - val_acc: 0.8741\n",
            "Epoch 15/20\n",
            "15000/15000 [==============================] - 2s 163us/sample - loss: 0.0019 - acc: 0.9999 - val_loss: 0.6491 - val_acc: 0.8740\n",
            "Epoch 16/20\n",
            "15000/15000 [==============================] - 2s 160us/sample - loss: 0.0095 - acc: 0.9982 - val_loss: 0.8686 - val_acc: 0.8484\n",
            "Epoch 17/20\n",
            "15000/15000 [==============================] - 2s 160us/sample - loss: 0.0019 - acc: 0.9997 - val_loss: 0.7179 - val_acc: 0.8703\n",
            "Epoch 18/20\n",
            "15000/15000 [==============================] - 2s 163us/sample - loss: 7.3802e-04 - acc: 1.0000 - val_loss: 0.7588 - val_acc: 0.8701\n",
            "Epoch 19/20\n",
            "15000/15000 [==============================] - 2s 160us/sample - loss: 4.5408e-04 - acc: 1.0000 - val_loss: 0.8273 - val_acc: 0.8702\n",
            "Epoch 20/20\n",
            "15000/15000 [==============================] - 2s 161us/sample - loss: 0.0274 - acc: 0.9945 - val_loss: 0.8745 - val_acc: 0.8679\n"
          ],
          "name": "stdout"
        }
      ]
    },
    {
      "cell_type": "code",
      "metadata": {
        "id": "7I4WPv4DzcJf",
        "colab_type": "code",
        "colab": {
          "base_uri": "https://localhost:8080/",
          "height": 34
        },
        "outputId": "2ad6859a-ebe7-4b13-a918-54f6620a7212"
      },
      "source": [
        "history_dict = history.history\n",
        "history_dict.keys()\n"
      ],
      "execution_count": 22,
      "outputs": [
        {
          "output_type": "execute_result",
          "data": {
            "text/plain": [
              "dict_keys(['loss', 'acc', 'val_loss', 'val_acc'])"
            ]
          },
          "metadata": {
            "tags": []
          },
          "execution_count": 22
        }
      ]
    },
    {
      "cell_type": "code",
      "metadata": {
        "id": "f9B5GI973KVp",
        "colab_type": "code",
        "colab": {
          "base_uri": "https://localhost:8080/",
          "height": 295
        },
        "outputId": "ddbcc0b5-8210-46f3-cfab-5fa301391bbe"
      },
      "source": [
        "import matplotlib.pyplot as plt\n",
        "#history_dict = history.history\n",
        "acc=history_dict[\"acc\"]\n",
        "loss_values = history_dict['loss']\n",
        "val_loss_values = history_dict['val_loss']\n",
        "epochs = range(1, len(acc) + 1)\n",
        "plt.plot(epochs, loss_values, 'bo', label='Training loss')\n",
        "plt.plot(epochs, val_loss_values, 'b', label='Validation loss')\n",
        "plt.title('Training and validation loss')\n",
        "plt.xlabel('Epochs')\n",
        "plt.ylabel('Loss')\n",
        "plt.legend()\n",
        "plt.show()"
      ],
      "execution_count": 24,
      "outputs": [
        {
          "output_type": "display_data",
          "data": {
            "image/png": "[encoded data removed]",
            "text/plain": [
              "<Figure size 432x288 with 1 Axes>"
            ]
          },
          "metadata": {
            "tags": []
          }
        }
      ]
    },
    {
      "cell_type": "code",
      "metadata": {
        "id": "oS9CGvYA5I6M",
        "colab_type": "code",
        "colab": {
          "base_uri": "https://localhost:8080/",
          "height": 295
        },
        "outputId": "20cc5a34-ef85-4f4a-8622-f6be1222bf43"
      },
      "source": [
        "plt.clf()\n",
        "acc_values = history_dict['acc']\n",
        "val_acc=history_dict[\"val_acc\"]\n",
        "val_acc_values = history_dict['val_acc']\n",
        "plt.plot(epochs, acc, 'bo', label='Training acc')\n",
        "plt.plot(epochs, val_acc, 'b', label='Validation acc')\n",
        "plt.title('Training and validation accuracy')\n",
        "plt.xlabel('Epochs')\n",
        "plt.ylabel('Loss')\n",
        "plt.legend()\n",
        "plt.show()"
      ],
      "execution_count": 25,
      "outputs": [
        {
          "output_type": "display_data",
          "data": {
            "image/png": "[encoded data removed]",
            "text/plain": [
              "<Figure size 432x288 with 1 Axes>"
            ]
          },
          "metadata": {
            "tags": []
          }
        }
      ]
    },
    {
      "cell_type": "code",
      "metadata": {
        "id": "v4S-gZm_5aNQ",
        "colab_type": "code",
        "colab": {
          "base_uri": "https://localhost:8080/",
          "height": 187
        },
        "outputId": "8126f0ba-9258-407d-d32b-b488142fd27e"
      },
      "source": [
        "model = models.Sequential()\n",
        "model.add(layers.Dense(16, activation='relu', input_shape=(10000,)))\n",
        "model.add(layers.Dense(16, activation='relu'))\n",
        "model.add(layers.Dense(1, activation='sigmoid'))\n",
        "model.compile(optimizer='rmsprop',\n",
        "loss='binary_crossentropy',\n",
        "metrics=['accuracy'])\n",
        "model.fit(x_train, y_train, epochs=4, batch_size=512)\n"
      ],
      "execution_count": 28,
      "outputs": [
        {
          "output_type": "stream",
          "text": [
            "Train on 25000 samples\n",
            "Epoch 1/4\n",
            "25000/25000 [==============================] - 2s 87us/sample - loss: 0.4622 - acc: 0.8327\n",
            "Epoch 2/4\n",
            "25000/25000 [==============================] - 2s 82us/sample - loss: 0.2674 - acc: 0.9081\n",
            "Epoch 3/4\n",
            "25000/25000 [==============================] - 2s 82us/sample - loss: 0.2040 - acc: 0.9284\n",
            "Epoch 4/4\n",
            "25000/25000 [==============================] - 2s 83us/sample - loss: 0.1684 - acc: 0.9411\n"
          ],
          "name": "stdout"
        },
        {
          "output_type": "execute_result",
          "data": {
            "text/plain": [
              "<tensorflow.python.keras.callbacks.History at 0x7f53c12d8e48>"
            ]
          },
          "metadata": {
            "tags": []
          },
          "execution_count": 28
        }
      ]
    },
    {
      "cell_type": "code",
      "metadata": {
        "id": "jyovvOf685he",
        "colab_type": "code",
        "colab": {
          "base_uri": "https://localhost:8080/",
          "height": 34
        },
        "outputId": "1f1e1474-d161-4bf4-93c1-53f0f63972da"
      },
      "source": [
        "results = model.evaluate(x_test, y_test)"
      ],
      "execution_count": 29,
      "outputs": [
        {
          "output_type": "stream",
          "text": [
            "25000/25000 [==============================] - 2s 75us/sample - loss: 0.2953 - acc: 0.8834\n"
          ],
          "name": "stdout"
        }
      ]
    },
    {
      "cell_type": "code",
      "metadata": {
        "id": "_FXnkyjK9cwo",
        "colab_type": "code",
        "colab": {
          "base_uri": "https://localhost:8080/",
          "height": 136
        },
        "outputId": "2be28912-0885-4d6c-b4da-6230ef3889d9"
      },
      "source": [
        "model.predict(x_test)"
      ],
      "execution_count": 30,
      "outputs": [
        {
          "output_type": "execute_result",
          "data": {
            "text/plain": [
              "array([[0.20646158],\n",
              "       [0.99992347],\n",
              "       [0.9823727 ],\n",
              "       ...,\n",
              "       [0.13555208],\n",
              "       [0.08013636],\n",
              "       [0.60732913]], dtype=float32)"
            ]
          },
          "metadata": {
            "tags": []
          },
          "execution_count": 30
        }
      ]
    },
    {
      "cell_type": "code",
      "metadata": {
        "id": "4DSKc4wpALep",
        "colab_type": "code",
        "colab": {}
      },
      "source": [
        ""
      ],
      "execution_count": 0,
      "outputs": []
    },
    {
      "cell_type": "markdown",
      "metadata": {
        "id": "5D5xD9BdHmTS",
        "colab_type": "text"
      },
      "source": [
        "# #Reuters DataSet"
      ]
    },
    {
      "cell_type": "code",
      "metadata": {
        "id": "EM4tSZYjH1JA",
        "colab_type": "code",
        "colab": {
          "base_uri": "https://localhost:8080/",
          "height": 68
        },
        "outputId": "cc4a9b05-9044-43b6-d968-3d9773060dcf"
      },
      "source": [
        "from keras.datasets import reuters\n",
        "(train_data, train_labels), (test_data, test_labels) = reuters.load_data(\n",
        "num_words=10000)"
      ],
      "execution_count": 31,
      "outputs": [
        {
          "output_type": "stream",
          "text": [
            "Using TensorFlow backend.\n"
          ],
          "name": "stderr"
        },
        {
          "output_type": "stream",
          "text": [
            "Downloading data from https://s3.amazonaws.com/text-datasets/reuters.npz\n",
            "2113536/2110848 [==============================] - 0s 0us/step\n"
          ],
          "name": "stdout"
        }
      ]
    },
    {
      "cell_type": "code",
      "metadata": {
        "id": "KJ1hi1eYH4gZ",
        "colab_type": "code",
        "colab": {
          "base_uri": "https://localhost:8080/",
          "height": 34
        },
        "outputId": "ac0f7471-1675-46e7-84c6-747ef91969c5"
      },
      "source": [
        "len(train_data)"
      ],
      "execution_count": 32,
      "outputs": [
        {
          "output_type": "execute_result",
          "data": {
            "text/plain": [
              "8982"
            ]
          },
          "metadata": {
            "tags": []
          },
          "execution_count": 32
        }
      ]
    },
    {
      "cell_type": "code",
      "metadata": {
        "id": "Xf-IH4zhIGwJ",
        "colab_type": "code",
        "colab": {
          "base_uri": "https://localhost:8080/",
          "height": 34
        },
        "outputId": "4d8b824c-57c9-4d8d-e885-76b66e6e3b15"
      },
      "source": [
        "len(test_data)"
      ],
      "execution_count": 33,
      "outputs": [
        {
          "output_type": "execute_result",
          "data": {
            "text/plain": [
              "2246"
            ]
          },
          "metadata": {
            "tags": []
          },
          "execution_count": 33
        }
      ]
    },
    {
      "cell_type": "code",
      "metadata": {
        "id": "Mhwx5SArIJQI",
        "colab_type": "code",
        "colab": {
          "base_uri": "https://localhost:8080/",
          "height": 544
        },
        "outputId": "2103c28f-bcd0-44f5-b320-b2a3409e6b75"
      },
      "source": [
        " train_data[10]"
      ],
      "execution_count": 34,
      "outputs": [
        {
          "output_type": "execute_result",
          "data": {
            "text/plain": [
              "[1,\n",
              " 245,\n",
              " 273,\n",
              " 207,\n",
              " 156,\n",
              " 53,\n",
              " 74,\n",
              " 160,\n",
              " 26,\n",
              " 14,\n",
              " 46,\n",
              " 296,\n",
              " 26,\n",
              " 39,\n",
              " 74,\n",
              " 2979,\n",
              " 3554,\n",
              " 14,\n",
              " 46,\n",
              " 4689,\n",
              " 4329,\n",
              " 86,\n",
              " 61,\n",
              " 3499,\n",
              " 4795,\n",
              " 14,\n",
              " 61,\n",
              " 451,\n",
              " 4329,\n",
              " 17,\n",
              " 12]"
            ]
          },
          "metadata": {
            "tags": []
          },
          "execution_count": 34
        }
      ]
    },
    {
      "cell_type": "code",
      "metadata": {
        "id": "jLwOQkZnITT4",
        "colab_type": "code",
        "colab": {
          "base_uri": "https://localhost:8080/",
          "height": 34
        },
        "outputId": "3087aa9f-1c82-4077-f845-5b327ec3855e"
      },
      "source": [
        "train_labels[10]\n"
      ],
      "execution_count": 35,
      "outputs": [
        {
          "output_type": "execute_result",
          "data": {
            "text/plain": [
              "3"
            ]
          },
          "metadata": {
            "tags": []
          },
          "execution_count": 35
        }
      ]
    },
    {
      "cell_type": "code",
      "metadata": {
        "id": "W1jriaTDIXAg",
        "colab_type": "code",
        "colab": {}
      },
      "source": [
        "import numpy as np\n",
        "def vectorize_sequences(sequences, dimension=10000):\n",
        "  results = np.zeros((len(sequences), dimension))\n",
        "  for i, sequence in enumerate(sequences):\n",
        "    results[i, sequence] = 1.\n",
        "  return results\n",
        "x_train = vectorize_sequences(train_data)\n",
        "x_test = vectorize_sequences(test_data)"
      ],
      "execution_count": 0,
      "outputs": []
    },
    {
      "cell_type": "code",
      "metadata": {
        "id": "cM4T2vV5Idi3",
        "colab_type": "code",
        "colab": {}
      },
      "source": [
        "def to_one_hot(labels, dimension=46):\n",
        "  results = np.zeros((len(labels), dimension))\n",
        "  for i, label in enumerate(labels):\n",
        "    results[i, label] = 1.\n",
        "  return results\n",
        "one_hot_train_labels = to_one_hot(train_labels)\n",
        "one_hot_test_labels = to_one_hot(test_labels)"
      ],
      "execution_count": 0,
      "outputs": []
    },
    {
      "cell_type": "code",
      "metadata": {
        "id": "n6GCqfAfI3BP",
        "colab_type": "code",
        "colab": {}
      },
      "source": [
        "from keras.utils.np_utils import to_categorical\n",
        "one_hot_train_labels = to_categorical(train_labels)\n",
        "one_hot_test_labels = to_categorical(test_labels)"
      ],
      "execution_count": 0,
      "outputs": []
    },
    {
      "cell_type": "code",
      "metadata": {
        "id": "ghnji7eYI5sP",
        "colab_type": "code",
        "colab": {}
      },
      "source": [
        "from keras import models\n",
        "from keras import layers\n",
        "model = models.Sequential()\n",
        "model.add(layers.Dense(64, activation='relu', input_shape=(10000,)))\n",
        "model.add(layers.Dense(64, activation='relu'))\n",
        "model.add(layers.Dense(46, activation='softmax'))"
      ],
      "execution_count": 0,
      "outputs": []
    },
    {
      "cell_type": "code",
      "metadata": {
        "id": "PUXnFSu6I-3_",
        "colab_type": "code",
        "colab": {}
      },
      "source": [
        "model.compile(optimizer='rmsprop',\n",
        "loss='categorical_crossentropy',\n",
        "metrics=['accuracy'])"
      ],
      "execution_count": 0,
      "outputs": []
    },
    {
      "cell_type": "code",
      "metadata": {
        "id": "WzVNFSpqJH_Y",
        "colab_type": "code",
        "colab": {}
      },
      "source": [
        "x_val = x_train[:1000]\n",
        "partial_x_train = x_train[1000:]\n",
        "y_val = one_hot_train_labels[:1000]\n",
        "partial_y_train = one_hot_train_labels[1000:]"
      ],
      "execution_count": 0,
      "outputs": []
    },
    {
      "cell_type": "code",
      "metadata": {
        "id": "UJoFleGRJM1Y",
        "colab_type": "code",
        "colab": {
          "base_uri": "https://localhost:8080/",
          "height": 714
        },
        "outputId": "aa040e7b-9a48-4096-d32c-930e31771285"
      },
      "source": [
        "history = model.fit(partial_x_train,\n",
        "partial_y_train,\n",
        "epochs=20,\n",
        "batch_size=512,\n",
        "validation_data=(x_val, y_val))"
      ],
      "execution_count": 47,
      "outputs": [
        {
          "output_type": "stream",
          "text": [
            "Train on 7982 samples, validate on 1000 samples\n",
            "Epoch 1/20\n",
            "7982/7982 [==============================] - 2s 252us/step - loss: 2.4982 - acc: 0.5343 - val_loss: 1.6560 - val_acc: 0.6560\n",
            "Epoch 2/20\n",
            "7982/7982 [==============================] - 1s 165us/step - loss: 1.3692 - acc: 0.7179 - val_loss: 1.2753 - val_acc: 0.7290\n",
            "Epoch 3/20\n",
            "7982/7982 [==============================] - 1s 169us/step - loss: 1.0361 - acc: 0.7793 - val_loss: 1.1157 - val_acc: 0.7570\n",
            "Epoch 4/20\n",
            "7982/7982 [==============================] - 1s 165us/step - loss: 0.8235 - acc: 0.8195 - val_loss: 1.0261 - val_acc: 0.7800\n",
            "Epoch 5/20\n",
            "7982/7982 [==============================] - 1s 167us/step - loss: 0.6511 - acc: 0.8608 - val_loss: 1.0316 - val_acc: 0.7710\n",
            "Epoch 6/20\n",
            "7982/7982 [==============================] - 1s 164us/step - loss: 0.5226 - acc: 0.8896 - val_loss: 0.9307 - val_acc: 0.8080\n",
            "Epoch 7/20\n",
            "7982/7982 [==============================] - 1s 166us/step - loss: 0.4139 - acc: 0.9134 - val_loss: 0.8908 - val_acc: 0.8090\n",
            "Epoch 8/20\n",
            "7982/7982 [==============================] - 1s 167us/step - loss: 0.3411 - acc: 0.9300 - val_loss: 0.9051 - val_acc: 0.8110\n",
            "Epoch 9/20\n",
            "7982/7982 [==============================] - 1s 168us/step - loss: 0.2834 - acc: 0.9389 - val_loss: 0.9126 - val_acc: 0.8140\n",
            "Epoch 10/20\n",
            "7982/7982 [==============================] - 1s 165us/step - loss: 0.2376 - acc: 0.9455 - val_loss: 0.9160 - val_acc: 0.8110\n",
            "Epoch 11/20\n",
            "7982/7982 [==============================] - 1s 165us/step - loss: 0.2086 - acc: 0.9478 - val_loss: 0.9351 - val_acc: 0.8100\n",
            "Epoch 12/20\n",
            "7982/7982 [==============================] - 1s 166us/step - loss: 0.1810 - acc: 0.9518 - val_loss: 0.9202 - val_acc: 0.8100\n",
            "Epoch 13/20\n",
            "7982/7982 [==============================] - 1s 163us/step - loss: 0.1641 - acc: 0.9533 - val_loss: 0.9748 - val_acc: 0.8040\n",
            "Epoch 14/20\n",
            "7982/7982 [==============================] - 1s 166us/step - loss: 0.1521 - acc: 0.9540 - val_loss: 0.9909 - val_acc: 0.7960\n",
            "Epoch 15/20\n",
            "7982/7982 [==============================] - 1s 165us/step - loss: 0.1409 - acc: 0.9560 - val_loss: 0.9787 - val_acc: 0.8060\n",
            "Epoch 16/20\n",
            "7982/7982 [==============================] - 1s 165us/step - loss: 0.1309 - acc: 0.9569 - val_loss: 1.0183 - val_acc: 0.8120\n",
            "Epoch 17/20\n",
            "7982/7982 [==============================] - 1s 166us/step - loss: 0.1252 - acc: 0.9574 - val_loss: 1.0215 - val_acc: 0.8150\n",
            "Epoch 18/20\n",
            "7982/7982 [==============================] - 1s 162us/step - loss: 0.1212 - acc: 0.9567 - val_loss: 1.0378 - val_acc: 0.7940\n",
            "Epoch 19/20\n",
            "7982/7982 [==============================] - 1s 162us/step - loss: 0.1183 - acc: 0.9568 - val_loss: 1.0690 - val_acc: 0.8010\n",
            "Epoch 20/20\n",
            "7982/7982 [==============================] - 1s 165us/step - loss: 0.1136 - acc: 0.9549 - val_loss: 1.0721 - val_acc: 0.8050\n"
          ],
          "name": "stdout"
        }
      ]
    },
    {
      "cell_type": "code",
      "metadata": {
        "id": "uN5Z8GFPJpOg",
        "colab_type": "code",
        "colab": {
          "base_uri": "https://localhost:8080/",
          "height": 295
        },
        "outputId": "e7e9d3e9-8e68-4333-da7a-5f2b07af3582"
      },
      "source": [
        "import matplotlib.pyplot as plt\n",
        "loss = history.history['loss']\n",
        "val_loss = history.history['val_loss']\n",
        "epochs = range(1, len(loss) + 1)\n",
        "plt.plot(epochs, loss, 'bo', label='Training loss')\n",
        "plt.plot(epochs, val_loss, 'b', label='Validation loss')\n",
        "plt.title('Training and validation loss')\n",
        "plt.xlabel('Epochs')\n",
        "plt.ylabel('Loss')\n",
        "plt.legend()\n",
        "plt.show()"
      ],
      "execution_count": 48,
      "outputs": [
        {
          "output_type": "display_data",
          "data": {
            "image/png": "[encoded data removed]",
            "text/plain": [
              "<Figure size 432x288 with 1 Axes>"
            ]
          },
          "metadata": {
            "tags": []
          }
        }
      ]
    },
    {
      "cell_type": "code",
      "metadata": {
        "id": "dkEkrMfAJzTI",
        "colab_type": "code",
        "colab": {
          "base_uri": "https://localhost:8080/",
          "height": 295
        },
        "outputId": "2045c3c0-87b8-4010-cb47-a3582f784904"
      },
      "source": [
        "plt.clf()\n",
        "acc = history.history['acc']\n",
        "val_acc = history.history['val_acc']\n",
        "plt.plot(epochs, acc, 'bo', label='Training acc')\n",
        "plt.plot(epochs, val_acc, 'b', label='Validation acc')\n",
        "plt.title('Training and validation accuracy')\n",
        "plt.xlabel('Epochs')\n",
        "plt.ylabel('Loss')\n",
        "plt.legend()\n",
        "plt.show()"
      ],
      "execution_count": 49,
      "outputs": [
        {
          "output_type": "display_data",
          "data": {
            "image/png": "[encoded data removed]",
            "text/plain": [
              "<Figure size 432x288 with 1 Axes>"
            ]
          },
          "metadata": {
            "tags": []
          }
        }
      ]
    },
    {
      "cell_type": "code",
      "metadata": {
        "id": "3yaGvM95J2-w",
        "colab_type": "code",
        "colab": {
          "base_uri": "https://localhost:8080/",
          "height": 357
        },
        "outputId": "071b0644-14a9-47ca-c64e-67078b863ba9"
      },
      "source": [
        "model = models.Sequential()\n",
        "model.add(layers.Dense(64, activation='relu', input_shape=(10000,)))\n",
        "model.add(layers.Dense(64, activation='relu'))\n",
        "model.add(layers.Dense(46, activation='softmax'))\n",
        "model.compile(optimizer='rmsprop',\n",
        "loss='categorical_crossentropy',\n",
        "metrics=['accuracy'])\n",
        "model.fit(partial_x_train,\n",
        "partial_y_train,\n",
        "epochs=9,\n",
        "batch_size=512,\n",
        "validation_data=(x_val, y_val))"
      ],
      "execution_count": 50,
      "outputs": [
        {
          "output_type": "stream",
          "text": [
            "Train on 7982 samples, validate on 1000 samples\n",
            "Epoch 1/9\n",
            "7982/7982 [==============================] - 2s 208us/step - loss: 2.7181 - acc: 0.4999 - val_loss: 1.7895 - val_acc: 0.6370\n",
            "Epoch 2/9\n",
            "7982/7982 [==============================] - 1s 168us/step - loss: 1.4425 - acc: 0.7030 - val_loss: 1.2787 - val_acc: 0.7270\n",
            "Epoch 3/9\n",
            "7982/7982 [==============================] - 1s 164us/step - loss: 1.0419 - acc: 0.7835 - val_loss: 1.1255 - val_acc: 0.7550\n",
            "Epoch 4/9\n",
            "7982/7982 [==============================] - 1s 165us/step - loss: 0.8163 - acc: 0.8266 - val_loss: 1.0058 - val_acc: 0.7910\n",
            "Epoch 5/9\n",
            "7982/7982 [==============================] - 1s 164us/step - loss: 0.6421 - acc: 0.8643 - val_loss: 0.9549 - val_acc: 0.7960\n",
            "Epoch 6/9\n",
            "7982/7982 [==============================] - 1s 167us/step - loss: 0.5150 - acc: 0.8938 - val_loss: 0.9010 - val_acc: 0.8070\n",
            "Epoch 7/9\n",
            "7982/7982 [==============================] - 1s 165us/step - loss: 0.4130 - acc: 0.9113 - val_loss: 0.8964 - val_acc: 0.8090\n",
            "Epoch 8/9\n",
            "7982/7982 [==============================] - 1s 166us/step - loss: 0.3385 - acc: 0.9275 - val_loss: 0.8863 - val_acc: 0.8180\n",
            "Epoch 9/9\n",
            "7982/7982 [==============================] - 1s 163us/step - loss: 0.2827 - acc: 0.9372 - val_loss: 0.9063 - val_acc: 0.8120\n"
          ],
          "name": "stdout"
        },
        {
          "output_type": "execute_result",
          "data": {
            "text/plain": [
              "<keras.callbacks.History at 0x7f53ab4132b0>"
            ]
          },
          "metadata": {
            "tags": []
          },
          "execution_count": 50
        }
      ]
    },
    {
      "cell_type": "code",
      "metadata": {
        "id": "a4YAJ7_CKF8g",
        "colab_type": "code",
        "colab": {
          "base_uri": "https://localhost:8080/",
          "height": 34
        },
        "outputId": "f1aa523a-aea3-48d0-fc56-81a18b7eb0fb"
      },
      "source": [
        "results = model.evaluate(x_test, one_hot_test_labels)"
      ],
      "execution_count": 51,
      "outputs": [
        {
          "output_type": "stream",
          "text": [
            "2246/2246 [==============================] - 0s 98us/step\n"
          ],
          "name": "stdout"
        }
      ]
    },
    {
      "cell_type": "code",
      "metadata": {
        "id": "S6ABc1zPKmRY",
        "colab_type": "code",
        "colab": {
          "base_uri": "https://localhost:8080/",
          "height": 34
        },
        "outputId": "fa1c3e11-6ff8-4fd1-cadc-fec7844a5b5b"
      },
      "source": [
        "import copy\n",
        "test_labels_copy = copy.copy(test_labels)\n",
        "np.random.shuffle(test_labels_copy)\n",
        "hits_array = np.array(test_labels) == np.array(test_labels_copy)\n",
        "float(np.sum(hits_array)) / len(test_labels)"
      ],
      "execution_count": 52,
      "outputs": [
        {
          "output_type": "execute_result",
          "data": {
            "text/plain": [
              "0.1918967052537845"
            ]
          },
          "metadata": {
            "tags": []
          },
          "execution_count": 52
        }
      ]
    },
    {
      "cell_type": "code",
      "metadata": {
        "id": "QCJzAs5CM9gd",
        "colab_type": "code",
        "colab": {}
      },
      "source": [
        "predictions = model.predict(x_test)"
      ],
      "execution_count": 0,
      "outputs": []
    },
    {
      "cell_type": "code",
      "metadata": {
        "id": "3S-9704FNAxI",
        "colab_type": "code",
        "colab": {
          "base_uri": "https://localhost:8080/",
          "height": 34
        },
        "outputId": "ed1e5ee3-3c30-47b2-9a87-155b6d3bd56a"
      },
      "source": [
        "predictions[0].shape"
      ],
      "execution_count": 54,
      "outputs": [
        {
          "output_type": "execute_result",
          "data": {
            "text/plain": [
              "(46,)"
            ]
          },
          "metadata": {
            "tags": []
          },
          "execution_count": 54
        }
      ]
    },
    {
      "cell_type": "code",
      "metadata": {
        "id": "lI_jSk28NDI4",
        "colab_type": "code",
        "colab": {
          "base_uri": "https://localhost:8080/",
          "height": 34
        },
        "outputId": "dd3b47ac-4a87-4eaa-f594-896983fc37a0"
      },
      "source": [
        "np.sum(predictions[0])"
      ],
      "execution_count": 55,
      "outputs": [
        {
          "output_type": "execute_result",
          "data": {
            "text/plain": [
              "1.0000001"
            ]
          },
          "metadata": {
            "tags": []
          },
          "execution_count": 55
        }
      ]
    },
    {
      "cell_type": "code",
      "metadata": {
        "id": "zUH9be70NFRw",
        "colab_type": "code",
        "colab": {
          "base_uri": "https://localhost:8080/",
          "height": 34
        },
        "outputId": "a072c297-7658-423c-94c5-f52fd0af3caa"
      },
      "source": [
        "np.argmax(predictions[0])"
      ],
      "execution_count": 56,
      "outputs": [
        {
          "output_type": "execute_result",
          "data": {
            "text/plain": [
              "3"
            ]
          },
          "metadata": {
            "tags": []
          },
          "execution_count": 56
        }
      ]
    },
    {
      "cell_type": "code",
      "metadata": {
        "id": "6t7vgRSmNHmw",
        "colab_type": "code",
        "colab": {}
      },
      "source": [
        "y_train = np.array(train_labels)"
      ],
      "execution_count": 0,
      "outputs": []
    },
    {
      "cell_type": "code",
      "metadata": {
        "id": "LCe6DIMRNKEw",
        "colab_type": "code",
        "colab": {}
      },
      "source": [
        "y_test = np.array(test_labels)"
      ],
      "execution_count": 0,
      "outputs": []
    },
    {
      "cell_type": "code",
      "metadata": {
        "id": "VkByjqPUNOJ3",
        "colab_type": "code",
        "colab": {}
      },
      "source": [
        ""
      ],
      "execution_count": 0,
      "outputs": []
    }
  ]
}