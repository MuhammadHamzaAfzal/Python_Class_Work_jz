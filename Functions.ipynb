{
 "cells": [
  {
   "cell_type": "code",
   "execution_count": 1,
   "metadata": {},
   "outputs": [],
   "source": [
    "def functions1():\n",
    "    print(\"Hello Function\")"
   ]
  },
  {
   "cell_type": "code",
   "execution_count": 2,
   "metadata": {},
   "outputs": [
    {
     "name": "stdout",
     "output_type": "stream",
     "text": [
      "Hello Function\n"
     ]
    }
   ],
   "source": [
    "functions1()"
   ]
  },
  {
   "cell_type": "code",
   "execution_count": 4,
   "metadata": {},
   "outputs": [],
   "source": [
    "def tableof2():\n",
    "    for x in range(10):\n",
    "        print(2*x)"
   ]
  },
  {
   "cell_type": "code",
   "execution_count": 5,
   "metadata": {},
   "outputs": [
    {
     "name": "stdout",
     "output_type": "stream",
     "text": [
      "0\n",
      "2\n",
      "4\n",
      "6\n",
      "8\n",
      "10\n",
      "12\n",
      "14\n",
      "16\n",
      "18\n"
     ]
    }
   ],
   "source": [
    "tableof2()"
   ]
  },
  {
   "cell_type": "code",
   "execution_count": 1,
   "metadata": {},
   "outputs": [],
   "source": [
    "def sumof2no():\n",
    "    n1=int(input('First No='))\n",
    "    n2=int(input('Second No='))\n",
    "    n3=n1+n2\n",
    "    return n3"
   ]
  },
  {
   "cell_type": "code",
   "execution_count": 3,
   "metadata": {},
   "outputs": [
    {
     "name": "stdout",
     "output_type": "stream",
     "text": [
      "First No=8\n",
      "Second No=6\n",
      "28\n"
     ]
    }
   ],
   "source": [
    "ans1=sumof2no()\n",
    "print(ans1*2)"
   ]
  },
  {
   "cell_type": "code",
   "execution_count": 1,
   "metadata": {},
   "outputs": [],
   "source": [
    "def tables():\n",
    "    ip=int(input('Enter no for table='))\n",
    "    ini=1\n",
    "    print('Table of {} is'.format(ip))\n",
    "    while ini<=10:\n",
    "        print(ip,'*',ini,'=',ip*ini)\n",
    "        ini+=1"
   ]
  },
  {
   "cell_type": "code",
   "execution_count": 2,
   "metadata": {},
   "outputs": [
    {
     "name": "stdout",
     "output_type": "stream",
     "text": [
      "Enter no for table=7\n",
      "Table of 7 is\n",
      "7 * 1 = 7\n",
      "7 * 2 = 14\n",
      "7 * 3 = 21\n",
      "7 * 4 = 28\n",
      "7 * 5 = 35\n",
      "7 * 6 = 42\n",
      "7 * 7 = 49\n",
      "7 * 8 = 56\n",
      "7 * 9 = 63\n",
      "7 * 10 = 70\n"
     ]
    }
   ],
   "source": [
    "tables()"
   ]
  },
  {
   "cell_type": "code",
   "execution_count": 3,
   "metadata": {},
   "outputs": [
    {
     "name": "stdout",
     "output_type": "stream",
     "text": [
      "Hello 123 :p\n"
     ]
    }
   ],
   "source": [
    "def name(myname):\n",
    "    print('Hello' ,myname, ':p')\n",
    "name(123)"
   ]
  },
  {
   "cell_type": "code",
   "execution_count": 4,
   "metadata": {},
   "outputs": [
    {
     "name": "stdout",
     "output_type": "stream",
     "text": [
      "11\n"
     ]
    }
   ],
   "source": [
    "def add(a,b):\n",
    "    c=a+b\n",
    "    print(c)\n",
    "\n",
    "\n",
    "    \n",
    "add(5,6)"
   ]
  },
  {
   "cell_type": "code",
   "execution_count": 1,
   "metadata": {},
   "outputs": [
    {
     "name": "stdout",
     "output_type": "stream",
     "text": [
      "Table of 7 is\n",
      "7 * 1 = 7\n",
      "7 * 2 = 14\n",
      "7 * 3 = 21\n",
      "7 * 4 = 28\n",
      "7 * 5 = 35\n",
      "7 * 6 = 42\n",
      "7 * 7 = 49\n",
      "7 * 8 = 56\n",
      "7 * 9 = 63\n",
      "7 * 10 = 70\n"
     ]
    }
   ],
   "source": [
    "def tables(ip):\n",
    "    #ip=int(input('Enter no for table='))\n",
    "    ini=1\n",
    "    print('Table of {} is'.format(ip))\n",
    "    while ini<=10:\n",
    "        print(ip,'*',ini,'=',ip*ini)\n",
    "        ini+=1\n",
    "        \n",
    "tables(7)"
   ]
  },
  {
   "cell_type": "code",
   "execution_count": 2,
   "metadata": {},
   "outputs": [],
   "source": [
    "def addition(p,q):\n",
    "    r=p+q\n",
    "    return r"
   ]
  },
  {
   "cell_type": "code",
   "execution_count": 4,
   "metadata": {},
   "outputs": [
    {
     "name": "stdout",
     "output_type": "stream",
     "text": [
      "17\n"
     ]
    },
    {
     "data": {
      "text/plain": [
       "51"
      ]
     },
     "execution_count": 4,
     "metadata": {},
     "output_type": "execute_result"
    }
   ],
   "source": [
    "ans=addition(8,9)\n",
    "print(ans)\n",
    "ans*3"
   ]
  },
  {
   "cell_type": "code",
   "execution_count": 7,
   "metadata": {},
   "outputs": [],
   "source": [
    "def lists(a,b,c,d):\n",
    "    lst=[a,b,c,d]\n",
    "    return lst\n",
    "\n",
    "use=lists('Hello','World',2019,'8th May')"
   ]
  },
  {
   "cell_type": "code",
   "execution_count": 16,
   "metadata": {},
   "outputs": [
    {
     "name": "stdout",
     "output_type": "stream",
     "text": [
      "9 $\n"
     ]
    }
   ],
   "source": [
    "import math\n",
    "def conversion(rs):\n",
    "    x=math.floor(rs/144)\n",
    "    return x\n",
    "conv=conversion(1430)\n",
    "print(conv,'$')"
   ]
  },
  {
   "cell_type": "code",
   "execution_count": 26,
   "metadata": {},
   "outputs": [
    {
     "name": "stdout",
     "output_type": "stream",
     "text": [
      "Name of Student is Hussain\n",
      "Total Marks are 247\n"
     ]
    }
   ],
   "source": [
    "def results(name,phy,maths,comp):\n",
    "    total=phy+maths+comp\n",
    "    return total,name\n",
    "\n",
    "stud=results('Hussain',77,80,90)\n",
    "print(f'Name of Student is {stud[1]}\\nTotal Marks are {stud[0]}')\n"
   ]
  },
  {
   "cell_type": "code",
   "execution_count": 35,
   "metadata": {},
   "outputs": [
    {
     "name": "stdout",
     "output_type": "stream",
     "text": [
      "Enter Your Name=aa\n",
      "Enter Marks of Physics=2\n",
      "Enter Marks of Maths=3\n",
      "Enter Marks of Computer=3\n",
      "Name of Student is aa \n",
      "Your Obtained Marks are 8\n",
      "Your Percentage is 2.67\n",
      "Your Grade is You Are Fail\n"
     ]
    },
    {
     "data": {
      "text/plain": [
       "('aa', 8, 2.67, 'You Are Fail')"
      ]
     },
     "execution_count": 35,
     "metadata": {},
     "output_type": "execute_result"
    }
   ],
   "source": [
    "def result(name,m1,m2,m3):\n",
    "    t_marks=m1+m2+m3\n",
    "    percent=round((t_marks/300)*100,2)\n",
    "    if percent>=80:\n",
    "        grade='A+'\n",
    "    elif percent>=70:\n",
    "        grade='A'\n",
    "    elif percent>=60:\n",
    "        grade='B'\n",
    "    elif percent>=50:\n",
    "        grade='C'\n",
    "    else:\n",
    "        grade='You Are Fail'\n",
    "    return name,t_marks,percent,grade\n",
    "\n",
    "nam=input('Enter Your Name=')\n",
    "mark1=int(input('Enter Marks of Physics='))\n",
    "mark2=int(input('Enter Marks of Maths='))\n",
    "mark3=int(input('Enter Marks of Computer='))    \n",
    "natija=result(nam,mark1,mark2,mark3)\n",
    "print(f'Name of Student is {natija[0]} \\nYour Obtained Marks are {natija[1]}\\nYour Percentage is {natija[2]}\\nYour Grade is {natija[3]}')\n",
    "natija"
   ]
  },
  {
   "cell_type": "markdown",
   "metadata": {},
   "source": []
  }
 ],
 "metadata": {
  "kernelspec": {
   "display_name": "Python 3",
   "language": "python",
   "name": "python3"
  },
  "language_info": {
   "codemirror_mode": {
    "name": "ipython",
    "version": 3
   },
   "file_extension": ".py",
   "mimetype": "text/x-python",
   "name": "python",
   "nbconvert_exporter": "python",
   "pygments_lexer": "ipython3",
   "version": "3.7.1"
  }
 },
 "nbformat": 4,
 "nbformat_minor": 2
}
