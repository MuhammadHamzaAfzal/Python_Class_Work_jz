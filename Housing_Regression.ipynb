{
  "nbformat": 4,
  "nbformat_minor": 0,
  "metadata": {
    "colab": {
      "name": "Housing Regression.ipynb",
      "provenance": [],
      "include_colab_link": true
    },
    "kernelspec": {
      "name": "python3",
      "display_name": "Python 3"
    }
  },
  "cells": [
    {
      "cell_type": "markdown",
      "metadata": {
        "id": "view-in-github",
        "colab_type": "text"
      },
      "source": [
        "<a href=\"https://colab.research.google.com/github/MuhammadHamzaAfzal/Python_Class_Work_jz/blob/master/Housing_Regression.ipynb\" target=\"_parent\"><img src=\"https://colab.research.google.com/assets/colab-badge.svg\" alt=\"Open In Colab\"/></a>"
      ]
    },
    {
      "cell_type": "code",
      "metadata": {
        "id": "2OJYLTD-x5om",
        "colab_type": "code",
        "colab": {}
      },
      "source": [
        "import numpy\n",
        "import pandas\n",
        "from tensorflow.keras import models\n",
        "from tensorflow.keras import layers\n",
        "from keras.models import Sequential\n",
        "from keras.layers import Dense\n",
        "from keras.wrappers.scikit_learn import KerasRegressor\n",
        "from sklearn.model_selection import cross_val_score\n",
        "from sklearn.model_selection import KFold\n",
        "from sklearn.preprocessing import StandardScaler\n",
        "from sklearn.pipeline import Pipeline\n",
        "\n"
      ],
      "execution_count": 0,
      "outputs": []
    },
    {
      "cell_type": "code",
      "metadata": {
        "id": "7MioMTKX5mHK",
        "colab_type": "code",
        "colab": {}
      },
      "source": [
        "# load dataset\n",
        "dataframe = pandas.read_csv(\"housing.csv\", delim_whitespace=True, header=None)\n",
        "dataset = dataframe.values\n",
        "# split into input (X) and output (Y) variables\n",
        "X = dataset[:,0:13]\n",
        "Y = dataset[:,13]\n"
      ],
      "execution_count": 0,
      "outputs": []
    },
    {
      "cell_type": "markdown",
      "metadata": {
        "id": "bLmujs_h7MjE",
        "colab_type": "text"
      },
      "source": [
        "# BaseLine Model"
      ]
    },
    {
      "cell_type": "code",
      "metadata": {
        "id": "l67WlXvM7Qbz",
        "colab_type": "code",
        "colab": {}
      },
      "source": [
        "# define base model\n",
        "def baseline_model():\n",
        "  # create model\n",
        "  model=models.Sequential()\n",
        "  model.add(layers.Dense(13,activation = 'relu',input_shape=(13,)))\n",
        "  model.add(layers.Dense(1))\n",
        "  # Compile model\n",
        "  model.compile(optimizer='adam',loss='mse',metrics=['mae'])\n",
        "  return model"
      ],
      "execution_count": 0,
      "outputs": []
    },
    {
      "cell_type": "code",
      "metadata": {
        "id": "_tyrGnYqARJ2",
        "colab_type": "code",
        "colab": {
          "base_uri": "https://localhost:8080/",
          "height": 110
        },
        "outputId": "d72688e9-1a38-4c94-fc90-b220bfd44bd6"
      },
      "source": [
        "# fix random seed for reproducibility\n",
        "seed = 7\n",
        "numpy.random.seed(seed)\n",
        "# evaluate model with standardized dataset\n",
        "estimator = KerasRegressor(build_fn=baseline_model, epochs=8, batch_size=5, verbose=0)\n",
        "kfold = KFold(n_splits=10, random_state=seed)\n",
        "results = cross_val_score(estimator, X, Y, cv=kfold)\n",
        "print(\"Results: %.2f (%.2f) MSE\" % (results.mean(), results.std()))"
      ],
      "execution_count": 7,
      "outputs": [
        {
          "output_type": "stream",
          "text": [
            "WARNING:tensorflow:From /usr/local/lib/python3.6/dist-packages/tensorflow_core/python/ops/resource_variable_ops.py:1630: calling BaseResourceVariable.__init__ (from tensorflow.python.ops.resource_variable_ops) with constraint is deprecated and will be removed in a future version.\n",
            "Instructions for updating:\n",
            "If using Keras pass *_constraint arguments to layers.\n",
            "Results: -86.20 (57.78) MSE\n"
          ],
          "name": "stdout"
        }
      ]
    },
    {
      "cell_type": "code",
      "metadata": {
        "id": "_hoxUKtXAZrZ",
        "colab_type": "code",
        "colab": {}
      },
      "source": [
        ""
      ],
      "execution_count": 0,
      "outputs": []
    },
    {
      "cell_type": "markdown",
      "metadata": {
        "id": "KxvQJjmIAxF7",
        "colab_type": "text"
      },
      "source": [
        "# Modeling The Standardized Dataset"
      ]
    },
    {
      "cell_type": "code",
      "metadata": {
        "id": "cFe77PpWAypx",
        "colab_type": "code",
        "colab": {
          "base_uri": "https://localhost:8080/",
          "height": 35
        },
        "outputId": "b26f3327-517d-42aa-9585-210e549e4f74"
      },
      "source": [
        "# evaluate model with standardized dataset\n",
        "numpy.random.seed(seed)\n",
        "estimators = []\n",
        "estimators.append(('standardize', StandardScaler()))\n",
        "estimators.append(('mlp', KerasRegressor(build_fn=baseline_model, epochs=50, batch_size=5, verbose=0)))\n",
        "pipeline = Pipeline(estimators)\n",
        "kfold = KFold(n_splits=10, random_state=seed)\n",
        "results = cross_val_score(pipeline, X, Y, cv=kfold)\n",
        "print(\"Standardized: %.2f (%.2f) MSE\" % (results.mean(), results.std()))\n"
      ],
      "execution_count": 8,
      "outputs": [
        {
          "output_type": "stream",
          "text": [
            "Standardized: -26.16 (26.28) MSE\n"
          ],
          "name": "stdout"
        }
      ]
    },
    {
      "cell_type": "markdown",
      "metadata": {
        "id": "YRALHatJA8cs",
        "colab_type": "text"
      },
      "source": [
        "# Extension Of Above Step"
      ]
    },
    {
      "cell_type": "code",
      "metadata": {
        "id": "jq_8msDEBBO5",
        "colab_type": "code",
        "colab": {
          "base_uri": "https://localhost:8080/",
          "height": 1000
        },
        "outputId": "f5439fee-f75e-45b7-9d32-4c5e71463266"
      },
      "source": [
        "# Normalization of output\n",
        "Y/=Y.max()\n",
        "Y"
      ],
      "execution_count": 9,
      "outputs": [
        {
          "output_type": "execute_result",
          "data": {
            "text/plain": [
              "array([0.48 , 0.432, 0.694, 0.668, 0.724, 0.574, 0.458, 0.542, 0.33 ,\n",
              "       0.378, 0.3  , 0.378, 0.434, 0.408, 0.364, 0.398, 0.462, 0.35 ,\n",
              "       0.404, 0.364, 0.272, 0.392, 0.304, 0.29 , 0.312, 0.278, 0.332,\n",
              "       0.296, 0.368, 0.42 , 0.254, 0.29 , 0.264, 0.262, 0.27 , 0.378,\n",
              "       0.4  , 0.42 , 0.494, 0.616, 0.698, 0.532, 0.506, 0.494, 0.424,\n",
              "       0.386, 0.4  , 0.332, 0.288, 0.388, 0.394, 0.41 , 0.5  , 0.468,\n",
              "       0.378, 0.708, 0.494, 0.632, 0.466, 0.392, 0.374, 0.32 , 0.444,\n",
              "       0.5  , 0.66 , 0.47 , 0.388, 0.44 , 0.348, 0.418, 0.484, 0.434,\n",
              "       0.456, 0.468, 0.482, 0.428, 0.4  , 0.416, 0.424, 0.406, 0.56 ,\n",
              "       0.478, 0.496, 0.458, 0.478, 0.532, 0.45 , 0.444, 0.472, 0.574,\n",
              "       0.452, 0.44 , 0.458, 0.5  , 0.412, 0.568, 0.428, 0.774, 0.876,\n",
              "       0.664, 0.55 , 0.53 , 0.372, 0.386, 0.402, 0.39 , 0.39 , 0.408,\n",
              "       0.396, 0.388, 0.434, 0.456, 0.376, 0.374, 0.37 , 0.366, 0.424,\n",
              "       0.384, 0.408, 0.386, 0.44 , 0.406, 0.41 , 0.346, 0.376, 0.428,\n",
              "       0.314, 0.324, 0.36 , 0.286, 0.384, 0.392, 0.46 , 0.368, 0.312,\n",
              "       0.362, 0.348, 0.342, 0.266, 0.356, 0.28 , 0.288, 0.268, 0.312,\n",
              "       0.236, 0.276, 0.312, 0.292, 0.356, 0.308, 0.43 , 0.392, 0.306,\n",
              "       0.388, 0.34 , 0.312, 0.262, 0.826, 0.486, 0.466, 0.54 , 1.   ,\n",
              "       1.   , 1.   , 0.454, 0.5  , 1.   , 0.476, 0.476, 0.446, 0.348,\n",
              "       0.382, 0.462, 0.472, 0.452, 0.588, 0.464, 0.492, 0.598, 0.744,\n",
              "       0.796, 0.724, 0.758, 0.65 , 0.528, 0.592, 1.   , 0.64 , 0.596,\n",
              "       0.698, 0.74 , 0.61 , 0.728, 0.622, 0.582, 1.   , 0.666, 0.606,\n",
              "       0.692, 0.698, 0.658, 0.482, 0.846, 0.97 , 1.   , 0.452, 0.488,\n",
              "       0.45 , 0.488, 0.4  , 0.434, 0.386, 0.448, 0.562, 0.474, 0.5  ,\n",
              "       0.466, 0.574, 0.43 , 0.46 , 0.534, 0.434, 0.55 , 0.602, 0.896,\n",
              "       1.   , 0.752, 0.632, 0.934, 0.63 , 0.486, 0.634, 0.834, 0.966,\n",
              "       0.58 , 0.48 , 0.502, 0.63 , 0.474, 0.466, 0.44 , 0.402, 0.444,\n",
              "       0.474, 0.352, 0.37 , 0.486, 0.41 , 0.49 , 0.524, 0.488, 0.496,\n",
              "       0.592, 0.856, 0.438, 0.418, 0.88 , 1.   , 0.72 , 0.602, 0.676,\n",
              "       0.862, 0.976, 0.62 , 0.73 , 0.456, 0.614, 1.   , 0.87 , 0.414,\n",
              "       0.422, 0.504, 0.488, 0.704, 0.648, 0.64 , 0.664, 0.662, 0.582,\n",
              "       0.702, 0.908, 0.708, 0.92 , 1.   , 0.644, 0.44 , 0.402, 0.464,\n",
              "       0.446, 0.496, 0.57 , 0.746, 0.558, 0.478, 0.434, 0.572, 0.542,\n",
              "       0.406, 0.45 , 0.58 , 0.496, 0.44 , 0.528, 0.662, 0.722, 0.568,\n",
              "       0.668, 0.564, 0.456, 0.406, 0.322, 0.442, 0.388, 0.432, 0.476,\n",
              "       0.324, 0.356, 0.396, 0.462, 0.42 , 0.476, 0.462, 0.408, 0.37 ,\n",
              "       0.5  , 0.492, 0.46 , 0.444, 0.386, 0.452, 0.396, 0.342, 0.388,\n",
              "       0.444, 0.414, 0.422, 0.39 , 0.37 , 0.412, 0.38 , 0.374, 0.654,\n",
              "       0.33 , 0.478, 0.624, 0.35 , 0.344, 0.462, 0.49 , 0.532, 0.458,\n",
              "       0.482, 0.372, 0.602, 0.364, 0.412, 0.356, 0.434, 0.454, 0.452,\n",
              "       0.5  , 0.398, 0.416, 0.336, 0.438, 0.55 , 0.438, 0.462, 1.   ,\n",
              "       1.   , 1.   , 1.   , 1.   , 0.276, 0.276, 0.3  , 0.278, 0.266,\n",
              "       0.262, 0.204, 0.208, 0.218, 0.226, 0.246, 0.176, 0.144, 0.21 ,\n",
              "       0.148, 0.204, 0.23 , 0.302, 0.464, 0.194, 0.276, 0.254, 0.262,\n",
              "       0.25 , 0.17 , 0.1  , 0.126, 0.112, 0.144, 0.242, 0.166, 0.17 ,\n",
              "       0.1  , 0.238, 0.558, 0.344, 0.55 , 0.3  , 0.344, 0.358, 0.326,\n",
              "       0.14 , 0.144, 0.15 , 0.208, 0.176, 0.168, 0.334, 0.284, 0.416,\n",
              "       0.268, 0.234, 0.166, 0.204, 0.218, 0.22 , 0.19 , 0.29 , 0.282,\n",
              "       0.322, 0.286, 0.234, 0.268, 0.192, 0.174, 0.168, 0.256, 0.21 ,\n",
              "       0.342, 0.368, 0.308, 0.216, 0.236, 0.298, 0.252, 0.282, 0.26 ,\n",
              "       0.268, 0.304, 0.322, 0.356, 0.298, 0.282, 0.254, 0.27 , 0.298,\n",
              "       0.4  , 0.328, 0.354, 0.39 , 0.404, 0.428, 0.398, 0.38 , 0.382,\n",
              "       0.382, 0.402, 0.398, 0.392, 0.464, 0.596, 0.276, 0.266, 0.334,\n",
              "       0.24 , 0.292, 0.428, 0.46 , 0.474, 0.5  , 0.436, 0.412, 0.424,\n",
              "       0.382, 0.412, 0.304, 0.14 , 0.162, 0.272, 0.402, 0.436, 0.49 ,\n",
              "       0.462, 0.394, 0.366, 0.424, 0.35 , 0.336, 0.448, 0.412, 0.478,\n",
              "       0.44 , 0.238])"
            ]
          },
          "metadata": {
            "tags": []
          },
          "execution_count": 9
        }
      ]
    },
    {
      "cell_type": "code",
      "metadata": {
        "id": "r5XIpMAeBQeY",
        "colab_type": "code",
        "colab": {
          "base_uri": "https://localhost:8080/",
          "height": 35
        },
        "outputId": "e9161f0b-0400-4cfa-8a52-ff47e47c42cb"
      },
      "source": [
        "# define base model\n",
        "def baseline_model():\n",
        "  # create model\n",
        "  model=models.Sequential()\n",
        "  model.add(layers.Dense(13,activation = 'relu',input_shape=(13,)))\n",
        "  model.add(layers.Dense(1,activation= \"sigmoid\"))\n",
        "  # Compile model\n",
        "  model.compile(optimizer='adam',loss='mse',metrics=['mae'])\n",
        "  return model\n",
        "  # evaluate model with standardized dataset\n",
        "estimator = KerasRegressor(build_fn=baseline_model, epochs=8, batch_size=5, verbose=0)\n",
        "kfold = KFold(n_splits=10, random_state=seed)\n",
        "results = cross_val_score(estimator, X, Y, cv=kfold)\n",
        "print(\"Results: %.2f (%.2f) MSE\" % (results.mean(), results.std()))"
      ],
      "execution_count": 10,
      "outputs": [
        {
          "output_type": "stream",
          "text": [
            "Results: -0.29 (0.14) MSE\n"
          ],
          "name": "stdout"
        }
      ]
    },
    {
      "cell_type": "markdown",
      "metadata": {
        "id": "q0OpaMzLBwQX",
        "colab_type": "text"
      },
      "source": [
        "# Deeper Network Topology\n"
      ]
    },
    {
      "cell_type": "code",
      "metadata": {
        "id": "Fd_ClNSOCAR6",
        "colab_type": "code",
        "colab": {
          "base_uri": "https://localhost:8080/",
          "height": 35
        },
        "outputId": "4f2fc46f-e982-416c-8c9a-c86828487147"
      },
      "source": [
        "def deeper_model():\n",
        "  # create model\n",
        "  model=models.Sequential()\n",
        "  model.add(layers.Dense(13,activation = 'relu',input_shape=(13,)))\n",
        "  model.add(layers.Dense(6,activation = 'relu'))\n",
        "  model.add(layers.Dense(1,activation= 'sigmoid'))\n",
        "  # Compile model\n",
        "  model.compile(optimizer='adam',loss='mse',metrics=['mae'])\n",
        "  return model\n",
        "# evaluate model with standardized dataset\n",
        "numpy.random.seed(seed)\n",
        "estimators = []\n",
        "estimators.append(('standardize', StandardScaler()))\n",
        "estimators.append(('mlp', KerasRegressor(build_fn=deeper_model, epochs=50, batch_size=5,\n",
        "verbose=0)))\n",
        "pipeline = Pipeline(estimators)\n",
        "kfold = KFold(n_splits=10, random_state=seed)\n",
        "results = cross_val_score(pipeline, X, Y, cv=kfold)\n",
        "print(\"Larger: %.2f (%.2f) MSE\" % (results.mean(), results.std()))"
      ],
      "execution_count": 11,
      "outputs": [
        {
          "output_type": "stream",
          "text": [
            "Larger: -0.01 (0.01) MSE\n"
          ],
          "name": "stdout"
        }
      ]
    },
    {
      "cell_type": "markdown",
      "metadata": {
        "id": "46ETdnnRCWlD",
        "colab_type": "text"
      },
      "source": [
        "# Wider Network Topology"
      ]
    },
    {
      "cell_type": "code",
      "metadata": {
        "id": "HDcx-MY-C6PU",
        "colab_type": "code",
        "colab": {}
      },
      "source": [
        ""
      ],
      "execution_count": 0,
      "outputs": []
    }
  ]
}