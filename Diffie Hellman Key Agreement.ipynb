{
 "cells": [
  {
   "cell_type": "code",
   "execution_count": 11,
   "metadata": {},
   "outputs": [
    {
     "name": "stdout",
     "output_type": "stream",
     "text": [
      "*****Welcome to Diffie Hellman Key Agreement*****\n",
      "Instructions: P & G must be prime and greater than 300\n",
      "Enter the value of P=23\n",
      "Enter the value of G=7\n",
      "Sender Enter his secret no=3\n",
      "Receiver Enter his secret no=6\n",
      "21\n",
      "4\n",
      "18\n",
      "18\n",
      "Here is your Shared key= 18 18\n"
     ]
    }
   ],
   "source": [
    "print('*****Welcome to Diffie Hellman Key Agreement*****')\n",
    "print('Instructions: P & G must be prime and greater than 300')\n",
    "p=int(input('Enter the value of P='))\n",
    "g=int(input('Enter the value of G='))\n",
    "x=int(input('Sender Enter his secret no='))\n",
    "y=int(input('Receiver Enter his secret no='))\n",
    "r1=((g**x)%p)\n",
    "print(r1)\n",
    "r2=((g**y)%p)\n",
    "print(r2)\n",
    "k1=((r2**x)%p)\n",
    "print(k1)\n",
    "k2=((r1**y)%p)\n",
    "print(k2)\n",
    "print('Here is your Shared key=',k1,k2)\n",
    "\n"
   ]
  },
  {
   "cell_type": "code",
   "execution_count": null,
   "metadata": {},
   "outputs": [],
   "source": []
  },
  {
   "cell_type": "code",
   "execution_count": null,
   "metadata": {},
   "outputs": [],
   "source": []
  }
 ],
 "metadata": {
  "kernelspec": {
   "display_name": "Python 3",
   "language": "python",
   "name": "python3"
  },
  "language_info": {
   "codemirror_mode": {
    "name": "ipython",
    "version": 3
   },
   "file_extension": ".py",
   "mimetype": "text/x-python",
   "name": "python",
   "nbconvert_exporter": "python",
   "pygments_lexer": "ipython3",
   "version": "3.7.1"
  }
 },
 "nbformat": 4,
 "nbformat_minor": 2
}
